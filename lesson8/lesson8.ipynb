{
 "cells": [
  {
   "cell_type": "markdown",
   "id": "f2963f4d",
   "metadata": {},
   "source": [
    "## Dmitry Gromov"
   ]
  },
  {
   "cell_type": "markdown",
   "id": "367f3569",
   "metadata": {},
   "source": [
    "### Lesson8"
   ]
  },
  {
   "cell_type": "markdown",
   "id": "dc5ab6ef",
   "metadata": {},
   "source": [
    "****"
   ]
  },
  {
   "cell_type": "markdown",
   "id": "234a93c5",
   "metadata": {},
   "source": [
    "### Задание 1"
   ]
  },
  {
   "cell_type": "markdown",
   "id": "b78046de",
   "metadata": {},
   "source": [
    "Импортируйте библиотеки pandas, numpy и matplotlib.\n",
    "\n",
    "Загрузите \"Boston House Prices dataset\" из встроенных наборов \n",
    "данных библиотеки sklearn.\n",
    "\n",
    "Создайте датафреймы X и y из этих данных.\n",
    "\n",
    "Разбейте эти датафреймы на тренировочные (X_train, y_train) и тестовые (X_test, y_test)\n",
    "с помощью функции train_test_split так, чтобы размер тестовой выборки\n",
    "составлял 20% от всех данных, \n",
    "при этом аргумент random_state должен быть равен 42.\n",
    "\n",
    "Масштабируйте данные с помощью StandardScaler.\n",
    "\n",
    "Постройте модель TSNE на тренировочный данных с параметрами:\n",
    "n_components=2, learning_rate=250, random_state=42.\n",
    "\n",
    "Постройте диаграмму рассеяния на этих данных.\n"
   ]
  },
  {
   "cell_type": "code",
   "execution_count": 180,
   "id": "a894d9da",
   "metadata": {},
   "outputs": [],
   "source": [
    "import numpy as np\n",
    "import pandas as pd\n",
    "from matplotlib import pyplot as plt\n",
    "\n",
    "from sklearn.datasets import load_boston\n",
    "from sklearn.model_selection import train_test_split\n",
    "from sklearn.preprocessing import StandardScaler\n",
    "from sklearn.manifold import TSNE\n",
    "\n",
    "%matplotlib inline\n"
   ]
  },
  {
   "cell_type": "markdown",
   "id": "0d5f61f1",
   "metadata": {},
   "source": [
    "Загружаем \"Boston House Prices dataset\""
   ]
  },
  {
   "cell_type": "code",
   "execution_count": 181,
   "id": "096ca692",
   "metadata": {},
   "outputs": [],
   "source": [
    "boston = load_boston()"
   ]
  },
  {
   "cell_type": "code",
   "execution_count": 182,
   "id": "d8c0ac85",
   "metadata": {},
   "outputs": [
    {
     "data": {
      "text/plain": [
       "dict_keys(['data', 'target', 'feature_names', 'DESCR', 'filename'])"
      ]
     },
     "execution_count": 182,
     "metadata": {},
     "output_type": "execute_result"
    }
   ],
   "source": [
    "boston.keys()"
   ]
  },
  {
   "cell_type": "code",
   "execution_count": 183,
   "id": "831881a9",
   "metadata": {},
   "outputs": [
    {
     "name": "stdout",
     "output_type": "stream",
     "text": [
      ".. _boston_dataset:\n",
      "\n",
      "Boston house prices dataset\n",
      "---------------------------\n",
      "\n",
      "**Data Set Characteristics:**  \n",
      "\n",
      "    :Number of Instances: 506 \n",
      "\n",
      "    :Number of Attributes: 13 numeric/categorical predictive. Median Value (attribute 14) is usually the target.\n",
      "\n",
      "    :Attribute Information (in order):\n",
      "        - CRIM     per capita crime rate by town\n",
      "        - ZN       proportion of residential land zoned for lots over 25,000 sq.ft.\n",
      "        - INDUS    proportion of non-retail business acres per town\n",
      "        - CHAS     Charles River dummy variable (= 1 if tract bounds river; 0 otherwise)\n",
      "        - NOX      nitric oxides concentration (parts per 10 million)\n",
      "        - RM       average number of rooms per dwelling\n",
      "        - AGE      proportion of owner-occupied units built prior to 1940\n",
      "        - DIS      weighted distances to five Boston employment centres\n",
      "        - RAD      index of accessibility to radial highways\n",
      "        - TAX      full-value property-tax rate per $10,000\n",
      "        - PTRATIO  pupil-teacher ratio by town\n",
      "        - B        1000(Bk - 0.63)^2 where Bk is the proportion of black people by town\n",
      "        - LSTAT    % lower status of the population\n",
      "        - MEDV     Median value of owner-occupied homes in $1000's\n",
      "\n",
      "    :Missing Attribute Values: None\n",
      "\n",
      "    :Creator: Harrison, D. and Rubinfeld, D.L.\n",
      "\n",
      "This is a copy of UCI ML housing dataset.\n",
      "https://archive.ics.uci.edu/ml/machine-learning-databases/housing/\n",
      "\n",
      "\n",
      "This dataset was taken from the StatLib library which is maintained at Carnegie Mellon University.\n",
      "\n",
      "The Boston house-price data of Harrison, D. and Rubinfeld, D.L. 'Hedonic\n",
      "prices and the demand for clean air', J. Environ. Economics & Management,\n",
      "vol.5, 81-102, 1978.   Used in Belsley, Kuh & Welsch, 'Regression diagnostics\n",
      "...', Wiley, 1980.   N.B. Various transformations are used in the table on\n",
      "pages 244-261 of the latter.\n",
      "\n",
      "The Boston house-price data has been used in many machine learning papers that address regression\n",
      "problems.   \n",
      "     \n",
      ".. topic:: References\n",
      "\n",
      "   - Belsley, Kuh & Welsch, 'Regression diagnostics: Identifying Influential Data and Sources of Collinearity', Wiley, 1980. 244-261.\n",
      "   - Quinlan,R. (1993). Combining Instance-Based and Model-Based Learning. In Proceedings on the Tenth International Conference of Machine Learning, 236-243, University of Massachusetts, Amherst. Morgan Kaufmann.\n",
      "\n"
     ]
    }
   ],
   "source": [
    "for line in str.split(boston.DESCR,sep='\\n'):\n",
    "    print(line)"
   ]
  },
  {
   "cell_type": "code",
   "execution_count": 184,
   "id": "9196be18",
   "metadata": {},
   "outputs": [],
   "source": [
    "X, y = load_boston(return_X_y=True)"
   ]
  },
  {
   "cell_type": "markdown",
   "id": "42cb1411",
   "metadata": {},
   "source": [
    "Посмотрим на X в виде DataFrame"
   ]
  },
  {
   "cell_type": "code",
   "execution_count": 185,
   "id": "9caff6fc",
   "metadata": {},
   "outputs": [
    {
     "data": {
      "text/html": [
       "<div>\n",
       "<style scoped>\n",
       "    .dataframe tbody tr th:only-of-type {\n",
       "        vertical-align: middle;\n",
       "    }\n",
       "\n",
       "    .dataframe tbody tr th {\n",
       "        vertical-align: top;\n",
       "    }\n",
       "\n",
       "    .dataframe thead th {\n",
       "        text-align: right;\n",
       "    }\n",
       "</style>\n",
       "<table border=\"1\" class=\"dataframe\">\n",
       "  <thead>\n",
       "    <tr style=\"text-align: right;\">\n",
       "      <th></th>\n",
       "      <th>CRIM</th>\n",
       "      <th>ZN</th>\n",
       "      <th>INDUS</th>\n",
       "      <th>CHAS</th>\n",
       "      <th>NOX</th>\n",
       "      <th>RM</th>\n",
       "      <th>AGE</th>\n",
       "      <th>DIS</th>\n",
       "      <th>RAD</th>\n",
       "      <th>TAX</th>\n",
       "      <th>PTRATIO</th>\n",
       "      <th>B</th>\n",
       "      <th>LSTAT</th>\n",
       "    </tr>\n",
       "  </thead>\n",
       "  <tbody>\n",
       "    <tr>\n",
       "      <th>0</th>\n",
       "      <td>0.00632</td>\n",
       "      <td>18.0</td>\n",
       "      <td>2.31</td>\n",
       "      <td>0.0</td>\n",
       "      <td>0.538</td>\n",
       "      <td>6.575</td>\n",
       "      <td>65.2</td>\n",
       "      <td>4.0900</td>\n",
       "      <td>1.0</td>\n",
       "      <td>296.0</td>\n",
       "      <td>15.3</td>\n",
       "      <td>396.90</td>\n",
       "      <td>4.98</td>\n",
       "    </tr>\n",
       "    <tr>\n",
       "      <th>1</th>\n",
       "      <td>0.02731</td>\n",
       "      <td>0.0</td>\n",
       "      <td>7.07</td>\n",
       "      <td>0.0</td>\n",
       "      <td>0.469</td>\n",
       "      <td>6.421</td>\n",
       "      <td>78.9</td>\n",
       "      <td>4.9671</td>\n",
       "      <td>2.0</td>\n",
       "      <td>242.0</td>\n",
       "      <td>17.8</td>\n",
       "      <td>396.90</td>\n",
       "      <td>9.14</td>\n",
       "    </tr>\n",
       "    <tr>\n",
       "      <th>2</th>\n",
       "      <td>0.02729</td>\n",
       "      <td>0.0</td>\n",
       "      <td>7.07</td>\n",
       "      <td>0.0</td>\n",
       "      <td>0.469</td>\n",
       "      <td>7.185</td>\n",
       "      <td>61.1</td>\n",
       "      <td>4.9671</td>\n",
       "      <td>2.0</td>\n",
       "      <td>242.0</td>\n",
       "      <td>17.8</td>\n",
       "      <td>392.83</td>\n",
       "      <td>4.03</td>\n",
       "    </tr>\n",
       "    <tr>\n",
       "      <th>3</th>\n",
       "      <td>0.03237</td>\n",
       "      <td>0.0</td>\n",
       "      <td>2.18</td>\n",
       "      <td>0.0</td>\n",
       "      <td>0.458</td>\n",
       "      <td>6.998</td>\n",
       "      <td>45.8</td>\n",
       "      <td>6.0622</td>\n",
       "      <td>3.0</td>\n",
       "      <td>222.0</td>\n",
       "      <td>18.7</td>\n",
       "      <td>394.63</td>\n",
       "      <td>2.94</td>\n",
       "    </tr>\n",
       "    <tr>\n",
       "      <th>4</th>\n",
       "      <td>0.06905</td>\n",
       "      <td>0.0</td>\n",
       "      <td>2.18</td>\n",
       "      <td>0.0</td>\n",
       "      <td>0.458</td>\n",
       "      <td>7.147</td>\n",
       "      <td>54.2</td>\n",
       "      <td>6.0622</td>\n",
       "      <td>3.0</td>\n",
       "      <td>222.0</td>\n",
       "      <td>18.7</td>\n",
       "      <td>396.90</td>\n",
       "      <td>5.33</td>\n",
       "    </tr>\n",
       "  </tbody>\n",
       "</table>\n",
       "</div>"
      ],
      "text/plain": [
       "      CRIM    ZN  INDUS  CHAS    NOX     RM   AGE     DIS  RAD    TAX  \\\n",
       "0  0.00632  18.0   2.31   0.0  0.538  6.575  65.2  4.0900  1.0  296.0   \n",
       "1  0.02731   0.0   7.07   0.0  0.469  6.421  78.9  4.9671  2.0  242.0   \n",
       "2  0.02729   0.0   7.07   0.0  0.469  7.185  61.1  4.9671  2.0  242.0   \n",
       "3  0.03237   0.0   2.18   0.0  0.458  6.998  45.8  6.0622  3.0  222.0   \n",
       "4  0.06905   0.0   2.18   0.0  0.458  7.147  54.2  6.0622  3.0  222.0   \n",
       "\n",
       "   PTRATIO       B  LSTAT  \n",
       "0     15.3  396.90   4.98  \n",
       "1     17.8  396.90   9.14  \n",
       "2     17.8  392.83   4.03  \n",
       "3     18.7  394.63   2.94  \n",
       "4     18.7  396.90   5.33  "
      ]
     },
     "execution_count": 185,
     "metadata": {},
     "output_type": "execute_result"
    }
   ],
   "source": [
    "df = pd.DataFrame(X, columns=boston.feature_names)\n",
    "df.head()"
   ]
  },
  {
   "cell_type": "markdown",
   "id": "e93e7963",
   "metadata": {},
   "source": [
    "Смотрим, все ли данные присутсвуют "
   ]
  },
  {
   "cell_type": "code",
   "execution_count": 186,
   "id": "4e007915",
   "metadata": {},
   "outputs": [
    {
     "data": {
      "text/plain": [
       "CRIM       0\n",
       "ZN         0\n",
       "INDUS      0\n",
       "CHAS       0\n",
       "NOX        0\n",
       "RM         0\n",
       "AGE        0\n",
       "DIS        0\n",
       "RAD        0\n",
       "TAX        0\n",
       "PTRATIO    0\n",
       "B          0\n",
       "LSTAT      0\n",
       "dtype: int64"
      ]
     },
     "execution_count": 186,
     "metadata": {},
     "output_type": "execute_result"
    }
   ],
   "source": [
    "df.isna().sum()"
   ]
  },
  {
   "cell_type": "markdown",
   "id": "62b816e3",
   "metadata": {},
   "source": [
    "Разбиваем данные"
   ]
  },
  {
   "cell_type": "code",
   "execution_count": 187,
   "id": "cb2db937",
   "metadata": {},
   "outputs": [],
   "source": [
    "X_train, X_test, y_train, y_test = train_test_split(X, y, train_size=0.2, random_state=42)"
   ]
  },
  {
   "cell_type": "code",
   "execution_count": 188,
   "id": "4e6b637a",
   "metadata": {},
   "outputs": [
    {
     "data": {
      "text/plain": [
       "((101, 13), (405, 13), (101,), (405,))"
      ]
     },
     "execution_count": 188,
     "metadata": {},
     "output_type": "execute_result"
    }
   ],
   "source": [
    "X_train.shape, X_test.shape, y_train.shape, y_test.shape"
   ]
  },
  {
   "cell_type": "markdown",
   "id": "3b5d362a",
   "metadata": {},
   "source": [
    "Масштабируем X_train и смотрим на результат"
   ]
  },
  {
   "cell_type": "code",
   "execution_count": 189,
   "id": "09e937de",
   "metadata": {},
   "outputs": [
    {
     "data": {
      "text/html": [
       "<div>\n",
       "<style scoped>\n",
       "    .dataframe tbody tr th:only-of-type {\n",
       "        vertical-align: middle;\n",
       "    }\n",
       "\n",
       "    .dataframe tbody tr th {\n",
       "        vertical-align: top;\n",
       "    }\n",
       "\n",
       "    .dataframe thead th {\n",
       "        text-align: right;\n",
       "    }\n",
       "</style>\n",
       "<table border=\"1\" class=\"dataframe\">\n",
       "  <thead>\n",
       "    <tr style=\"text-align: right;\">\n",
       "      <th></th>\n",
       "      <th>CRIM</th>\n",
       "      <th>ZN</th>\n",
       "      <th>INDUS</th>\n",
       "      <th>CHAS</th>\n",
       "      <th>NOX</th>\n",
       "      <th>RM</th>\n",
       "      <th>AGE</th>\n",
       "      <th>DIS</th>\n",
       "      <th>RAD</th>\n",
       "      <th>TAX</th>\n",
       "      <th>PTRATIO</th>\n",
       "      <th>B</th>\n",
       "      <th>LSTAT</th>\n",
       "    </tr>\n",
       "  </thead>\n",
       "  <tbody>\n",
       "    <tr>\n",
       "      <th>0</th>\n",
       "      <td>-0.465832</td>\n",
       "      <td>-0.555979</td>\n",
       "      <td>0.466274</td>\n",
       "      <td>-0.251312</td>\n",
       "      <td>-1.042969</td>\n",
       "      <td>0.635069</td>\n",
       "      <td>-1.238995</td>\n",
       "      <td>1.096984</td>\n",
       "      <td>-0.599435</td>\n",
       "      <td>-0.716467</td>\n",
       "      <td>-1.066360</td>\n",
       "      <td>0.440787</td>\n",
       "      <td>-0.883104</td>\n",
       "    </tr>\n",
       "    <tr>\n",
       "      <th>1</th>\n",
       "      <td>0.615201</td>\n",
       "      <td>-0.555979</td>\n",
       "      <td>1.097655</td>\n",
       "      <td>-0.251312</td>\n",
       "      <td>1.375414</td>\n",
       "      <td>0.046311</td>\n",
       "      <td>0.575265</td>\n",
       "      <td>-0.546855</td>\n",
       "      <td>1.724669</td>\n",
       "      <td>1.579520</td>\n",
       "      <td>0.840680</td>\n",
       "      <td>0.440787</td>\n",
       "      <td>0.321455</td>\n",
       "    </tr>\n",
       "    <tr>\n",
       "      <th>2</th>\n",
       "      <td>-0.451789</td>\n",
       "      <td>0.591615</td>\n",
       "      <td>-0.751172</td>\n",
       "      <td>-0.251312</td>\n",
       "      <td>-1.095543</td>\n",
       "      <td>0.243651</td>\n",
       "      <td>-2.015036</td>\n",
       "      <td>1.828864</td>\n",
       "      <td>-0.250819</td>\n",
       "      <td>-0.466771</td>\n",
       "      <td>0.341217</td>\n",
       "      <td>0.216900</td>\n",
       "      <td>-1.301267</td>\n",
       "    </tr>\n",
       "    <tr>\n",
       "      <th>3</th>\n",
       "      <td>-0.440941</td>\n",
       "      <td>-0.555979</td>\n",
       "      <td>-0.172658</td>\n",
       "      <td>-0.251312</td>\n",
       "      <td>0.253845</td>\n",
       "      <td>-0.591373</td>\n",
       "      <td>-0.836991</td>\n",
       "      <td>-0.726576</td>\n",
       "      <td>-0.367024</td>\n",
       "      <td>-0.095272</td>\n",
       "      <td>0.386623</td>\n",
       "      <td>0.440787</td>\n",
       "      <td>0.259042</td>\n",
       "    </tr>\n",
       "    <tr>\n",
       "      <th>4</th>\n",
       "      <td>0.811409</td>\n",
       "      <td>-0.555979</td>\n",
       "      <td>1.097655</td>\n",
       "      <td>-0.251312</td>\n",
       "      <td>0.867203</td>\n",
       "      <td>-0.129827</td>\n",
       "      <td>-0.039975</td>\n",
       "      <td>-0.430165</td>\n",
       "      <td>1.724669</td>\n",
       "      <td>1.579520</td>\n",
       "      <td>0.840680</td>\n",
       "      <td>0.440787</td>\n",
       "      <td>0.201311</td>\n",
       "    </tr>\n",
       "    <tr>\n",
       "      <th>...</th>\n",
       "      <td>...</td>\n",
       "      <td>...</td>\n",
       "      <td>...</td>\n",
       "      <td>...</td>\n",
       "      <td>...</td>\n",
       "      <td>...</td>\n",
       "      <td>...</td>\n",
       "      <td>...</td>\n",
       "      <td>...</td>\n",
       "      <td>...</td>\n",
       "      <td>...</td>\n",
       "      <td>...</td>\n",
       "      <td>...</td>\n",
       "    </tr>\n",
       "    <tr>\n",
       "      <th>96</th>\n",
       "      <td>-0.458894</td>\n",
       "      <td>-0.555979</td>\n",
       "      <td>-0.343342</td>\n",
       "      <td>-0.251312</td>\n",
       "      <td>-0.315702</td>\n",
       "      <td>-0.738155</td>\n",
       "      <td>0.886381</td>\n",
       "      <td>-0.813558</td>\n",
       "      <td>-0.483229</td>\n",
       "      <td>-0.137903</td>\n",
       "      <td>1.158520</td>\n",
       "      <td>0.426900</td>\n",
       "      <td>1.050119</td>\n",
       "    </tr>\n",
       "    <tr>\n",
       "      <th>97</th>\n",
       "      <td>-0.437696</td>\n",
       "      <td>0.487289</td>\n",
       "      <td>-0.585019</td>\n",
       "      <td>-0.251312</td>\n",
       "      <td>-0.806388</td>\n",
       "      <td>-0.705537</td>\n",
       "      <td>-0.854470</td>\n",
       "      <td>0.316645</td>\n",
       "      <td>-0.715640</td>\n",
       "      <td>-1.118417</td>\n",
       "      <td>0.114189</td>\n",
       "      <td>0.347642</td>\n",
       "      <td>0.166984</td>\n",
       "    </tr>\n",
       "    <tr>\n",
       "      <th>98</th>\n",
       "      <td>-0.484768</td>\n",
       "      <td>3.617091</td>\n",
       "      <td>-1.332706</td>\n",
       "      <td>-0.251312</td>\n",
       "      <td>-1.060494</td>\n",
       "      <td>0.564940</td>\n",
       "      <td>-1.287934</td>\n",
       "      <td>2.311569</td>\n",
       "      <td>-0.599435</td>\n",
       "      <td>-0.771278</td>\n",
       "      <td>-0.612303</td>\n",
       "      <td>0.373497</td>\n",
       "      <td>-0.926793</td>\n",
       "    </tr>\n",
       "    <tr>\n",
       "      <th>99</th>\n",
       "      <td>1.361580</td>\n",
       "      <td>-0.555979</td>\n",
       "      <td>1.097655</td>\n",
       "      <td>-0.251312</td>\n",
       "      <td>1.611995</td>\n",
       "      <td>0.555154</td>\n",
       "      <td>0.980764</td>\n",
       "      <td>-0.857533</td>\n",
       "      <td>1.724669</td>\n",
       "      <td>1.579520</td>\n",
       "      <td>0.840680</td>\n",
       "      <td>-2.800098</td>\n",
       "      <td>1.769421</td>\n",
       "    </tr>\n",
       "    <tr>\n",
       "      <th>100</th>\n",
       "      <td>-0.449358</td>\n",
       "      <td>-0.555979</td>\n",
       "      <td>-0.343342</td>\n",
       "      <td>-0.251312</td>\n",
       "      <td>-0.315702</td>\n",
       "      <td>0.189831</td>\n",
       "      <td>0.659161</td>\n",
       "      <td>-0.556893</td>\n",
       "      <td>-0.483229</td>\n",
       "      <td>-0.137903</td>\n",
       "      <td>1.158520</td>\n",
       "      <td>-3.240985</td>\n",
       "      <td>-0.202809</td>\n",
       "    </tr>\n",
       "  </tbody>\n",
       "</table>\n",
       "<p>101 rows × 13 columns</p>\n",
       "</div>"
      ],
      "text/plain": [
       "         CRIM        ZN     INDUS      CHAS       NOX        RM       AGE  \\\n",
       "0   -0.465832 -0.555979  0.466274 -0.251312 -1.042969  0.635069 -1.238995   \n",
       "1    0.615201 -0.555979  1.097655 -0.251312  1.375414  0.046311  0.575265   \n",
       "2   -0.451789  0.591615 -0.751172 -0.251312 -1.095543  0.243651 -2.015036   \n",
       "3   -0.440941 -0.555979 -0.172658 -0.251312  0.253845 -0.591373 -0.836991   \n",
       "4    0.811409 -0.555979  1.097655 -0.251312  0.867203 -0.129827 -0.039975   \n",
       "..        ...       ...       ...       ...       ...       ...       ...   \n",
       "96  -0.458894 -0.555979 -0.343342 -0.251312 -0.315702 -0.738155  0.886381   \n",
       "97  -0.437696  0.487289 -0.585019 -0.251312 -0.806388 -0.705537 -0.854470   \n",
       "98  -0.484768  3.617091 -1.332706 -0.251312 -1.060494  0.564940 -1.287934   \n",
       "99   1.361580 -0.555979  1.097655 -0.251312  1.611995  0.555154  0.980764   \n",
       "100 -0.449358 -0.555979 -0.343342 -0.251312 -0.315702  0.189831  0.659161   \n",
       "\n",
       "          DIS       RAD       TAX   PTRATIO         B     LSTAT  \n",
       "0    1.096984 -0.599435 -0.716467 -1.066360  0.440787 -0.883104  \n",
       "1   -0.546855  1.724669  1.579520  0.840680  0.440787  0.321455  \n",
       "2    1.828864 -0.250819 -0.466771  0.341217  0.216900 -1.301267  \n",
       "3   -0.726576 -0.367024 -0.095272  0.386623  0.440787  0.259042  \n",
       "4   -0.430165  1.724669  1.579520  0.840680  0.440787  0.201311  \n",
       "..        ...       ...       ...       ...       ...       ...  \n",
       "96  -0.813558 -0.483229 -0.137903  1.158520  0.426900  1.050119  \n",
       "97   0.316645 -0.715640 -1.118417  0.114189  0.347642  0.166984  \n",
       "98   2.311569 -0.599435 -0.771278 -0.612303  0.373497 -0.926793  \n",
       "99  -0.857533  1.724669  1.579520  0.840680 -2.800098  1.769421  \n",
       "100 -0.556893 -0.483229 -0.137903  1.158520 -3.240985 -0.202809  \n",
       "\n",
       "[101 rows x 13 columns]"
      ]
     },
     "execution_count": 189,
     "metadata": {},
     "output_type": "execute_result"
    }
   ],
   "source": [
    "scaler = StandardScaler()\n",
    "\n",
    "X_train_scaled = pd.DataFrame(scaler.fit_transform(X_train), columns=boston.feature_names)\n",
    "X_train_scaled"
   ]
  },
  {
   "cell_type": "markdown",
   "id": "e180abe9",
   "metadata": {},
   "source": [
    "Масштабируем X_test и смотрим на результат"
   ]
  },
  {
   "cell_type": "code",
   "execution_count": 190,
   "id": "c5bc9e0e",
   "metadata": {},
   "outputs": [
    {
     "data": {
      "text/html": [
       "<div>\n",
       "<style scoped>\n",
       "    .dataframe tbody tr th:only-of-type {\n",
       "        vertical-align: middle;\n",
       "    }\n",
       "\n",
       "    .dataframe tbody tr th {\n",
       "        vertical-align: top;\n",
       "    }\n",
       "\n",
       "    .dataframe thead th {\n",
       "        text-align: right;\n",
       "    }\n",
       "</style>\n",
       "<table border=\"1\" class=\"dataframe\">\n",
       "  <thead>\n",
       "    <tr style=\"text-align: right;\">\n",
       "      <th></th>\n",
       "      <th>CRIM</th>\n",
       "      <th>ZN</th>\n",
       "      <th>INDUS</th>\n",
       "      <th>CHAS</th>\n",
       "      <th>NOX</th>\n",
       "      <th>RM</th>\n",
       "      <th>AGE</th>\n",
       "      <th>DIS</th>\n",
       "      <th>RAD</th>\n",
       "      <th>TAX</th>\n",
       "      <th>PTRATIO</th>\n",
       "      <th>B</th>\n",
       "      <th>LSTAT</th>\n",
       "    </tr>\n",
       "  </thead>\n",
       "  <tbody>\n",
       "    <tr>\n",
       "      <th>0</th>\n",
       "      <td>-0.404897</td>\n",
       "      <td>-0.476515</td>\n",
       "      <td>-1.036782</td>\n",
       "      <td>-0.277719</td>\n",
       "      <td>-0.381888</td>\n",
       "      <td>0.183227</td>\n",
       "      <td>0.536843</td>\n",
       "      <td>-0.535993</td>\n",
       "      <td>-0.532964</td>\n",
       "      <td>-0.664933</td>\n",
       "      <td>-0.874640</td>\n",
       "      <td>0.425941</td>\n",
       "      <td>-0.520187</td>\n",
       "    </tr>\n",
       "    <tr>\n",
       "      <th>1</th>\n",
       "      <td>-0.408776</td>\n",
       "      <td>1.175254</td>\n",
       "      <td>-0.695170</td>\n",
       "      <td>3.600766</td>\n",
       "      <td>-0.924218</td>\n",
       "      <td>0.656676</td>\n",
       "      <td>-1.293321</td>\n",
       "      <td>0.133663</td>\n",
       "      <td>-0.647656</td>\n",
       "      <td>-0.912878</td>\n",
       "      <td>-0.409955</td>\n",
       "      <td>0.441183</td>\n",
       "      <td>-1.275764</td>\n",
       "    </tr>\n",
       "    <tr>\n",
       "      <th>2</th>\n",
       "      <td>-0.403365</td>\n",
       "      <td>-0.476515</td>\n",
       "      <td>2.392371</td>\n",
       "      <td>-0.277719</td>\n",
       "      <td>0.470344</td>\n",
       "      <td>-0.416198</td>\n",
       "      <td>1.062300</td>\n",
       "      <td>-0.900086</td>\n",
       "      <td>-0.647656</td>\n",
       "      <td>1.785001</td>\n",
       "      <td>0.751756</td>\n",
       "      <td>0.367256</td>\n",
       "      <td>0.718082</td>\n",
       "    </tr>\n",
       "    <tr>\n",
       "      <th>3</th>\n",
       "      <td>-0.404913</td>\n",
       "      <td>-0.476515</td>\n",
       "      <td>-0.058265</td>\n",
       "      <td>-0.277719</td>\n",
       "      <td>-1.216904</td>\n",
       "      <td>-0.302681</td>\n",
       "      <td>-2.190531</td>\n",
       "      <td>0.699640</td>\n",
       "      <td>-0.647656</td>\n",
       "      <td>-0.611802</td>\n",
       "      <td>0.333540</td>\n",
       "      <td>0.375966</td>\n",
       "      <td>-1.002879</td>\n",
       "    </tr>\n",
       "    <tr>\n",
       "      <th>4</th>\n",
       "      <td>0.143658</td>\n",
       "      <td>-0.476515</td>\n",
       "      <td>0.996971</td>\n",
       "      <td>-0.277719</td>\n",
       "      <td>1.365619</td>\n",
       "      <td>0.018489</td>\n",
       "      <td>0.812082</td>\n",
       "      <td>-0.666107</td>\n",
       "      <td>1.646184</td>\n",
       "      <td>1.519345</td>\n",
       "      <td>0.798225</td>\n",
       "      <td>0.312600</td>\n",
       "      <td>0.608379</td>\n",
       "    </tr>\n",
       "    <tr>\n",
       "      <th>...</th>\n",
       "      <td>...</td>\n",
       "      <td>...</td>\n",
       "      <td>...</td>\n",
       "      <td>...</td>\n",
       "      <td>...</td>\n",
       "      <td>...</td>\n",
       "      <td>...</td>\n",
       "      <td>...</td>\n",
       "      <td>...</td>\n",
       "      <td>...</td>\n",
       "      <td>...</td>\n",
       "      <td>...</td>\n",
       "      <td>...</td>\n",
       "    </tr>\n",
       "    <tr>\n",
       "      <th>400</th>\n",
       "      <td>-0.402943</td>\n",
       "      <td>-0.476515</td>\n",
       "      <td>0.103856</td>\n",
       "      <td>-0.277719</td>\n",
       "      <td>0.160442</td>\n",
       "      <td>0.706513</td>\n",
       "      <td>0.722719</td>\n",
       "      <td>-0.656422</td>\n",
       "      <td>-0.991732</td>\n",
       "      <td>-0.800713</td>\n",
       "      <td>1.169973</td>\n",
       "      <td>0.403621</td>\n",
       "      <td>-0.871236</td>\n",
       "    </tr>\n",
       "    <tr>\n",
       "      <th>401</th>\n",
       "      <td>-0.411632</td>\n",
       "      <td>-0.476515</td>\n",
       "      <td>-0.871766</td>\n",
       "      <td>-0.277719</td>\n",
       "      <td>-0.338846</td>\n",
       "      <td>-0.538021</td>\n",
       "      <td>-0.338919</td>\n",
       "      <td>0.852960</td>\n",
       "      <td>-0.532964</td>\n",
       "      <td>-1.089982</td>\n",
       "      <td>0.798225</td>\n",
       "      <td>0.418428</td>\n",
       "      <td>-0.311752</td>\n",
       "    </tr>\n",
       "    <tr>\n",
       "      <th>402</th>\n",
       "      <td>-0.357838</td>\n",
       "      <td>-0.476515</td>\n",
       "      <td>-0.725568</td>\n",
       "      <td>3.600766</td>\n",
       "      <td>-0.407714</td>\n",
       "      <td>0.480863</td>\n",
       "      <td>0.265178</td>\n",
       "      <td>0.166601</td>\n",
       "      <td>-0.188888</td>\n",
       "      <td>-0.599995</td>\n",
       "      <td>-0.502892</td>\n",
       "      <td>0.349183</td>\n",
       "      <td>-0.451623</td>\n",
       "    </tr>\n",
       "    <tr>\n",
       "      <th>403</th>\n",
       "      <td>-0.387315</td>\n",
       "      <td>-0.476515</td>\n",
       "      <td>-0.090110</td>\n",
       "      <td>-0.277719</td>\n",
       "      <td>-0.562665</td>\n",
       "      <td>-0.693069</td>\n",
       "      <td>0.129345</td>\n",
       "      <td>0.263402</td>\n",
       "      <td>-0.647656</td>\n",
       "      <td>-0.777099</td>\n",
       "      <td>0.054730</td>\n",
       "      <td>0.359853</td>\n",
       "      <td>0.716711</td>\n",
       "    </tr>\n",
       "    <tr>\n",
       "      <th>404</th>\n",
       "      <td>-0.391134</td>\n",
       "      <td>-0.476515</td>\n",
       "      <td>-0.090110</td>\n",
       "      <td>3.600766</td>\n",
       "      <td>-0.562665</td>\n",
       "      <td>-0.659845</td>\n",
       "      <td>-0.546243</td>\n",
       "      <td>-0.065180</td>\n",
       "      <td>-0.647656</td>\n",
       "      <td>-0.777099</td>\n",
       "      <td>0.054730</td>\n",
       "      <td>0.376293</td>\n",
       "      <td>0.438340</td>\n",
       "    </tr>\n",
       "  </tbody>\n",
       "</table>\n",
       "<p>405 rows × 13 columns</p>\n",
       "</div>"
      ],
      "text/plain": [
       "         CRIM        ZN     INDUS      CHAS       NOX        RM       AGE  \\\n",
       "0   -0.404897 -0.476515 -1.036782 -0.277719 -0.381888  0.183227  0.536843   \n",
       "1   -0.408776  1.175254 -0.695170  3.600766 -0.924218  0.656676 -1.293321   \n",
       "2   -0.403365 -0.476515  2.392371 -0.277719  0.470344 -0.416198  1.062300   \n",
       "3   -0.404913 -0.476515 -0.058265 -0.277719 -1.216904 -0.302681 -2.190531   \n",
       "4    0.143658 -0.476515  0.996971 -0.277719  1.365619  0.018489  0.812082   \n",
       "..        ...       ...       ...       ...       ...       ...       ...   \n",
       "400 -0.402943 -0.476515  0.103856 -0.277719  0.160442  0.706513  0.722719   \n",
       "401 -0.411632 -0.476515 -0.871766 -0.277719 -0.338846 -0.538021 -0.338919   \n",
       "402 -0.357838 -0.476515 -0.725568  3.600766 -0.407714  0.480863  0.265178   \n",
       "403 -0.387315 -0.476515 -0.090110 -0.277719 -0.562665 -0.693069  0.129345   \n",
       "404 -0.391134 -0.476515 -0.090110  3.600766 -0.562665 -0.659845 -0.546243   \n",
       "\n",
       "          DIS       RAD       TAX   PTRATIO         B     LSTAT  \n",
       "0   -0.535993 -0.532964 -0.664933 -0.874640  0.425941 -0.520187  \n",
       "1    0.133663 -0.647656 -0.912878 -0.409955  0.441183 -1.275764  \n",
       "2   -0.900086 -0.647656  1.785001  0.751756  0.367256  0.718082  \n",
       "3    0.699640 -0.647656 -0.611802  0.333540  0.375966 -1.002879  \n",
       "4   -0.666107  1.646184  1.519345  0.798225  0.312600  0.608379  \n",
       "..        ...       ...       ...       ...       ...       ...  \n",
       "400 -0.656422 -0.991732 -0.800713  1.169973  0.403621 -0.871236  \n",
       "401  0.852960 -0.532964 -1.089982  0.798225  0.418428 -0.311752  \n",
       "402  0.166601 -0.188888 -0.599995 -0.502892  0.349183 -0.451623  \n",
       "403  0.263402 -0.647656 -0.777099  0.054730  0.359853  0.716711  \n",
       "404 -0.065180 -0.647656 -0.777099  0.054730  0.376293  0.438340  \n",
       "\n",
       "[405 rows x 13 columns]"
      ]
     },
     "execution_count": 190,
     "metadata": {},
     "output_type": "execute_result"
    }
   ],
   "source": [
    "X_test_scaled = pd.DataFrame(scaler.fit_transform(X_test), columns=boston.feature_names)\n",
    "X_test_scaled"
   ]
  },
  {
   "cell_type": "markdown",
   "id": "95cbfb47",
   "metadata": {},
   "source": [
    "Строим модель TSNE на тренировочный данных с параметрами:\n",
    "n_components=2, learning_rate=250, random_state=42."
   ]
  },
  {
   "cell_type": "code",
   "execution_count": 191,
   "id": "5b64487c",
   "metadata": {},
   "outputs": [
    {
     "data": {
      "text/plain": [
       "TSNE(learning_rate=250, random_state=42)"
      ]
     },
     "execution_count": 191,
     "metadata": {},
     "output_type": "execute_result"
    }
   ],
   "source": [
    "# tsnem = TSNE?\n",
    "tsnem = TSNE(n_components=2, learning_rate=250, random_state=42)\n",
    "tsnem"
   ]
  },
  {
   "cell_type": "code",
   "execution_count": 192,
   "id": "0d357bed",
   "metadata": {},
   "outputs": [
    {
     "data": {
      "text/plain": [
       "(101, 2)"
      ]
     },
     "execution_count": 192,
     "metadata": {},
     "output_type": "execute_result"
    }
   ],
   "source": [
    "X_train_tsne = tsnem.fit_transform(X_train_scaled)\n",
    "X_train_tsne.shape"
   ]
  },
  {
   "cell_type": "code",
   "execution_count": 193,
   "id": "4ccc44ad",
   "metadata": {},
   "outputs": [
    {
     "data": {
      "text/plain": [
       "array([[ 6.5355225e+00,  9.0902179e-01],\n",
       "       [-2.3908627e+00, -3.9067168e+00],\n",
       "       [ 7.8266945e+00,  1.9681014e+00],\n",
       "       [ 2.6057038e+00, -5.9325833e-02],\n",
       "       [-2.1925380e+00, -4.2304268e+00],\n",
       "       [ 7.6067152e+00,  3.2913387e+00],\n",
       "       [ 8.7545824e+00,  2.3448904e+00],\n",
       "       [ 4.2963939e+00,  3.7078841e+00],\n",
       "       [ 9.0916309e+00,  4.1521077e+00],\n",
       "       [ 6.6957217e-01,  1.0706259e+00],\n",
       "       [ 6.2949362e+00,  1.3976077e+00],\n",
       "       [ 1.8591926e+00,  4.2017009e-02],\n",
       "       [-3.2126074e+00, -4.4403353e+00],\n",
       "       [ 8.0299454e+00,  3.6379035e+00],\n",
       "       [ 3.0122702e+00, -6.5756810e-01],\n",
       "       [ 4.9060578e+00, -2.3955932e+00],\n",
       "       [ 2.0097315e+00, -1.9394109e+00],\n",
       "       [ 6.7016163e+00,  2.2265992e+00],\n",
       "       [-3.0866563e+00, -4.4540696e+00],\n",
       "       [ 4.3998122e+00, -3.9992595e-01],\n",
       "       [-3.0066726e+00, -3.5806928e+00],\n",
       "       [-7.8307891e-01, -2.5947421e+00],\n",
       "       [ 4.2604947e+00,  1.5431976e+00],\n",
       "       [-4.6484528e+00, -3.0017123e+00],\n",
       "       [ 7.4557447e+00,  2.1978590e+00],\n",
       "       [ 4.8838758e+00,  8.8829976e-01],\n",
       "       [ 1.8905580e+00, -2.7855849e+00],\n",
       "       [-4.3417149e+00, -2.8430076e+00],\n",
       "       [ 1.7710059e+00,  1.6138132e+00],\n",
       "       [-5.1690512e+00, -4.1430655e+00],\n",
       "       [-2.5361090e+00, -2.9310422e+00],\n",
       "       [ 4.2853312e+00, -7.0803803e-01],\n",
       "       [ 4.0810866e+00,  7.2561806e-01],\n",
       "       [-2.6715121e+00, -4.5948310e+00],\n",
       "       [ 7.2006388e+00,  2.3508198e+00],\n",
       "       [ 5.4919238e+00,  2.2046719e+00],\n",
       "       [ 4.9306450e+00, -2.3727336e+00],\n",
       "       [ 6.1652446e+00,  2.8940649e+00],\n",
       "       [ 3.2522042e+00,  3.5776803e-01],\n",
       "       [ 3.0119231e+00, -5.2377975e-01],\n",
       "       [ 4.8948197e+00, -1.0795543e+00],\n",
       "       [-4.0339289e+00, -5.1655517e+00],\n",
       "       [ 4.6176448e+00,  3.7760296e+00],\n",
       "       [ 6.7125273e-01,  1.1837988e+00],\n",
       "       [ 5.5188069e+00,  1.6406759e+00],\n",
       "       [ 2.4594100e+00, -6.7881751e-01],\n",
       "       [ 1.7492941e-01, -2.2630093e+00],\n",
       "       [ 6.1379647e+00, -1.0072243e+00],\n",
       "       [-2.0485694e+00, -4.2186399e+00],\n",
       "       [ 3.3180413e+00, -5.2286363e-03],\n",
       "       [ 7.5608363e+00,  2.6709900e+00],\n",
       "       [ 9.7134466e+00,  2.9677634e+00],\n",
       "       [-6.1375356e-01, -5.3143444e+00],\n",
       "       [ 6.0393376e+00,  2.5302539e+00],\n",
       "       [-2.2717185e+00, -3.6240752e+00],\n",
       "       [ 3.8527625e+00, -3.8859874e-01],\n",
       "       [-4.6169243e+00, -2.9887774e+00],\n",
       "       [ 7.8236470e+00,  4.1223826e+00],\n",
       "       [ 2.1003797e+00, -1.0966755e+00],\n",
       "       [-2.0520582e+00, -3.7873890e+00],\n",
       "       [ 7.7167301e+00,  4.1757545e+00],\n",
       "       [ 6.1611360e-01,  6.5520734e-02],\n",
       "       [ 7.7166185e+00,  1.8511809e+00],\n",
       "       [ 3.2573020e+00, -3.0540695e+00],\n",
       "       [ 8.5260725e+00,  3.3005731e+00],\n",
       "       [ 3.8352182e+00, -2.5893647e-02],\n",
       "       [ 8.3166494e+00,  1.8880078e+00],\n",
       "       [ 2.5657625e+00, -1.6325538e+00],\n",
       "       [ 3.2446549e+00, -8.7011451e-01],\n",
       "       [-2.4700713e+00, -3.8915515e+00],\n",
       "       [ 6.5120703e-01, -5.1487703e+00],\n",
       "       [ 7.6519270e+00,  2.8478789e-01],\n",
       "       [-3.0081477e+00, -4.0605221e+00],\n",
       "       [ 8.0417557e+00,  3.6304917e+00],\n",
       "       [-3.8312860e+00, -5.0609694e+00],\n",
       "       [ 6.2555013e+00,  9.6769202e-01],\n",
       "       [-4.6994324e+00, -4.5735273e+00],\n",
       "       [ 8.6006393e+00,  3.4947867e+00],\n",
       "       [ 1.3704445e+00,  2.0795662e+00],\n",
       "       [ 3.7310393e+00, -1.1438760e+00],\n",
       "       [-1.1287899e+00, -6.1254567e-01],\n",
       "       [ 3.5904774e-01, -1.9234775e+00],\n",
       "       [-1.0937251e+00, -5.8893996e-01],\n",
       "       [-2.2649126e+00, -3.4933336e+00],\n",
       "       [ 5.4383283e+00, -9.9290490e-01],\n",
       "       [-5.5873579e-01, -5.3180337e+00],\n",
       "       [ 4.3716784e+00,  1.3871400e-01],\n",
       "       [-3.1919622e+00, -3.4651785e+00],\n",
       "       [ 5.6935711e+00,  1.7455251e+00],\n",
       "       [ 3.3425791e+00,  2.0346940e+00],\n",
       "       [-4.4078674e+00, -2.6062860e+00],\n",
       "       [ 6.7570108e-01, -1.3150301e+00],\n",
       "       [ 2.1285737e+00, -1.1009582e+00],\n",
       "       [ 2.3708515e+00, -2.3995595e+00],\n",
       "       [ 7.7798667e+00,  3.9822783e+00],\n",
       "       [ 5.5297174e+00,  1.0667199e+00],\n",
       "       [ 2.0382435e+00, -2.0372818e+00],\n",
       "       [ 4.6119189e+00,  1.2535987e+00],\n",
       "       [ 9.2808933e+00,  3.6361604e+00],\n",
       "       [-4.4271679e+00, -3.1406348e+00],\n",
       "       [ 1.5529984e+00, -3.3350675e+00]], dtype=float32)"
      ]
     },
     "execution_count": 193,
     "metadata": {},
     "output_type": "execute_result"
    }
   ],
   "source": [
    "X_train_tsne"
   ]
  },
  {
   "cell_type": "code",
   "execution_count": 194,
   "id": "855f9470",
   "metadata": {},
   "outputs": [
    {
     "data": {
      "text/plain": [
       "<matplotlib.collections.PathCollection at 0x7f90f500b250>"
      ]
     },
     "execution_count": 194,
     "metadata": {},
     "output_type": "execute_result"
    },
    {
     "data": {
      "image/png": "[encoded data removed]",
      "text/plain": [
       "<Figure size 432x288 with 1 Axes>"
      ]
     },
     "metadata": {
      "needs_background": "light"
     },
     "output_type": "display_data"
    }
   ],
   "source": [
    "plt.scatter(X_train_tsne[:, 0], X_train_tsne[:, 1])"
   ]
  },
  {
   "cell_type": "markdown",
   "id": "08a1dd1d",
   "metadata": {},
   "source": [
    "****"
   ]
  },
  {
   "cell_type": "markdown",
   "id": "3ada87cb",
   "metadata": {},
   "source": [
    "### Задание 2"
   ]
  },
  {
   "cell_type": "markdown",
   "id": "6c9d073a",
   "metadata": {},
   "source": [
    "С помощью KMeans разбейте данные из тренировочного набора на 3 кластера,\n",
    "используйте все признаки из датафрейма X_train.\n",
    "\n",
    "Параметр max_iter должен быть равен 100, random_state сделайте равным 42.\n",
    "\n",
    "Постройте еще раз диаграмму рассеяния на данных, полученных с помощью TSNE,\n",
    "и раскрасьте точки из разных кластеров разными цветами.\n",
    "\n",
    "Вычислите средние значения price и CRIM в разных кластерах."
   ]
  },
  {
   "cell_type": "code",
   "execution_count": 195,
   "id": "1eb5d2aa",
   "metadata": {},
   "outputs": [],
   "source": [
    "from sklearn.cluster import KMeans"
   ]
  },
  {
   "cell_type": "code",
   "execution_count": 196,
   "id": "68500b4a",
   "metadata": {},
   "outputs": [],
   "source": [
    "kmeans = KMeans(n_clusters=3, max_iter=100, random_state=42)"
   ]
  },
  {
   "cell_type": "markdown",
   "id": "12cbfd6a",
   "metadata": {},
   "source": [
    "С помощью метода fit_predict обучим модель и сразу предскажем к какому кластеру относится каждый объект тренировочного набора"
   ]
  },
  {
   "cell_type": "code",
   "execution_count": 197,
   "id": "62bea7ee",
   "metadata": {},
   "outputs": [],
   "source": [
    "labels = kmeans.fit_predict(X_train_scaled)"
   ]
  },
  {
   "cell_type": "code",
   "execution_count": 198,
   "id": "f7d8ed5e",
   "metadata": {},
   "outputs": [
    {
     "data": {
      "text/plain": [
       "((101,),\n",
       " array([1, 2, 1, 0, 2, 1, 1, 0, 1, 0, 1, 0, 2, 1, 0, 0, 0, 1, 2, 0, 2, 2,\n",
       "        0, 2, 1, 0, 0, 2, 0, 2, 2, 0, 0, 2, 1, 1, 0, 1, 0, 0, 0, 2, 1, 0,\n",
       "        1, 0, 0, 1, 2, 0, 1, 1, 2, 1, 2, 0, 2, 1, 0, 2, 1, 0, 1, 0, 1, 0,\n",
       "        1, 0, 0, 2, 0, 1, 2, 1, 2, 1, 2, 1, 0, 0, 0, 0, 0, 2, 0, 2, 0, 2,\n",
       "        1, 0, 2, 0, 0, 0, 1, 1, 0, 1, 1, 2, 0], dtype=int32))"
      ]
     },
     "execution_count": 198,
     "metadata": {},
     "output_type": "execute_result"
    }
   ],
   "source": [
    "labels.shape, labels"
   ]
  },
  {
   "cell_type": "markdown",
   "id": "794d97fc",
   "metadata": {},
   "source": [
    "Строим диаграмму рассеяния"
   ]
  },
  {
   "cell_type": "code",
   "execution_count": 199,
   "id": "f5783ec4",
   "metadata": {},
   "outputs": [
    {
     "data": {
      "text/plain": [
       "<matplotlib.collections.PathCollection at 0x7f90f4fdd220>"
      ]
     },
     "execution_count": 199,
     "metadata": {},
     "output_type": "execute_result"
    },
    {
     "data": {
      "image/png": "[encoded data removed]",
      "text/plain": [
       "<Figure size 432x288 with 1 Axes>"
      ]
     },
     "metadata": {
      "needs_background": "light"
     },
     "output_type": "display_data"
    }
   ],
   "source": [
    "plt.scatter(X_train_tsne[:, 0], X_train_tsne[:, 1], c=labels)"
   ]
  },
  {
   "cell_type": "markdown",
   "id": "52bc2327",
   "metadata": {},
   "source": [
    "Получаем средние значения по кластерам для price"
   ]
  },
  {
   "cell_type": "code",
   "execution_count": 200,
   "id": "543c2755",
   "metadata": {},
   "outputs": [],
   "source": [
    "# np.ma.masked_array?"
   ]
  },
  {
   "cell_type": "code",
   "execution_count": 201,
   "id": "bcb15367",
   "metadata": {},
   "outputs": [
    {
     "name": "stdout",
     "output_type": "stream",
     "text": [
      "Средние значения 'price' по кластерам:\n",
      "23.476744186046513\n",
      "26.212500000000002\n",
      "16.869230769230764\n"
     ]
    }
   ],
   "source": [
    "mask_zero = [False if x == 0 else True for x in labels]\n",
    "mask_one = [False if x == 1 else True for x in labels]\n",
    "mask_two = [False if x == 2 else True for x in labels]\n",
    "\n",
    "print(\"Средние значения \\'price\\' по кластерам:\")\n",
    "print(np.ma.masked_array(y_train, mask=mask_zero).mean())\n",
    "print(np.ma.masked_array(y_train, mask=mask_one).mean())\n",
    "print(np.ma.masked_array(y_train, mask=mask_two).mean())"
   ]
  },
  {
   "cell_type": "markdown",
   "id": "69476445",
   "metadata": {},
   "source": [
    "Получаем средние значения по кластерам для CRIM"
   ]
  },
  {
   "cell_type": "code",
   "execution_count": 202,
   "id": "7e812377",
   "metadata": {},
   "outputs": [
    {
     "name": "stdout",
     "output_type": "stream",
     "text": [
      "0.5716976744186046\n",
      "0.094388125\n",
      "10.364110384615383\n"
     ]
    }
   ],
   "source": [
    "print(np.ma.masked_array(X_train[:,0], mask=mask_zero).mean())\n",
    "print(np.ma.masked_array(X_train[:,0], mask=mask_one).mean())\n",
    "print(np.ma.masked_array(X_train[:,0], mask=mask_two).mean())"
   ]
  },
  {
   "cell_type": "markdown",
   "id": "5a518a5e",
   "metadata": {},
   "source": [
    "****"
   ]
  },
  {
   "cell_type": "markdown",
   "id": "2d290218",
   "metadata": {},
   "source": [
    "### *Задание 3"
   ]
  },
  {
   "cell_type": "markdown",
   "id": "68a9a510",
   "metadata": {},
   "source": [
    "Примените модель KMeans, построенную в предыдущем задании,\n",
    "к данным из тестового набора.\n",
    "\n",
    "Вычислите средние значения price и CRIM в разных кластерах на тестовых данных."
   ]
  },
  {
   "cell_type": "markdown",
   "id": "aff85abb",
   "metadata": {},
   "source": [
    "Создаём скалер и нормализуем тестовый набор"
   ]
  },
  {
   "cell_type": "code",
   "execution_count": 203,
   "id": "53a66189",
   "metadata": {},
   "outputs": [
    {
     "data": {
      "text/html": [
       "<div>\n",
       "<style scoped>\n",
       "    .dataframe tbody tr th:only-of-type {\n",
       "        vertical-align: middle;\n",
       "    }\n",
       "\n",
       "    .dataframe tbody tr th {\n",
       "        vertical-align: top;\n",
       "    }\n",
       "\n",
       "    .dataframe thead th {\n",
       "        text-align: right;\n",
       "    }\n",
       "</style>\n",
       "<table border=\"1\" class=\"dataframe\">\n",
       "  <thead>\n",
       "    <tr style=\"text-align: right;\">\n",
       "      <th></th>\n",
       "      <th>CRIM</th>\n",
       "      <th>ZN</th>\n",
       "      <th>INDUS</th>\n",
       "      <th>CHAS</th>\n",
       "      <th>NOX</th>\n",
       "      <th>RM</th>\n",
       "      <th>AGE</th>\n",
       "      <th>DIS</th>\n",
       "      <th>RAD</th>\n",
       "      <th>TAX</th>\n",
       "      <th>PTRATIO</th>\n",
       "      <th>B</th>\n",
       "      <th>LSTAT</th>\n",
       "    </tr>\n",
       "  </thead>\n",
       "  <tbody>\n",
       "    <tr>\n",
       "      <th>0</th>\n",
       "      <td>-0.404897</td>\n",
       "      <td>-0.476515</td>\n",
       "      <td>-1.036782</td>\n",
       "      <td>-0.277719</td>\n",
       "      <td>-0.381888</td>\n",
       "      <td>0.183227</td>\n",
       "      <td>0.536843</td>\n",
       "      <td>-0.535993</td>\n",
       "      <td>-0.532964</td>\n",
       "      <td>-0.664933</td>\n",
       "      <td>-0.874640</td>\n",
       "      <td>0.425941</td>\n",
       "      <td>-0.520187</td>\n",
       "    </tr>\n",
       "    <tr>\n",
       "      <th>1</th>\n",
       "      <td>-0.408776</td>\n",
       "      <td>1.175254</td>\n",
       "      <td>-0.695170</td>\n",
       "      <td>3.600766</td>\n",
       "      <td>-0.924218</td>\n",
       "      <td>0.656676</td>\n",
       "      <td>-1.293321</td>\n",
       "      <td>0.133663</td>\n",
       "      <td>-0.647656</td>\n",
       "      <td>-0.912878</td>\n",
       "      <td>-0.409955</td>\n",
       "      <td>0.441183</td>\n",
       "      <td>-1.275764</td>\n",
       "    </tr>\n",
       "    <tr>\n",
       "      <th>2</th>\n",
       "      <td>-0.403365</td>\n",
       "      <td>-0.476515</td>\n",
       "      <td>2.392371</td>\n",
       "      <td>-0.277719</td>\n",
       "      <td>0.470344</td>\n",
       "      <td>-0.416198</td>\n",
       "      <td>1.062300</td>\n",
       "      <td>-0.900086</td>\n",
       "      <td>-0.647656</td>\n",
       "      <td>1.785001</td>\n",
       "      <td>0.751756</td>\n",
       "      <td>0.367256</td>\n",
       "      <td>0.718082</td>\n",
       "    </tr>\n",
       "    <tr>\n",
       "      <th>3</th>\n",
       "      <td>-0.404913</td>\n",
       "      <td>-0.476515</td>\n",
       "      <td>-0.058265</td>\n",
       "      <td>-0.277719</td>\n",
       "      <td>-1.216904</td>\n",
       "      <td>-0.302681</td>\n",
       "      <td>-2.190531</td>\n",
       "      <td>0.699640</td>\n",
       "      <td>-0.647656</td>\n",
       "      <td>-0.611802</td>\n",
       "      <td>0.333540</td>\n",
       "      <td>0.375966</td>\n",
       "      <td>-1.002879</td>\n",
       "    </tr>\n",
       "    <tr>\n",
       "      <th>4</th>\n",
       "      <td>0.143658</td>\n",
       "      <td>-0.476515</td>\n",
       "      <td>0.996971</td>\n",
       "      <td>-0.277719</td>\n",
       "      <td>1.365619</td>\n",
       "      <td>0.018489</td>\n",
       "      <td>0.812082</td>\n",
       "      <td>-0.666107</td>\n",
       "      <td>1.646184</td>\n",
       "      <td>1.519345</td>\n",
       "      <td>0.798225</td>\n",
       "      <td>0.312600</td>\n",
       "      <td>0.608379</td>\n",
       "    </tr>\n",
       "    <tr>\n",
       "      <th>...</th>\n",
       "      <td>...</td>\n",
       "      <td>...</td>\n",
       "      <td>...</td>\n",
       "      <td>...</td>\n",
       "      <td>...</td>\n",
       "      <td>...</td>\n",
       "      <td>...</td>\n",
       "      <td>...</td>\n",
       "      <td>...</td>\n",
       "      <td>...</td>\n",
       "      <td>...</td>\n",
       "      <td>...</td>\n",
       "      <td>...</td>\n",
       "    </tr>\n",
       "    <tr>\n",
       "      <th>400</th>\n",
       "      <td>-0.402943</td>\n",
       "      <td>-0.476515</td>\n",
       "      <td>0.103856</td>\n",
       "      <td>-0.277719</td>\n",
       "      <td>0.160442</td>\n",
       "      <td>0.706513</td>\n",
       "      <td>0.722719</td>\n",
       "      <td>-0.656422</td>\n",
       "      <td>-0.991732</td>\n",
       "      <td>-0.800713</td>\n",
       "      <td>1.169973</td>\n",
       "      <td>0.403621</td>\n",
       "      <td>-0.871236</td>\n",
       "    </tr>\n",
       "    <tr>\n",
       "      <th>401</th>\n",
       "      <td>-0.411632</td>\n",
       "      <td>-0.476515</td>\n",
       "      <td>-0.871766</td>\n",
       "      <td>-0.277719</td>\n",
       "      <td>-0.338846</td>\n",
       "      <td>-0.538021</td>\n",
       "      <td>-0.338919</td>\n",
       "      <td>0.852960</td>\n",
       "      <td>-0.532964</td>\n",
       "      <td>-1.089982</td>\n",
       "      <td>0.798225</td>\n",
       "      <td>0.418428</td>\n",
       "      <td>-0.311752</td>\n",
       "    </tr>\n",
       "    <tr>\n",
       "      <th>402</th>\n",
       "      <td>-0.357838</td>\n",
       "      <td>-0.476515</td>\n",
       "      <td>-0.725568</td>\n",
       "      <td>3.600766</td>\n",
       "      <td>-0.407714</td>\n",
       "      <td>0.480863</td>\n",
       "      <td>0.265178</td>\n",
       "      <td>0.166601</td>\n",
       "      <td>-0.188888</td>\n",
       "      <td>-0.599995</td>\n",
       "      <td>-0.502892</td>\n",
       "      <td>0.349183</td>\n",
       "      <td>-0.451623</td>\n",
       "    </tr>\n",
       "    <tr>\n",
       "      <th>403</th>\n",
       "      <td>-0.387315</td>\n",
       "      <td>-0.476515</td>\n",
       "      <td>-0.090110</td>\n",
       "      <td>-0.277719</td>\n",
       "      <td>-0.562665</td>\n",
       "      <td>-0.693069</td>\n",
       "      <td>0.129345</td>\n",
       "      <td>0.263402</td>\n",
       "      <td>-0.647656</td>\n",
       "      <td>-0.777099</td>\n",
       "      <td>0.054730</td>\n",
       "      <td>0.359853</td>\n",
       "      <td>0.716711</td>\n",
       "    </tr>\n",
       "    <tr>\n",
       "      <th>404</th>\n",
       "      <td>-0.391134</td>\n",
       "      <td>-0.476515</td>\n",
       "      <td>-0.090110</td>\n",
       "      <td>3.600766</td>\n",
       "      <td>-0.562665</td>\n",
       "      <td>-0.659845</td>\n",
       "      <td>-0.546243</td>\n",
       "      <td>-0.065180</td>\n",
       "      <td>-0.647656</td>\n",
       "      <td>-0.777099</td>\n",
       "      <td>0.054730</td>\n",
       "      <td>0.376293</td>\n",
       "      <td>0.438340</td>\n",
       "    </tr>\n",
       "  </tbody>\n",
       "</table>\n",
       "<p>405 rows × 13 columns</p>\n",
       "</div>"
      ],
      "text/plain": [
       "         CRIM        ZN     INDUS      CHAS       NOX        RM       AGE  \\\n",
       "0   -0.404897 -0.476515 -1.036782 -0.277719 -0.381888  0.183227  0.536843   \n",
       "1   -0.408776  1.175254 -0.695170  3.600766 -0.924218  0.656676 -1.293321   \n",
       "2   -0.403365 -0.476515  2.392371 -0.277719  0.470344 -0.416198  1.062300   \n",
       "3   -0.404913 -0.476515 -0.058265 -0.277719 -1.216904 -0.302681 -2.190531   \n",
       "4    0.143658 -0.476515  0.996971 -0.277719  1.365619  0.018489  0.812082   \n",
       "..        ...       ...       ...       ...       ...       ...       ...   \n",
       "400 -0.402943 -0.476515  0.103856 -0.277719  0.160442  0.706513  0.722719   \n",
       "401 -0.411632 -0.476515 -0.871766 -0.277719 -0.338846 -0.538021 -0.338919   \n",
       "402 -0.357838 -0.476515 -0.725568  3.600766 -0.407714  0.480863  0.265178   \n",
       "403 -0.387315 -0.476515 -0.090110 -0.277719 -0.562665 -0.693069  0.129345   \n",
       "404 -0.391134 -0.476515 -0.090110  3.600766 -0.562665 -0.659845 -0.546243   \n",
       "\n",
       "          DIS       RAD       TAX   PTRATIO         B     LSTAT  \n",
       "0   -0.535993 -0.532964 -0.664933 -0.874640  0.425941 -0.520187  \n",
       "1    0.133663 -0.647656 -0.912878 -0.409955  0.441183 -1.275764  \n",
       "2   -0.900086 -0.647656  1.785001  0.751756  0.367256  0.718082  \n",
       "3    0.699640 -0.647656 -0.611802  0.333540  0.375966 -1.002879  \n",
       "4   -0.666107  1.646184  1.519345  0.798225  0.312600  0.608379  \n",
       "..        ...       ...       ...       ...       ...       ...  \n",
       "400 -0.656422 -0.991732 -0.800713  1.169973  0.403621 -0.871236  \n",
       "401  0.852960 -0.532964 -1.089982  0.798225  0.418428 -0.311752  \n",
       "402  0.166601 -0.188888 -0.599995 -0.502892  0.349183 -0.451623  \n",
       "403  0.263402 -0.647656 -0.777099  0.054730  0.359853  0.716711  \n",
       "404 -0.065180 -0.647656 -0.777099  0.054730  0.376293  0.438340  \n",
       "\n",
       "[405 rows x 13 columns]"
      ]
     },
     "execution_count": 203,
     "metadata": {},
     "output_type": "execute_result"
    }
   ],
   "source": [
    "scaler = StandardScaler()\n",
    "\n",
    "X_test_scaled = pd.DataFrame(scaler.fit_transform(X_test), columns=boston.feature_names)\n",
    "X_test_scaled"
   ]
  },
  {
   "cell_type": "markdown",
   "id": "42cded57",
   "metadata": {},
   "source": [
    "Получаем данные о принадлежности к кластерам по тестовому набору"
   ]
  },
  {
   "cell_type": "code",
   "execution_count": 204,
   "id": "b4e6845c",
   "metadata": {},
   "outputs": [],
   "source": [
    "labels = kmeans.predict(X_test_scaled)"
   ]
  },
  {
   "cell_type": "markdown",
   "id": "0d84d01f",
   "metadata": {},
   "source": [
    "Получаем средние значения по кластерам для price"
   ]
  },
  {
   "cell_type": "code",
   "execution_count": 205,
   "id": "1723b653",
   "metadata": {},
   "outputs": [
    {
     "name": "stdout",
     "output_type": "stream",
     "text": [
      "22.96184971098266\n",
      "27.927731092436975\n",
      "16.09646017699115\n"
     ]
    }
   ],
   "source": [
    "mask_zero = [False if x == 0 else True for x in labels]\n",
    "mask_one = [False if x == 1 else True for x in labels]\n",
    "mask_two = [False if x == 2 else True for x in labels]\n",
    "\n",
    "print(np.ma.masked_array(y_test, mask=mask_zero).mean())\n",
    "print(np.ma.masked_array(y_test, mask=mask_one).mean())\n",
    "print(np.ma.masked_array(y_test, mask=mask_two).mean())"
   ]
  },
  {
   "cell_type": "markdown",
   "id": "f87b7704",
   "metadata": {},
   "source": [
    "Получаем средние значения по кластерам для CRIM"
   ]
  },
  {
   "cell_type": "code",
   "execution_count": 206,
   "id": "ab25e089",
   "metadata": {},
   "outputs": [
    {
     "name": "stdout",
     "output_type": "stream",
     "text": [
      "0.5866383236994219\n",
      "0.087041512605042\n",
      "12.562179292035399\n"
     ]
    }
   ],
   "source": [
    "print(np.ma.masked_array(X_test[:, 0], mask=mask_zero).mean())\n",
    "print(np.ma.masked_array(X_test[:, 0], mask=mask_one).mean())\n",
    "print(np.ma.masked_array(X_test[:, 0], mask=mask_two).mean())"
   ]
  }
 ],
 "metadata": {
  "kernelspec": {
   "display_name": "Python 3",
   "language": "python",
   "name": "python3"
  },
  "language_info": {
   "codemirror_mode": {
    "name": "ipython",
    "version": 3
   },
   "file_extension": ".py",
   "mimetype": "text/x-python",
   "name": "python",
   "nbconvert_exporter": "python",
   "pygments_lexer": "ipython3",
   "version": "3.8.10"
  }
 },
 "nbformat": 4,
 "nbformat_minor": 5
}
