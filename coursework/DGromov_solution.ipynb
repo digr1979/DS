{
 "cells": [
  {
   "cell_type": "markdown",
   "id": "f98c03b5",
   "metadata": {},
   "source": [
    "## Курсовая работа\n",
    "### Автор: Дмитрий Громов"
   ]
  },
  {
   "cell_type": "markdown",
   "id": "aac3a303",
   "metadata": {},
   "source": [
    "* [Задание](#task_definition)\n",
    "* [Подключение библиотек и скриптов](#code)\n",
    "* [Загрузка данных](#data_loading)\n",
    "* [Разведочный анализ данных (EDA)](#eda)\n",
    "    * [Обзор](#review) \n",
    "    * [Приведение типов](#retype)\n",
    "    * [Чистка данных](#cleaning)\n",
    "* [Добавление новых признаков](#new_features)    \n",
    "* [Отбор признаков](#feature_selecting)\n",
    "* [Разбиение на train и test](#split)\n",
    "* [Построение модели](#new_model)\n",
    "* [Кросс-валидация](#validation)\n",
    "* [Важность признаков](#gravity)\n",
    "* [Формирование файла с прогнозами](#output_file)"
   ]
  },
  {
   "cell_type": "markdown",
   "id": "37d6a9e0",
   "metadata": {},
   "source": [
    "### Задание <a class=anchor id=task_definition>\n",
    "Используя данные из обучающего датасета (train.csv), построить модель для предсказания цен на недвижимость (квартиры).\n",
    "С помощью полученной модели, предсказать цены для квартир из тестового датасета (test.csv).\n",
    "\n",
    "Целевая переменная:\n",
    "Price\n",
    "\n",
    "Метрика качества:\n",
    "R2 - коэффициент детерминации (sklearn.metrics.r2_score)\n",
    "\n",
    "Требования к решению:\n",
    "1. R2 > 0.6\n",
    "2. Тетрадка Jupyter Notebook с кодом Вашего решения, названная по образцу {ФИО}_solution.ipynb, пример SShirkin_solution.ipynb\n",
    "3. Файл CSV с прогнозами целевой переменной для тестового датасета, названный по образцу {ФИО}_predictions.csv, пример SShirkin_predictions.csv \n",
    "Файл должен содержать два поля: Id, Price и в файле должна быть 5001 строка (шапка + 5000 предсказаний).\n"
   ]
  },
  {
   "cell_type": "markdown",
   "id": "ae6c6ad4",
   "metadata": {},
   "source": [
    "### Подключение библиотек и скриптов <a class=anchor id=code>"
   ]
  },
  {
   "cell_type": "code",
   "execution_count": 1,
   "id": "9a667640",
   "metadata": {},
   "outputs": [],
   "source": [
    "# Импортируем необходимые модули\n",
    "import numpy as np\n",
    "import pandas as pd\n",
    "import seaborn as sns\n",
    "import matplotlib.pyplot as plt\n",
    "\n",
    "from sklearn.metrics import r2_score as r2\n",
    "from sklearn.preprocessing import StandardScaler, MinMaxScaler, LabelEncoder\n",
    "from sklearn.model_selection import train_test_split, cross_val_score, KFold\n",
    "\n",
    "from sklearn.ensemble import RandomForestRegressor, GradientBoostingRegressor\n",
    "from sklearn.linear_model import LinearRegression, LogisticRegression\n",
    "from sklearn.tree import DecisionTreeClassifier\n",
    "from sklearn.svm import SVC\n",
    "\n",
    "import warnings\n",
    "warnings.filterwarnings('ignore')"
   ]
  },
  {
   "cell_type": "code",
   "execution_count": 2,
   "id": "37896466",
   "metadata": {},
   "outputs": [],
   "source": [
    "# Отображаем графики в ноутбуке\n",
    "%matplotlib inline"
   ]
  },
  {
   "cell_type": "code",
   "execution_count": 3,
   "id": "ba1eea0f",
   "metadata": {},
   "outputs": [],
   "source": [
    "def create_model(X_train, y_train, X_test, y_test, model):\n",
    "    \"\"\"\n",
    "    \"\"\"\n",
    "    model.fit(X_train, y_train)\n",
    "    y_train_preds=model.predict(X_train)\n",
    "    y_test_preds=model.predict(X_test)\n",
    "    \n",
    "    return y_train_preds, y_test_preds"
   ]
  },
  {
   "cell_type": "code",
   "execution_count": 4,
   "id": "0c4ccbfa",
   "metadata": {},
   "outputs": [],
   "source": [
    "def evaluate_preds(train_true_values, train_pred_values, test_true_values, test_pred_values):\n",
    "    \"\"\"\n",
    "    \"\"\"\n",
    "    print(\"Train R2:\\t\" + str(round(r2(train_true_values, train_pred_values), 3)))\n",
    "    print(\"Test R2:\\t\" + str(round(r2(test_true_values, test_pred_values), 3)))\n",
    "\n",
    "    plt.figure(figsize=(18,10))\n",
    "    plt.subplot(121)\n",
    "    sns.scatterplot(x=train_pred_values, y=train_true_values)\n",
    "    plt.xlabel('Predicted values')\n",
    "    plt.ylabel('True values')\n",
    "    plt.title('Train sample prediction')\n",
    "    \n",
    "    plt.subplot(122)\n",
    "    sns.scatterplot(x=test_pred_values, y=test_true_values)\n",
    "    plt.xlabel('Predicted values')\n",
    "    plt.ylabel('True values')\n",
    "    plt.title('Test sample prediction')\n",
    "\n",
    "    plt.show()"
   ]
  },
  {
   "cell_type": "code",
   "execution_count": 5,
   "id": "88c8345a",
   "metadata": {},
   "outputs": [],
   "source": [
    "def reduce_mem_usage(df):\n",
    "    \"\"\" iterate through all the columns of a dataframe and modify the data type\n",
    "        to reduce memory usage.        \n",
    "    \"\"\"\n",
    "    start_mem = df.memory_usage().sum() / 1024**2\n",
    "    print('Memory usage of dataframe is {:.2f} MB'.format(start_mem))\n",
    "    \n",
    "    for col in df.columns:\n",
    "        col_type = df[col].dtype\n",
    "        \n",
    "        if col_type != object:\n",
    "            c_min = df[col].min()\n",
    "            c_max = df[col].max()\n",
    "            if str(col_type)[:3] == 'int':\n",
    "                if c_min > np.iinfo(np.int8).min and c_max < np.iinfo(np.int8).max:\n",
    "                    df[col] = df[col].astype(np.int8)\n",
    "                elif c_min > np.iinfo(np.int16).min and c_max < np.iinfo(np.int16).max:\n",
    "                    df[col] = df[col].astype(np.int16)\n",
    "                elif c_min > np.iinfo(np.int32).min and c_max < np.iinfo(np.int32).max:\n",
    "                    df[col] = df[col].astype(np.int32)\n",
    "                elif c_min > np.iinfo(np.int64).min and c_max < np.iinfo(np.int64).max:\n",
    "                    df[col] = df[col].astype(np.int64)  \n",
    "            else:\n",
    "                if c_min > np.finfo(np.float32).min and c_max < np.finfo(np.float32).max:\n",
    "                    df[col] = df[col].astype(np.float32)\n",
    "                else:\n",
    "                    df[col] = df[col].astype(np.float64)\n",
    "        else:\n",
    "            df[col] = df[col].astype('category')\n",
    "\n",
    "    end_mem = df.memory_usage().sum() / 1024**2\n",
    "    print('Memory usage after optimization is: {:.2f} MB'.format(end_mem))\n",
    "    print('Decreased by {:.1f}%'.format(100 * (start_mem - end_mem) / start_mem))\n",
    "    \n",
    "    return df"
   ]
  },
  {
   "cell_type": "markdown",
   "id": "788b0b5f",
   "metadata": {},
   "source": [
    "### Загрузка данных <a class=anchor id=data_loading>"
   ]
  },
  {
   "cell_type": "code",
   "execution_count": 6,
   "id": "3fddfe4a",
   "metadata": {},
   "outputs": [],
   "source": [
    "TRAIN_DATASET_PATH = './train.csv'\n",
    "TEST_DATASET_PATH = './test.csv'"
   ]
  },
  {
   "cell_type": "code",
   "execution_count": 7,
   "id": "0d09e133",
   "metadata": {
    "scrolled": false
   },
   "outputs": [
    {
     "data": {
      "text/html": [
       "<div>\n",
       "<style scoped>\n",
       "    .dataframe tbody tr th:only-of-type {\n",
       "        vertical-align: middle;\n",
       "    }\n",
       "\n",
       "    .dataframe tbody tr th {\n",
       "        vertical-align: top;\n",
       "    }\n",
       "\n",
       "    .dataframe thead th {\n",
       "        text-align: right;\n",
       "    }\n",
       "</style>\n",
       "<table border=\"1\" class=\"dataframe\">\n",
       "  <thead>\n",
       "    <tr style=\"text-align: right;\">\n",
       "      <th></th>\n",
       "      <th>Id</th>\n",
       "      <th>DistrictId</th>\n",
       "      <th>Rooms</th>\n",
       "      <th>Square</th>\n",
       "      <th>LifeSquare</th>\n",
       "      <th>KitchenSquare</th>\n",
       "      <th>Floor</th>\n",
       "      <th>HouseFloor</th>\n",
       "      <th>HouseYear</th>\n",
       "      <th>Ecology_1</th>\n",
       "      <th>Ecology_2</th>\n",
       "      <th>Ecology_3</th>\n",
       "      <th>Social_1</th>\n",
       "      <th>Social_2</th>\n",
       "      <th>Social_3</th>\n",
       "      <th>Healthcare_1</th>\n",
       "      <th>Helthcare_2</th>\n",
       "      <th>Shops_1</th>\n",
       "      <th>Shops_2</th>\n",
       "      <th>Price</th>\n",
       "    </tr>\n",
       "  </thead>\n",
       "  <tbody>\n",
       "    <tr>\n",
       "      <th>0</th>\n",
       "      <td>14038</td>\n",
       "      <td>35</td>\n",
       "      <td>2.0</td>\n",
       "      <td>47.981561</td>\n",
       "      <td>29.442751</td>\n",
       "      <td>6.0</td>\n",
       "      <td>7</td>\n",
       "      <td>9.0</td>\n",
       "      <td>1969</td>\n",
       "      <td>0.089040</td>\n",
       "      <td>B</td>\n",
       "      <td>B</td>\n",
       "      <td>33</td>\n",
       "      <td>7976</td>\n",
       "      <td>5</td>\n",
       "      <td>NaN</td>\n",
       "      <td>0</td>\n",
       "      <td>11</td>\n",
       "      <td>B</td>\n",
       "      <td>184966.930730</td>\n",
       "    </tr>\n",
       "    <tr>\n",
       "      <th>1</th>\n",
       "      <td>15053</td>\n",
       "      <td>41</td>\n",
       "      <td>3.0</td>\n",
       "      <td>65.683640</td>\n",
       "      <td>40.049543</td>\n",
       "      <td>8.0</td>\n",
       "      <td>7</td>\n",
       "      <td>9.0</td>\n",
       "      <td>1978</td>\n",
       "      <td>0.000070</td>\n",
       "      <td>B</td>\n",
       "      <td>B</td>\n",
       "      <td>46</td>\n",
       "      <td>10309</td>\n",
       "      <td>1</td>\n",
       "      <td>240.0</td>\n",
       "      <td>1</td>\n",
       "      <td>16</td>\n",
       "      <td>B</td>\n",
       "      <td>300009.450063</td>\n",
       "    </tr>\n",
       "    <tr>\n",
       "      <th>2</th>\n",
       "      <td>4765</td>\n",
       "      <td>53</td>\n",
       "      <td>2.0</td>\n",
       "      <td>44.947953</td>\n",
       "      <td>29.197612</td>\n",
       "      <td>0.0</td>\n",
       "      <td>8</td>\n",
       "      <td>12.0</td>\n",
       "      <td>1968</td>\n",
       "      <td>0.049637</td>\n",
       "      <td>B</td>\n",
       "      <td>B</td>\n",
       "      <td>34</td>\n",
       "      <td>7759</td>\n",
       "      <td>0</td>\n",
       "      <td>229.0</td>\n",
       "      <td>1</td>\n",
       "      <td>3</td>\n",
       "      <td>B</td>\n",
       "      <td>220925.908524</td>\n",
       "    </tr>\n",
       "    <tr>\n",
       "      <th>3</th>\n",
       "      <td>5809</td>\n",
       "      <td>58</td>\n",
       "      <td>2.0</td>\n",
       "      <td>53.352981</td>\n",
       "      <td>52.731512</td>\n",
       "      <td>9.0</td>\n",
       "      <td>8</td>\n",
       "      <td>17.0</td>\n",
       "      <td>1977</td>\n",
       "      <td>0.437885</td>\n",
       "      <td>B</td>\n",
       "      <td>B</td>\n",
       "      <td>23</td>\n",
       "      <td>5735</td>\n",
       "      <td>3</td>\n",
       "      <td>1084.0</td>\n",
       "      <td>0</td>\n",
       "      <td>5</td>\n",
       "      <td>B</td>\n",
       "      <td>175616.227217</td>\n",
       "    </tr>\n",
       "    <tr>\n",
       "      <th>4</th>\n",
       "      <td>10783</td>\n",
       "      <td>99</td>\n",
       "      <td>1.0</td>\n",
       "      <td>39.649192</td>\n",
       "      <td>23.776169</td>\n",
       "      <td>7.0</td>\n",
       "      <td>11</td>\n",
       "      <td>12.0</td>\n",
       "      <td>1976</td>\n",
       "      <td>0.012339</td>\n",
       "      <td>B</td>\n",
       "      <td>B</td>\n",
       "      <td>35</td>\n",
       "      <td>5776</td>\n",
       "      <td>1</td>\n",
       "      <td>2078.0</td>\n",
       "      <td>2</td>\n",
       "      <td>4</td>\n",
       "      <td>B</td>\n",
       "      <td>150226.531644</td>\n",
       "    </tr>\n",
       "  </tbody>\n",
       "</table>\n",
       "</div>"
      ],
      "text/plain": [
       "      Id  DistrictId  Rooms     Square  LifeSquare  KitchenSquare  Floor  \\\n",
       "0  14038          35    2.0  47.981561   29.442751            6.0      7   \n",
       "1  15053          41    3.0  65.683640   40.049543            8.0      7   \n",
       "2   4765          53    2.0  44.947953   29.197612            0.0      8   \n",
       "3   5809          58    2.0  53.352981   52.731512            9.0      8   \n",
       "4  10783          99    1.0  39.649192   23.776169            7.0     11   \n",
       "\n",
       "   HouseFloor  HouseYear  Ecology_1 Ecology_2 Ecology_3  Social_1  Social_2  \\\n",
       "0         9.0       1969   0.089040         B         B        33      7976   \n",
       "1         9.0       1978   0.000070         B         B        46     10309   \n",
       "2        12.0       1968   0.049637         B         B        34      7759   \n",
       "3        17.0       1977   0.437885         B         B        23      5735   \n",
       "4        12.0       1976   0.012339         B         B        35      5776   \n",
       "\n",
       "   Social_3  Healthcare_1  Helthcare_2  Shops_1 Shops_2          Price  \n",
       "0         5           NaN            0       11       B  184966.930730  \n",
       "1         1         240.0            1       16       B  300009.450063  \n",
       "2         0         229.0            1        3       B  220925.908524  \n",
       "3         3        1084.0            0        5       B  175616.227217  \n",
       "4         1        2078.0            2        4       B  150226.531644  "
      ]
     },
     "execution_count": 7,
     "metadata": {},
     "output_type": "execute_result"
    }
   ],
   "source": [
    "train_df = pd.read_csv(TRAIN_DATASET_PATH)\n",
    "train_df.head()"
   ]
  },
  {
   "cell_type": "code",
   "execution_count": 8,
   "id": "226c84bf",
   "metadata": {},
   "outputs": [
    {
     "data": {
      "text/plain": [
       "(5000, 19)"
      ]
     },
     "execution_count": 8,
     "metadata": {},
     "output_type": "execute_result"
    }
   ],
   "source": [
    "test_df = pd.read_csv(TEST_DATASET_PATH)\n",
    "test_df.shape"
   ]
  },
  {
   "cell_type": "markdown",
   "id": "19a1776f",
   "metadata": {},
   "source": [
    "### Разведочный анализ данных (EDA) <a class=anchor id=eda>"
   ]
  },
  {
   "cell_type": "code",
   "execution_count": 9,
   "id": "57b98dc1",
   "metadata": {},
   "outputs": [
    {
     "name": "stdout",
     "output_type": "stream",
     "text": [
      "<class 'pandas.core.frame.DataFrame'>\n",
      "RangeIndex: 10000 entries, 0 to 9999\n",
      "Data columns (total 20 columns):\n",
      " #   Column         Non-Null Count  Dtype  \n",
      "---  ------         --------------  -----  \n",
      " 0   Id             10000 non-null  int64  \n",
      " 1   DistrictId     10000 non-null  int64  \n",
      " 2   Rooms          10000 non-null  float64\n",
      " 3   Square         10000 non-null  float64\n",
      " 4   LifeSquare     7887 non-null   float64\n",
      " 5   KitchenSquare  10000 non-null  float64\n",
      " 6   Floor          10000 non-null  int64  \n",
      " 7   HouseFloor     10000 non-null  float64\n",
      " 8   HouseYear      10000 non-null  int64  \n",
      " 9   Ecology_1      10000 non-null  float64\n",
      " 10  Ecology_2      10000 non-null  object \n",
      " 11  Ecology_3      10000 non-null  object \n",
      " 12  Social_1       10000 non-null  int64  \n",
      " 13  Social_2       10000 non-null  int64  \n",
      " 14  Social_3       10000 non-null  int64  \n",
      " 15  Healthcare_1   5202 non-null   float64\n",
      " 16  Helthcare_2    10000 non-null  int64  \n",
      " 17  Shops_1        10000 non-null  int64  \n",
      " 18  Shops_2        10000 non-null  object \n",
      " 19  Price          10000 non-null  float64\n",
      "dtypes: float64(8), int64(9), object(3)\n",
      "memory usage: 1.5+ MB\n"
     ]
    }
   ],
   "source": [
    "train_df.info()"
   ]
  },
  {
   "cell_type": "markdown",
   "id": "0e22bef5",
   "metadata": {},
   "source": [
    "Построим карту корреляций исходного набора"
   ]
  },
  {
   "cell_type": "code",
   "execution_count": 10,
   "id": "024a282c",
   "metadata": {},
   "outputs": [
    {
     "data": {
      "text/plain": [
       "<AxesSubplot:title={'center':'Исходный набор'}>"
      ]
     },
     "execution_count": 10,
     "metadata": {},
     "output_type": "execute_result"
    },
    {
     "data": {
      "image/png": "[encoded data removed]",
      "text/plain": [
       "<Figure size 1008x1008 with 1 Axes>"
      ]
     },
     "metadata": {
      "needs_background": "light"
     },
     "output_type": "display_data"
    }
   ],
   "source": [
    "corr = train_df.corr(min_periods=5)\n",
    "plt.figure(figsize=(14,14))\n",
    "ax1 = plt.axes()\n",
    "ax1.set_title(\"Исходный набор\")\n",
    "sns.heatmap(corr, ax=ax1, cbar=False, square= True, annot=True, cmap='Greens')"
   ]
  },
  {
   "cell_type": "markdown",
   "id": "3d9f56f3",
   "metadata": {},
   "source": [
    "### Обзор данных<a class='anchor' id=review>"
   ]
  },
  {
   "cell_type": "markdown",
   "id": "be9b5ff1",
   "metadata": {},
   "source": [
    "### Целевая переменная"
   ]
  },
  {
   "cell_type": "code",
   "execution_count": 11,
   "id": "82802b24",
   "metadata": {},
   "outputs": [
    {
     "data": {
      "image/png": "[encoded data removed]",
      "text/plain": [
       "<Figure size 1152x576 with 1 Axes>"
      ]
     },
     "metadata": {
      "needs_background": "light"
     },
     "output_type": "display_data"
    }
   ],
   "source": [
    "plt.figure(figsize = (16, 8))\n",
    "\n",
    "train_df['Price'].hist(bins=75)\n",
    "plt.ylabel('Количество')\n",
    "plt.xlabel('Стоимость')\n",
    "\n",
    "plt.title('Target distribution')\n",
    "plt.show()"
   ]
  },
  {
   "cell_type": "code",
   "execution_count": 12,
   "id": "cb9b482b",
   "metadata": {
    "scrolled": true
   },
   "outputs": [
    {
     "data": {
      "text/html": [
       "<div>\n",
       "<style scoped>\n",
       "    .dataframe tbody tr th:only-of-type {\n",
       "        vertical-align: middle;\n",
       "    }\n",
       "\n",
       "    .dataframe tbody tr th {\n",
       "        vertical-align: top;\n",
       "    }\n",
       "\n",
       "    .dataframe thead th {\n",
       "        text-align: right;\n",
       "    }\n",
       "</style>\n",
       "<table border=\"1\" class=\"dataframe\">\n",
       "  <thead>\n",
       "    <tr style=\"text-align: right;\">\n",
       "      <th></th>\n",
       "      <th>Id</th>\n",
       "      <th>DistrictId</th>\n",
       "      <th>Rooms</th>\n",
       "      <th>Square</th>\n",
       "      <th>LifeSquare</th>\n",
       "      <th>KitchenSquare</th>\n",
       "      <th>Floor</th>\n",
       "      <th>HouseFloor</th>\n",
       "      <th>HouseYear</th>\n",
       "      <th>Ecology_1</th>\n",
       "      <th>Social_1</th>\n",
       "      <th>Social_2</th>\n",
       "      <th>Social_3</th>\n",
       "      <th>Healthcare_1</th>\n",
       "      <th>Helthcare_2</th>\n",
       "      <th>Shops_1</th>\n",
       "      <th>Price</th>\n",
       "    </tr>\n",
       "  </thead>\n",
       "  <tbody>\n",
       "    <tr>\n",
       "      <th>count</th>\n",
       "      <td>10000.00000</td>\n",
       "      <td>10000.000000</td>\n",
       "      <td>10000.000000</td>\n",
       "      <td>10000.000000</td>\n",
       "      <td>7887.000000</td>\n",
       "      <td>10000.000000</td>\n",
       "      <td>10000.000000</td>\n",
       "      <td>10000.000000</td>\n",
       "      <td>1.000000e+04</td>\n",
       "      <td>10000.000000</td>\n",
       "      <td>10000.000000</td>\n",
       "      <td>10000.000000</td>\n",
       "      <td>10000.000000</td>\n",
       "      <td>5202.000000</td>\n",
       "      <td>10000.000000</td>\n",
       "      <td>10000.000000</td>\n",
       "      <td>10000.000000</td>\n",
       "    </tr>\n",
       "    <tr>\n",
       "      <th>mean</th>\n",
       "      <td>8383.40770</td>\n",
       "      <td>50.400800</td>\n",
       "      <td>1.890500</td>\n",
       "      <td>56.315775</td>\n",
       "      <td>37.199645</td>\n",
       "      <td>6.273300</td>\n",
       "      <td>8.526700</td>\n",
       "      <td>12.609400</td>\n",
       "      <td>3.990166e+03</td>\n",
       "      <td>0.118858</td>\n",
       "      <td>24.687000</td>\n",
       "      <td>5352.157400</td>\n",
       "      <td>8.039200</td>\n",
       "      <td>1142.904460</td>\n",
       "      <td>1.319500</td>\n",
       "      <td>4.231300</td>\n",
       "      <td>214138.857399</td>\n",
       "    </tr>\n",
       "    <tr>\n",
       "      <th>std</th>\n",
       "      <td>4859.01902</td>\n",
       "      <td>43.587592</td>\n",
       "      <td>0.839512</td>\n",
       "      <td>21.058732</td>\n",
       "      <td>86.241209</td>\n",
       "      <td>28.560917</td>\n",
       "      <td>5.241148</td>\n",
       "      <td>6.775974</td>\n",
       "      <td>2.005003e+05</td>\n",
       "      <td>0.119025</td>\n",
       "      <td>17.532614</td>\n",
       "      <td>4006.799803</td>\n",
       "      <td>23.831875</td>\n",
       "      <td>1021.517264</td>\n",
       "      <td>1.493601</td>\n",
       "      <td>4.806341</td>\n",
       "      <td>92872.293865</td>\n",
       "    </tr>\n",
       "    <tr>\n",
       "      <th>min</th>\n",
       "      <td>0.00000</td>\n",
       "      <td>0.000000</td>\n",
       "      <td>0.000000</td>\n",
       "      <td>1.136859</td>\n",
       "      <td>0.370619</td>\n",
       "      <td>0.000000</td>\n",
       "      <td>1.000000</td>\n",
       "      <td>0.000000</td>\n",
       "      <td>1.910000e+03</td>\n",
       "      <td>0.000000</td>\n",
       "      <td>0.000000</td>\n",
       "      <td>168.000000</td>\n",
       "      <td>0.000000</td>\n",
       "      <td>0.000000</td>\n",
       "      <td>0.000000</td>\n",
       "      <td>0.000000</td>\n",
       "      <td>59174.778028</td>\n",
       "    </tr>\n",
       "    <tr>\n",
       "      <th>25%</th>\n",
       "      <td>4169.50000</td>\n",
       "      <td>20.000000</td>\n",
       "      <td>1.000000</td>\n",
       "      <td>41.774881</td>\n",
       "      <td>22.769832</td>\n",
       "      <td>1.000000</td>\n",
       "      <td>4.000000</td>\n",
       "      <td>9.000000</td>\n",
       "      <td>1.974000e+03</td>\n",
       "      <td>0.017647</td>\n",
       "      <td>6.000000</td>\n",
       "      <td>1564.000000</td>\n",
       "      <td>0.000000</td>\n",
       "      <td>350.000000</td>\n",
       "      <td>0.000000</td>\n",
       "      <td>1.000000</td>\n",
       "      <td>153872.633942</td>\n",
       "    </tr>\n",
       "    <tr>\n",
       "      <th>50%</th>\n",
       "      <td>8394.50000</td>\n",
       "      <td>36.000000</td>\n",
       "      <td>2.000000</td>\n",
       "      <td>52.513310</td>\n",
       "      <td>32.781260</td>\n",
       "      <td>6.000000</td>\n",
       "      <td>7.000000</td>\n",
       "      <td>13.000000</td>\n",
       "      <td>1.977000e+03</td>\n",
       "      <td>0.075424</td>\n",
       "      <td>25.000000</td>\n",
       "      <td>5285.000000</td>\n",
       "      <td>2.000000</td>\n",
       "      <td>900.000000</td>\n",
       "      <td>1.000000</td>\n",
       "      <td>3.000000</td>\n",
       "      <td>192269.644879</td>\n",
       "    </tr>\n",
       "    <tr>\n",
       "      <th>75%</th>\n",
       "      <td>12592.50000</td>\n",
       "      <td>75.000000</td>\n",
       "      <td>2.000000</td>\n",
       "      <td>65.900625</td>\n",
       "      <td>45.128803</td>\n",
       "      <td>9.000000</td>\n",
       "      <td>12.000000</td>\n",
       "      <td>17.000000</td>\n",
       "      <td>2.001000e+03</td>\n",
       "      <td>0.195781</td>\n",
       "      <td>36.000000</td>\n",
       "      <td>7227.000000</td>\n",
       "      <td>5.000000</td>\n",
       "      <td>1548.000000</td>\n",
       "      <td>2.000000</td>\n",
       "      <td>6.000000</td>\n",
       "      <td>249135.462171</td>\n",
       "    </tr>\n",
       "    <tr>\n",
       "      <th>max</th>\n",
       "      <td>16798.00000</td>\n",
       "      <td>209.000000</td>\n",
       "      <td>19.000000</td>\n",
       "      <td>641.065193</td>\n",
       "      <td>7480.592129</td>\n",
       "      <td>2014.000000</td>\n",
       "      <td>42.000000</td>\n",
       "      <td>117.000000</td>\n",
       "      <td>2.005201e+07</td>\n",
       "      <td>0.521867</td>\n",
       "      <td>74.000000</td>\n",
       "      <td>19083.000000</td>\n",
       "      <td>141.000000</td>\n",
       "      <td>4849.000000</td>\n",
       "      <td>6.000000</td>\n",
       "      <td>23.000000</td>\n",
       "      <td>633233.466570</td>\n",
       "    </tr>\n",
       "  </tbody>\n",
       "</table>\n",
       "</div>"
      ],
      "text/plain": [
       "                Id    DistrictId         Rooms        Square   LifeSquare  \\\n",
       "count  10000.00000  10000.000000  10000.000000  10000.000000  7887.000000   \n",
       "mean    8383.40770     50.400800      1.890500     56.315775    37.199645   \n",
       "std     4859.01902     43.587592      0.839512     21.058732    86.241209   \n",
       "min        0.00000      0.000000      0.000000      1.136859     0.370619   \n",
       "25%     4169.50000     20.000000      1.000000     41.774881    22.769832   \n",
       "50%     8394.50000     36.000000      2.000000     52.513310    32.781260   \n",
       "75%    12592.50000     75.000000      2.000000     65.900625    45.128803   \n",
       "max    16798.00000    209.000000     19.000000    641.065193  7480.592129   \n",
       "\n",
       "       KitchenSquare         Floor    HouseFloor     HouseYear     Ecology_1  \\\n",
       "count   10000.000000  10000.000000  10000.000000  1.000000e+04  10000.000000   \n",
       "mean        6.273300      8.526700     12.609400  3.990166e+03      0.118858   \n",
       "std        28.560917      5.241148      6.775974  2.005003e+05      0.119025   \n",
       "min         0.000000      1.000000      0.000000  1.910000e+03      0.000000   \n",
       "25%         1.000000      4.000000      9.000000  1.974000e+03      0.017647   \n",
       "50%         6.000000      7.000000     13.000000  1.977000e+03      0.075424   \n",
       "75%         9.000000     12.000000     17.000000  2.001000e+03      0.195781   \n",
       "max      2014.000000     42.000000    117.000000  2.005201e+07      0.521867   \n",
       "\n",
       "           Social_1      Social_2      Social_3  Healthcare_1   Helthcare_2  \\\n",
       "count  10000.000000  10000.000000  10000.000000   5202.000000  10000.000000   \n",
       "mean      24.687000   5352.157400      8.039200   1142.904460      1.319500   \n",
       "std       17.532614   4006.799803     23.831875   1021.517264      1.493601   \n",
       "min        0.000000    168.000000      0.000000      0.000000      0.000000   \n",
       "25%        6.000000   1564.000000      0.000000    350.000000      0.000000   \n",
       "50%       25.000000   5285.000000      2.000000    900.000000      1.000000   \n",
       "75%       36.000000   7227.000000      5.000000   1548.000000      2.000000   \n",
       "max       74.000000  19083.000000    141.000000   4849.000000      6.000000   \n",
       "\n",
       "            Shops_1          Price  \n",
       "count  10000.000000   10000.000000  \n",
       "mean       4.231300  214138.857399  \n",
       "std        4.806341   92872.293865  \n",
       "min        0.000000   59174.778028  \n",
       "25%        1.000000  153872.633942  \n",
       "50%        3.000000  192269.644879  \n",
       "75%        6.000000  249135.462171  \n",
       "max       23.000000  633233.466570  "
      ]
     },
     "execution_count": 12,
     "metadata": {},
     "output_type": "execute_result"
    }
   ],
   "source": [
    "train_df.describe()"
   ]
  },
  {
   "cell_type": "markdown",
   "id": "9ed427b0",
   "metadata": {},
   "source": [
    "### Приведение типов <a class=\"anchor\" id=retype>"
   ]
  },
  {
   "cell_type": "markdown",
   "id": "0369d54c",
   "metadata": {},
   "source": [
    "Что можно сделать:\n",
    "* <b>Rooms</b>          10000 non-null  float64 - перевожу в int\n",
    "* <b>Square</b>         10000 non-null  float64 - перевожу в int \n",
    "* <b>LifeSquare</b>     7887 non-null   float64 - ЕСТЬ ПРОПУСКИ!!!- избавляемся и переводим в int\n",
    "* <b>KitchenSquare</b>  10000 non-null  float64 - перевожу в int\n",
    "* <b>Floor</b>          10000 non-null  int64   - перевожу в int\n",
    "* <b>HouseFloor</b>     10000 non-null  float64 - перевожу в int\n",
    "* <b>Healthcare_1</b>   5202 non-null   float64 - ЕСТЬ ПРОПУСКИ!!! - избавляемся"
   ]
  },
  {
   "cell_type": "code",
   "execution_count": 13,
   "id": "e25859fb",
   "metadata": {},
   "outputs": [],
   "source": [
    "train_df['Rooms'] = train_df['Rooms'].astype('int16')\n",
    "train_df['Square'] = train_df['Square'].astype('int16')\n",
    "train_df['KitchenSquare'] = train_df['KitchenSquare'].astype('int16')\n",
    "train_df['HouseFloor'] = train_df['HouseFloor'].astype('int16')"
   ]
  },
  {
   "cell_type": "markdown",
   "id": "b48d5b1e",
   "metadata": {},
   "source": [
    "Смотрим на основные статистика набора данных"
   ]
  },
  {
   "cell_type": "code",
   "execution_count": 14,
   "id": "03a6c743",
   "metadata": {},
   "outputs": [],
   "source": [
    "# df_num = train_df.select_dtypes(include=['int', 'float'])\n",
    "# df_num.hist(figsize=(16, 20), bins=50)"
   ]
  },
  {
   "cell_type": "markdown",
   "id": "aba05ae6",
   "metadata": {},
   "source": [
    "### Чистка данных <a class='anchor' id='cleaning'>"
   ]
  },
  {
   "cell_type": "markdown",
   "id": "54b70a8a",
   "metadata": {},
   "source": [
    "#### Square"
   ]
  },
  {
   "cell_type": "code",
   "execution_count": 15,
   "id": "76e678af",
   "metadata": {
    "scrolled": true
   },
   "outputs": [
    {
     "data": {
      "text/plain": [
       "Text(0.5, 1.0, 'Распределение на 64 бинов')"
      ]
     },
     "execution_count": 15,
     "metadata": {},
     "output_type": "execute_result"
    },
    {
     "data": {
      "image/png": "[encoded data removed]",
      "text/plain": [
       "<Figure size 1152x360 with 2 Axes>"
      ]
     },
     "metadata": {
      "needs_background": "light"
     },
     "output_type": "display_data"
    }
   ],
   "source": [
    "plt.figure(figsize=(16,5))\n",
    "\n",
    "plt.subplot(121)\n",
    "plt.hist(train_df['Square'], bins=36)\n",
    "plt.xlim(-20, 300)\n",
    "plt.xlabel('Площадь')\n",
    "plt.ylabel('Количество')\n",
    "plt.title('Распределение на 36 бинов')\n",
    "\n",
    "plt.subplot(122)\n",
    "plt.hist(train_df['Square'], bins=64)\n",
    "plt.xlim(-20, 450)\n",
    "plt.xlabel('Площадь')\n",
    "plt.ylabel('Количество')\n",
    "plt.title('Распределение на 64 бинов')\n"
   ]
  },
  {
   "cell_type": "markdown",
   "id": "66a790ca",
   "metadata": {},
   "source": [
    "Посмотрим на данные с лимитом по оси-X == 200"
   ]
  },
  {
   "cell_type": "code",
   "execution_count": 16,
   "id": "1897a973",
   "metadata": {},
   "outputs": [
    {
     "data": {
      "text/plain": [
       "Text(0.5, 1.0, 'Square - Распределение на 64 бинов')"
      ]
     },
     "execution_count": 16,
     "metadata": {},
     "output_type": "execute_result"
    },
    {
     "data": {
      "image/png": "[encoded data removed]",
      "text/plain": [
       "<Figure size 1152x360 with 2 Axes>"
      ]
     },
     "metadata": {
      "needs_background": "light"
     },
     "output_type": "display_data"
    }
   ],
   "source": [
    "plt.figure(figsize=(16,5))\n",
    "\n",
    "plt.subplot(121)\n",
    "plt.hist(train_df['Square'], bins=36)\n",
    "plt.xlim(-20, 200)\n",
    "plt.xlabel('Площадь')\n",
    "plt.ylabel('Количество')\n",
    "plt.title('Square - Распределение на 36 бинов')\n",
    "\n",
    "plt.subplot(122)\n",
    "plt.hist(train_df['Square'], bins=64)\n",
    "plt.xlim(-20, 200)\n",
    "plt.xlabel('Площадь')\n",
    "plt.ylabel('Количество')\n",
    "plt.title('Square - Распределение на 64 бинов')\n"
   ]
  },
  {
   "cell_type": "markdown",
   "id": "e0d5c014",
   "metadata": {},
   "source": [
    "Посмотрим на пары квантилей (1.5, 98.5), (1, 99), (0.5, 99.5)."
   ]
  },
  {
   "cell_type": "markdown",
   "id": "47b9e7b0",
   "metadata": {},
   "source": [
    "Находим квантили 98.5 и 1.5."
   ]
  },
  {
   "cell_type": "code",
   "execution_count": 17,
   "id": "c3476c83",
   "metadata": {},
   "outputs": [
    {
     "data": {
      "text/plain": [
       "(Square    30.0\n",
       " Name: 0.015, dtype: float64,\n",
       " Square    107.015\n",
       " Name: 0.985, dtype: float64)"
      ]
     },
     "execution_count": 17,
     "metadata": {},
     "output_type": "execute_result"
    }
   ],
   "source": [
    "train_df[['Square']].quantile(0.015), train_df[['Square']].quantile(0.985)"
   ]
  },
  {
   "cell_type": "code",
   "execution_count": 18,
   "id": "f9c06e98",
   "metadata": {},
   "outputs": [
    {
     "data": {
      "text/plain": [
       "(Square    29.0\n",
       " Name: 0.01, dtype: float64,\n",
       " Square    117.0\n",
       " Name: 0.99, dtype: float64)"
      ]
     },
     "execution_count": 18,
     "metadata": {},
     "output_type": "execute_result"
    }
   ],
   "source": [
    "train_df[['Square']].quantile(0.01), train_df[['Square']].quantile(0.99)"
   ]
  },
  {
   "cell_type": "code",
   "execution_count": 19,
   "id": "da5a0c59",
   "metadata": {},
   "outputs": [
    {
     "data": {
      "text/plain": [
       "(Square    27.0\n",
       " Name: 0.005, dtype: float64,\n",
       " Square    132.0\n",
       " Name: 0.995, dtype: float64)"
      ]
     },
     "execution_count": 19,
     "metadata": {},
     "output_type": "execute_result"
    }
   ],
   "source": [
    "train_df[['Square']].quantile(0.005), train_df[['Square']].quantile(0.995)"
   ]
  },
  {
   "cell_type": "code",
   "execution_count": 20,
   "id": "18f2b7b4",
   "metadata": {},
   "outputs": [
    {
     "data": {
      "text/html": [
       "<div>\n",
       "<style scoped>\n",
       "    .dataframe tbody tr th:only-of-type {\n",
       "        vertical-align: middle;\n",
       "    }\n",
       "\n",
       "    .dataframe tbody tr th {\n",
       "        vertical-align: top;\n",
       "    }\n",
       "\n",
       "    .dataframe thead th {\n",
       "        text-align: right;\n",
       "    }\n",
       "</style>\n",
       "<table border=\"1\" class=\"dataframe\">\n",
       "  <thead>\n",
       "    <tr style=\"text-align: right;\">\n",
       "      <th></th>\n",
       "      <th>Id</th>\n",
       "      <th>DistrictId</th>\n",
       "      <th>Rooms</th>\n",
       "      <th>Square</th>\n",
       "      <th>LifeSquare</th>\n",
       "      <th>KitchenSquare</th>\n",
       "      <th>Floor</th>\n",
       "      <th>HouseFloor</th>\n",
       "      <th>HouseYear</th>\n",
       "      <th>Ecology_1</th>\n",
       "      <th>Ecology_2</th>\n",
       "      <th>Ecology_3</th>\n",
       "      <th>Social_1</th>\n",
       "      <th>Social_2</th>\n",
       "      <th>Social_3</th>\n",
       "      <th>Healthcare_1</th>\n",
       "      <th>Helthcare_2</th>\n",
       "      <th>Shops_1</th>\n",
       "      <th>Shops_2</th>\n",
       "      <th>Price</th>\n",
       "    </tr>\n",
       "  </thead>\n",
       "  <tbody>\n",
       "    <tr>\n",
       "      <th>0</th>\n",
       "      <td>14038</td>\n",
       "      <td>35</td>\n",
       "      <td>2</td>\n",
       "      <td>47</td>\n",
       "      <td>29.442751</td>\n",
       "      <td>6</td>\n",
       "      <td>7</td>\n",
       "      <td>9</td>\n",
       "      <td>1969</td>\n",
       "      <td>0.089040</td>\n",
       "      <td>B</td>\n",
       "      <td>B</td>\n",
       "      <td>33</td>\n",
       "      <td>7976</td>\n",
       "      <td>5</td>\n",
       "      <td>NaN</td>\n",
       "      <td>0</td>\n",
       "      <td>11</td>\n",
       "      <td>B</td>\n",
       "      <td>184966.930730</td>\n",
       "    </tr>\n",
       "    <tr>\n",
       "      <th>1</th>\n",
       "      <td>15053</td>\n",
       "      <td>41</td>\n",
       "      <td>3</td>\n",
       "      <td>65</td>\n",
       "      <td>40.049543</td>\n",
       "      <td>8</td>\n",
       "      <td>7</td>\n",
       "      <td>9</td>\n",
       "      <td>1978</td>\n",
       "      <td>0.000070</td>\n",
       "      <td>B</td>\n",
       "      <td>B</td>\n",
       "      <td>46</td>\n",
       "      <td>10309</td>\n",
       "      <td>1</td>\n",
       "      <td>240.0</td>\n",
       "      <td>1</td>\n",
       "      <td>16</td>\n",
       "      <td>B</td>\n",
       "      <td>300009.450063</td>\n",
       "    </tr>\n",
       "    <tr>\n",
       "      <th>2</th>\n",
       "      <td>4765</td>\n",
       "      <td>53</td>\n",
       "      <td>2</td>\n",
       "      <td>44</td>\n",
       "      <td>29.197612</td>\n",
       "      <td>0</td>\n",
       "      <td>8</td>\n",
       "      <td>12</td>\n",
       "      <td>1968</td>\n",
       "      <td>0.049637</td>\n",
       "      <td>B</td>\n",
       "      <td>B</td>\n",
       "      <td>34</td>\n",
       "      <td>7759</td>\n",
       "      <td>0</td>\n",
       "      <td>229.0</td>\n",
       "      <td>1</td>\n",
       "      <td>3</td>\n",
       "      <td>B</td>\n",
       "      <td>220925.908524</td>\n",
       "    </tr>\n",
       "    <tr>\n",
       "      <th>3</th>\n",
       "      <td>5809</td>\n",
       "      <td>58</td>\n",
       "      <td>2</td>\n",
       "      <td>53</td>\n",
       "      <td>52.731512</td>\n",
       "      <td>9</td>\n",
       "      <td>8</td>\n",
       "      <td>17</td>\n",
       "      <td>1977</td>\n",
       "      <td>0.437885</td>\n",
       "      <td>B</td>\n",
       "      <td>B</td>\n",
       "      <td>23</td>\n",
       "      <td>5735</td>\n",
       "      <td>3</td>\n",
       "      <td>1084.0</td>\n",
       "      <td>0</td>\n",
       "      <td>5</td>\n",
       "      <td>B</td>\n",
       "      <td>175616.227217</td>\n",
       "    </tr>\n",
       "    <tr>\n",
       "      <th>4</th>\n",
       "      <td>10783</td>\n",
       "      <td>99</td>\n",
       "      <td>1</td>\n",
       "      <td>39</td>\n",
       "      <td>23.776169</td>\n",
       "      <td>7</td>\n",
       "      <td>11</td>\n",
       "      <td>12</td>\n",
       "      <td>1976</td>\n",
       "      <td>0.012339</td>\n",
       "      <td>B</td>\n",
       "      <td>B</td>\n",
       "      <td>35</td>\n",
       "      <td>5776</td>\n",
       "      <td>1</td>\n",
       "      <td>2078.0</td>\n",
       "      <td>2</td>\n",
       "      <td>4</td>\n",
       "      <td>B</td>\n",
       "      <td>150226.531644</td>\n",
       "    </tr>\n",
       "  </tbody>\n",
       "</table>\n",
       "</div>"
      ],
      "text/plain": [
       "      Id  DistrictId  Rooms  Square  LifeSquare  KitchenSquare  Floor  \\\n",
       "0  14038          35      2      47   29.442751              6      7   \n",
       "1  15053          41      3      65   40.049543              8      7   \n",
       "2   4765          53      2      44   29.197612              0      8   \n",
       "3   5809          58      2      53   52.731512              9      8   \n",
       "4  10783          99      1      39   23.776169              7     11   \n",
       "\n",
       "   HouseFloor  HouseYear  Ecology_1 Ecology_2 Ecology_3  Social_1  Social_2  \\\n",
       "0           9       1969   0.089040         B         B        33      7976   \n",
       "1           9       1978   0.000070         B         B        46     10309   \n",
       "2          12       1968   0.049637         B         B        34      7759   \n",
       "3          17       1977   0.437885         B         B        23      5735   \n",
       "4          12       1976   0.012339         B         B        35      5776   \n",
       "\n",
       "   Social_3  Healthcare_1  Helthcare_2  Shops_1 Shops_2          Price  \n",
       "0         5           NaN            0       11       B  184966.930730  \n",
       "1         1         240.0            1       16       B  300009.450063  \n",
       "2         0         229.0            1        3       B  220925.908524  \n",
       "3         3        1084.0            0        5       B  175616.227217  \n",
       "4         1        2078.0            2        4       B  150226.531644  "
      ]
     },
     "execution_count": 20,
     "metadata": {},
     "output_type": "execute_result"
    }
   ],
   "source": [
    "# train_df = train_df[train_df['Square'].isnull() |\n",
    "#                    (train_df['Square'] < train_df['Square'].quantile(.985)) &\n",
    "#                    (train_df['Square'] > train_df['Square'].quantile(.015))]\n",
    "train_df = train_df[train_df['Square'].isnull() |\n",
    "                    (train_df['Square'] < train_df['Square'].quantile(.995)) &\n",
    "                    (train_df['Square'] > train_df['Square'].quantile(.005))]\n",
    "train_df.head()"
   ]
  },
  {
   "cell_type": "markdown",
   "id": "8b74710d",
   "metadata": {},
   "source": [
    "Делаем копию поля 'Square'.\n",
    "Округляем значения 'Square' до десятков, полагаю, что точность до метра не нужна. "
   ]
  },
  {
   "cell_type": "code",
   "execution_count": 21,
   "id": "4fe0d4d9",
   "metadata": {},
   "outputs": [
    {
     "data": {
      "text/plain": [
       "Text(0.5, 1.0, 'Распределение на 64 бинов')"
      ]
     },
     "execution_count": 21,
     "metadata": {},
     "output_type": "execute_result"
    },
    {
     "data": {
      "image/png": "[encoded data removed]",
      "text/plain": [
       "<Figure size 1152x360 with 3 Axes>"
      ]
     },
     "metadata": {
      "needs_background": "light"
     },
     "output_type": "display_data"
    }
   ],
   "source": [
    "plt.figure(figsize=(16,5))\n",
    "plt.subplot(131)\n",
    "plt.hist(train_df['Square'], bins=16)\n",
    "plt.xlabel('Площадь')\n",
    "plt.ylabel('Количество')\n",
    "plt.title('Распределение на 16 бинов')\n",
    "\n",
    "plt.subplot(132)\n",
    "plt.hist(train_df['Square'], bins=36)\n",
    "plt.xlabel('Площадь')\n",
    "plt.ylabel('Количество')\n",
    "plt.title('Распределение на 36 бинов')\n",
    "\n",
    "plt.subplot(133)\n",
    "plt.hist(train_df['Square'], bins=64)\n",
    "plt.xlabel('Площадь')\n",
    "plt.ylabel('Количество')\n",
    "plt.title('Распределение на 64 бинов')"
   ]
  },
  {
   "cell_type": "code",
   "execution_count": 22,
   "id": "ccf0c584",
   "metadata": {},
   "outputs": [
    {
     "data": {
      "text/html": [
       "<div>\n",
       "<style scoped>\n",
       "    .dataframe tbody tr th:only-of-type {\n",
       "        vertical-align: middle;\n",
       "    }\n",
       "\n",
       "    .dataframe tbody tr th {\n",
       "        vertical-align: top;\n",
       "    }\n",
       "\n",
       "    .dataframe thead th {\n",
       "        text-align: right;\n",
       "    }\n",
       "</style>\n",
       "<table border=\"1\" class=\"dataframe\">\n",
       "  <thead>\n",
       "    <tr style=\"text-align: right;\">\n",
       "      <th></th>\n",
       "      <th>Id</th>\n",
       "      <th>DistrictId</th>\n",
       "      <th>Rooms</th>\n",
       "      <th>Square</th>\n",
       "      <th>LifeSquare</th>\n",
       "      <th>KitchenSquare</th>\n",
       "      <th>Floor</th>\n",
       "      <th>HouseFloor</th>\n",
       "      <th>HouseYear</th>\n",
       "      <th>Ecology_1</th>\n",
       "      <th>...</th>\n",
       "      <th>Ecology_3</th>\n",
       "      <th>Social_1</th>\n",
       "      <th>Social_2</th>\n",
       "      <th>Social_3</th>\n",
       "      <th>Healthcare_1</th>\n",
       "      <th>Helthcare_2</th>\n",
       "      <th>Shops_1</th>\n",
       "      <th>Shops_2</th>\n",
       "      <th>Price</th>\n",
       "      <th>Square_copy</th>\n",
       "    </tr>\n",
       "  </thead>\n",
       "  <tbody>\n",
       "    <tr>\n",
       "      <th>0</th>\n",
       "      <td>14038</td>\n",
       "      <td>35</td>\n",
       "      <td>2</td>\n",
       "      <td>50</td>\n",
       "      <td>29.442751</td>\n",
       "      <td>6</td>\n",
       "      <td>7</td>\n",
       "      <td>9</td>\n",
       "      <td>1969</td>\n",
       "      <td>0.089040</td>\n",
       "      <td>...</td>\n",
       "      <td>B</td>\n",
       "      <td>33</td>\n",
       "      <td>7976</td>\n",
       "      <td>5</td>\n",
       "      <td>NaN</td>\n",
       "      <td>0</td>\n",
       "      <td>11</td>\n",
       "      <td>B</td>\n",
       "      <td>184966.930730</td>\n",
       "      <td>47</td>\n",
       "    </tr>\n",
       "    <tr>\n",
       "      <th>1</th>\n",
       "      <td>15053</td>\n",
       "      <td>41</td>\n",
       "      <td>3</td>\n",
       "      <td>60</td>\n",
       "      <td>40.049543</td>\n",
       "      <td>8</td>\n",
       "      <td>7</td>\n",
       "      <td>9</td>\n",
       "      <td>1978</td>\n",
       "      <td>0.000070</td>\n",
       "      <td>...</td>\n",
       "      <td>B</td>\n",
       "      <td>46</td>\n",
       "      <td>10309</td>\n",
       "      <td>1</td>\n",
       "      <td>240.0</td>\n",
       "      <td>1</td>\n",
       "      <td>16</td>\n",
       "      <td>B</td>\n",
       "      <td>300009.450063</td>\n",
       "      <td>65</td>\n",
       "    </tr>\n",
       "    <tr>\n",
       "      <th>2</th>\n",
       "      <td>4765</td>\n",
       "      <td>53</td>\n",
       "      <td>2</td>\n",
       "      <td>40</td>\n",
       "      <td>29.197612</td>\n",
       "      <td>0</td>\n",
       "      <td>8</td>\n",
       "      <td>12</td>\n",
       "      <td>1968</td>\n",
       "      <td>0.049637</td>\n",
       "      <td>...</td>\n",
       "      <td>B</td>\n",
       "      <td>34</td>\n",
       "      <td>7759</td>\n",
       "      <td>0</td>\n",
       "      <td>229.0</td>\n",
       "      <td>1</td>\n",
       "      <td>3</td>\n",
       "      <td>B</td>\n",
       "      <td>220925.908524</td>\n",
       "      <td>44</td>\n",
       "    </tr>\n",
       "    <tr>\n",
       "      <th>3</th>\n",
       "      <td>5809</td>\n",
       "      <td>58</td>\n",
       "      <td>2</td>\n",
       "      <td>50</td>\n",
       "      <td>52.731512</td>\n",
       "      <td>9</td>\n",
       "      <td>8</td>\n",
       "      <td>17</td>\n",
       "      <td>1977</td>\n",
       "      <td>0.437885</td>\n",
       "      <td>...</td>\n",
       "      <td>B</td>\n",
       "      <td>23</td>\n",
       "      <td>5735</td>\n",
       "      <td>3</td>\n",
       "      <td>1084.0</td>\n",
       "      <td>0</td>\n",
       "      <td>5</td>\n",
       "      <td>B</td>\n",
       "      <td>175616.227217</td>\n",
       "      <td>53</td>\n",
       "    </tr>\n",
       "    <tr>\n",
       "      <th>4</th>\n",
       "      <td>10783</td>\n",
       "      <td>99</td>\n",
       "      <td>1</td>\n",
       "      <td>40</td>\n",
       "      <td>23.776169</td>\n",
       "      <td>7</td>\n",
       "      <td>11</td>\n",
       "      <td>12</td>\n",
       "      <td>1976</td>\n",
       "      <td>0.012339</td>\n",
       "      <td>...</td>\n",
       "      <td>B</td>\n",
       "      <td>35</td>\n",
       "      <td>5776</td>\n",
       "      <td>1</td>\n",
       "      <td>2078.0</td>\n",
       "      <td>2</td>\n",
       "      <td>4</td>\n",
       "      <td>B</td>\n",
       "      <td>150226.531644</td>\n",
       "      <td>39</td>\n",
       "    </tr>\n",
       "  </tbody>\n",
       "</table>\n",
       "<p>5 rows × 21 columns</p>\n",
       "</div>"
      ],
      "text/plain": [
       "      Id  DistrictId  Rooms  Square  LifeSquare  KitchenSquare  Floor  \\\n",
       "0  14038          35      2      50   29.442751              6      7   \n",
       "1  15053          41      3      60   40.049543              8      7   \n",
       "2   4765          53      2      40   29.197612              0      8   \n",
       "3   5809          58      2      50   52.731512              9      8   \n",
       "4  10783          99      1      40   23.776169              7     11   \n",
       "\n",
       "   HouseFloor  HouseYear  Ecology_1  ... Ecology_3 Social_1  Social_2  \\\n",
       "0           9       1969   0.089040  ...         B       33      7976   \n",
       "1           9       1978   0.000070  ...         B       46     10309   \n",
       "2          12       1968   0.049637  ...         B       34      7759   \n",
       "3          17       1977   0.437885  ...         B       23      5735   \n",
       "4          12       1976   0.012339  ...         B       35      5776   \n",
       "\n",
       "   Social_3  Healthcare_1  Helthcare_2  Shops_1  Shops_2          Price  \\\n",
       "0         5           NaN            0       11        B  184966.930730   \n",
       "1         1         240.0            1       16        B  300009.450063   \n",
       "2         0         229.0            1        3        B  220925.908524   \n",
       "3         3        1084.0            0        5        B  175616.227217   \n",
       "4         1        2078.0            2        4        B  150226.531644   \n",
       "\n",
       "   Square_copy  \n",
       "0           47  \n",
       "1           65  \n",
       "2           44  \n",
       "3           53  \n",
       "4           39  \n",
       "\n",
       "[5 rows x 21 columns]"
      ]
     },
     "execution_count": 22,
     "metadata": {},
     "output_type": "execute_result"
    }
   ],
   "source": [
    "train_df['Square_copy'] = train_df['Square']\n",
    "train_df['Square'] = train_df['Square'].round(decimals=-1)\n",
    "train_df.head()"
   ]
  },
  {
   "cell_type": "markdown",
   "id": "9911fa0d",
   "metadata": {},
   "source": [
    "#### LifeSquare"
   ]
  },
  {
   "cell_type": "code",
   "execution_count": 23,
   "id": "a94bc4c7",
   "metadata": {},
   "outputs": [
    {
     "data": {
      "text/plain": [
       "count    7801.000000\n",
       "mean       36.882067\n",
       "std        86.108937\n",
       "min         0.370619\n",
       "25%        22.858801\n",
       "50%        32.803769\n",
       "75%        45.056914\n",
       "max      7480.592129\n",
       "Name: LifeSquare, dtype: float64"
      ]
     },
     "execution_count": 23,
     "metadata": {},
     "output_type": "execute_result"
    }
   ],
   "source": [
    "train_df['LifeSquare'].describe()"
   ]
  },
  {
   "cell_type": "code",
   "execution_count": 24,
   "id": "bad3462b",
   "metadata": {},
   "outputs": [
    {
     "data": {
      "text/plain": [
       "Text(0.5, 1.0, 'Распределение на 64 бинов')"
      ]
     },
     "execution_count": 24,
     "metadata": {},
     "output_type": "execute_result"
    },
    {
     "data": {
      "image/png": "[encoded data removed]",
      "text/plain": [
       "<Figure size 1152x360 with 2 Axes>"
      ]
     },
     "metadata": {
      "needs_background": "light"
     },
     "output_type": "display_data"
    }
   ],
   "source": [
    "plt.figure(figsize=(16,5))\n",
    "\n",
    "plt.subplot(121)\n",
    "plt.hist(train_df['LifeSquare'], bins=36)\n",
    "plt.xlabel('Жилая площадь')\n",
    "plt.ylabel('Количество')\n",
    "plt.title('Распределение на 36 бинов')\n",
    "\n",
    "plt.subplot(122)\n",
    "plt.hist(train_df['LifeSquare'], bins=64)\n",
    "plt.xlabel('Жилая площадь')\n",
    "plt.ylabel('Количество')\n",
    "plt.title('Распределение на 64 бинов')"
   ]
  },
  {
   "cell_type": "code",
   "execution_count": 25,
   "id": "7c431c97",
   "metadata": {},
   "outputs": [
    {
     "data": {
      "text/plain": [
       "(LifeSquare    4.083905\n",
       " Name: 0.015, dtype: float64,\n",
       " LifeSquare    85.038779\n",
       " Name: 0.985, dtype: float64)"
      ]
     },
     "execution_count": 25,
     "metadata": {},
     "output_type": "execute_result"
    }
   ],
   "source": [
    "train_df[['LifeSquare']].quantile(0.015), train_df[['LifeSquare']].quantile(0.985)"
   ]
  },
  {
   "cell_type": "code",
   "execution_count": 26,
   "id": "94a2702b",
   "metadata": {},
   "outputs": [
    {
     "data": {
      "text/plain": [
       "(LifeSquare    1.836365\n",
       " Name: 0.005, dtype: float64,\n",
       " LifeSquare    101.525114\n",
       " Name: 0.995, dtype: float64)"
      ]
     },
     "execution_count": 26,
     "metadata": {},
     "output_type": "execute_result"
    }
   ],
   "source": [
    "train_df[['LifeSquare']].quantile(0.005), train_df[['LifeSquare']].quantile(0.995)"
   ]
  },
  {
   "cell_type": "markdown",
   "id": "d15b9fbc",
   "metadata": {},
   "source": [
    "Считаем, что 'LifeSquare' < 5m2 быть не может и пока присвоем 0"
   ]
  },
  {
   "cell_type": "code",
   "execution_count": 27,
   "id": "7fbc4089",
   "metadata": {},
   "outputs": [],
   "source": [
    "mask = (train_df['LifeSquare'] < 5)\n",
    "train_df.loc[mask, ['LifeSquare']] = 0\n"
   ]
  },
  {
   "cell_type": "markdown",
   "id": "f3af2f9b",
   "metadata": {},
   "source": [
    "Находим медианые значения 'LifeSquare' исходя из 'Square', 'Rooms'"
   ]
  },
  {
   "cell_type": "code",
   "execution_count": 28,
   "id": "010f94e7",
   "metadata": {},
   "outputs": [
    {
     "data": {
      "text/html": [
       "<div>\n",
       "<style scoped>\n",
       "    .dataframe tbody tr th:only-of-type {\n",
       "        vertical-align: middle;\n",
       "    }\n",
       "\n",
       "    .dataframe tbody tr th {\n",
       "        vertical-align: top;\n",
       "    }\n",
       "\n",
       "    .dataframe thead th {\n",
       "        text-align: right;\n",
       "    }\n",
       "</style>\n",
       "<table border=\"1\" class=\"dataframe\">\n",
       "  <thead>\n",
       "    <tr style=\"text-align: right;\">\n",
       "      <th></th>\n",
       "      <th>Square</th>\n",
       "      <th>Rooms</th>\n",
       "      <th>MedianLifeSquare</th>\n",
       "    </tr>\n",
       "  </thead>\n",
       "  <tbody>\n",
       "    <tr>\n",
       "      <th>0</th>\n",
       "      <td>30</td>\n",
       "      <td>1</td>\n",
       "      <td>20.0</td>\n",
       "    </tr>\n",
       "    <tr>\n",
       "      <th>1</th>\n",
       "      <td>30</td>\n",
       "      <td>2</td>\n",
       "      <td>23.0</td>\n",
       "    </tr>\n",
       "    <tr>\n",
       "      <th>2</th>\n",
       "      <td>30</td>\n",
       "      <td>3</td>\n",
       "      <td>28.0</td>\n",
       "    </tr>\n",
       "    <tr>\n",
       "      <th>3</th>\n",
       "      <td>40</td>\n",
       "      <td>0</td>\n",
       "      <td>19.0</td>\n",
       "    </tr>\n",
       "    <tr>\n",
       "      <th>4</th>\n",
       "      <td>40</td>\n",
       "      <td>1</td>\n",
       "      <td>22.0</td>\n",
       "    </tr>\n",
       "  </tbody>\n",
       "</table>\n",
       "</div>"
      ],
      "text/plain": [
       "   Square  Rooms  MedianLifeSquare\n",
       "0      30      1              20.0\n",
       "1      30      2              23.0\n",
       "2      30      3              28.0\n",
       "3      40      0              19.0\n",
       "4      40      1              22.0"
      ]
     },
     "execution_count": 28,
     "metadata": {},
     "output_type": "execute_result"
    }
   ],
   "source": [
    "mask = (train_df['LifeSquare'].isna())\n",
    "train_df.loc[mask]\n",
    "\n",
    "agg_data = train_df.groupby(['Square', 'Rooms'])['LifeSquare'].median().round()\n",
    "agg_data = pd.DataFrame(agg_data)\n",
    "agg_data.reset_index(inplace=True)\n",
    "agg_data.isna().sum()\n",
    "agg_data.dropna(axis=0, inplace=True)\n",
    "agg_data.rename(columns={'LifeSquare':'MedianLifeSquare'}, inplace=True)\n",
    "\n",
    "agg_data.head()"
   ]
  },
  {
   "cell_type": "code",
   "execution_count": 29,
   "id": "61639ca9",
   "metadata": {},
   "outputs": [
    {
     "data": {
      "text/html": [
       "<div>\n",
       "<style scoped>\n",
       "    .dataframe tbody tr th:only-of-type {\n",
       "        vertical-align: middle;\n",
       "    }\n",
       "\n",
       "    .dataframe tbody tr th {\n",
       "        vertical-align: top;\n",
       "    }\n",
       "\n",
       "    .dataframe thead th {\n",
       "        text-align: right;\n",
       "    }\n",
       "</style>\n",
       "<table border=\"1\" class=\"dataframe\">\n",
       "  <thead>\n",
       "    <tr style=\"text-align: right;\">\n",
       "      <th></th>\n",
       "      <th>Id</th>\n",
       "      <th>DistrictId</th>\n",
       "      <th>Rooms</th>\n",
       "      <th>Square</th>\n",
       "      <th>LifeSquare</th>\n",
       "      <th>KitchenSquare</th>\n",
       "      <th>Floor</th>\n",
       "      <th>HouseFloor</th>\n",
       "      <th>HouseYear</th>\n",
       "      <th>Ecology_1</th>\n",
       "      <th>...</th>\n",
       "      <th>Social_1</th>\n",
       "      <th>Social_2</th>\n",
       "      <th>Social_3</th>\n",
       "      <th>Healthcare_1</th>\n",
       "      <th>Helthcare_2</th>\n",
       "      <th>Shops_1</th>\n",
       "      <th>Shops_2</th>\n",
       "      <th>Price</th>\n",
       "      <th>Square_copy</th>\n",
       "      <th>MedianLifeSquare</th>\n",
       "    </tr>\n",
       "  </thead>\n",
       "  <tbody>\n",
       "    <tr>\n",
       "      <th>0</th>\n",
       "      <td>14038</td>\n",
       "      <td>35</td>\n",
       "      <td>2</td>\n",
       "      <td>50</td>\n",
       "      <td>29.442751</td>\n",
       "      <td>6</td>\n",
       "      <td>7</td>\n",
       "      <td>9</td>\n",
       "      <td>1969</td>\n",
       "      <td>0.089040</td>\n",
       "      <td>...</td>\n",
       "      <td>33</td>\n",
       "      <td>7976</td>\n",
       "      <td>5</td>\n",
       "      <td>NaN</td>\n",
       "      <td>0</td>\n",
       "      <td>11</td>\n",
       "      <td>B</td>\n",
       "      <td>184966.930730</td>\n",
       "      <td>47</td>\n",
       "      <td>32.0</td>\n",
       "    </tr>\n",
       "    <tr>\n",
       "      <th>1</th>\n",
       "      <td>15053</td>\n",
       "      <td>41</td>\n",
       "      <td>3</td>\n",
       "      <td>60</td>\n",
       "      <td>40.049543</td>\n",
       "      <td>8</td>\n",
       "      <td>7</td>\n",
       "      <td>9</td>\n",
       "      <td>1978</td>\n",
       "      <td>0.000070</td>\n",
       "      <td>...</td>\n",
       "      <td>46</td>\n",
       "      <td>10309</td>\n",
       "      <td>1</td>\n",
       "      <td>240.0</td>\n",
       "      <td>1</td>\n",
       "      <td>16</td>\n",
       "      <td>B</td>\n",
       "      <td>300009.450063</td>\n",
       "      <td>65</td>\n",
       "      <td>43.0</td>\n",
       "    </tr>\n",
       "    <tr>\n",
       "      <th>2</th>\n",
       "      <td>4765</td>\n",
       "      <td>53</td>\n",
       "      <td>2</td>\n",
       "      <td>40</td>\n",
       "      <td>29.197612</td>\n",
       "      <td>0</td>\n",
       "      <td>8</td>\n",
       "      <td>12</td>\n",
       "      <td>1968</td>\n",
       "      <td>0.049637</td>\n",
       "      <td>...</td>\n",
       "      <td>34</td>\n",
       "      <td>7759</td>\n",
       "      <td>0</td>\n",
       "      <td>229.0</td>\n",
       "      <td>1</td>\n",
       "      <td>3</td>\n",
       "      <td>B</td>\n",
       "      <td>220925.908524</td>\n",
       "      <td>44</td>\n",
       "      <td>28.0</td>\n",
       "    </tr>\n",
       "    <tr>\n",
       "      <th>3</th>\n",
       "      <td>5809</td>\n",
       "      <td>58</td>\n",
       "      <td>2</td>\n",
       "      <td>50</td>\n",
       "      <td>52.731512</td>\n",
       "      <td>9</td>\n",
       "      <td>8</td>\n",
       "      <td>17</td>\n",
       "      <td>1977</td>\n",
       "      <td>0.437885</td>\n",
       "      <td>...</td>\n",
       "      <td>23</td>\n",
       "      <td>5735</td>\n",
       "      <td>3</td>\n",
       "      <td>1084.0</td>\n",
       "      <td>0</td>\n",
       "      <td>5</td>\n",
       "      <td>B</td>\n",
       "      <td>175616.227217</td>\n",
       "      <td>53</td>\n",
       "      <td>32.0</td>\n",
       "    </tr>\n",
       "    <tr>\n",
       "      <th>4</th>\n",
       "      <td>10783</td>\n",
       "      <td>99</td>\n",
       "      <td>1</td>\n",
       "      <td>40</td>\n",
       "      <td>23.776169</td>\n",
       "      <td>7</td>\n",
       "      <td>11</td>\n",
       "      <td>12</td>\n",
       "      <td>1976</td>\n",
       "      <td>0.012339</td>\n",
       "      <td>...</td>\n",
       "      <td>35</td>\n",
       "      <td>5776</td>\n",
       "      <td>1</td>\n",
       "      <td>2078.0</td>\n",
       "      <td>2</td>\n",
       "      <td>4</td>\n",
       "      <td>B</td>\n",
       "      <td>150226.531644</td>\n",
       "      <td>39</td>\n",
       "      <td>22.0</td>\n",
       "    </tr>\n",
       "  </tbody>\n",
       "</table>\n",
       "<p>5 rows × 22 columns</p>\n",
       "</div>"
      ],
      "text/plain": [
       "      Id  DistrictId  Rooms  Square  LifeSquare  KitchenSquare  Floor  \\\n",
       "0  14038          35      2      50   29.442751              6      7   \n",
       "1  15053          41      3      60   40.049543              8      7   \n",
       "2   4765          53      2      40   29.197612              0      8   \n",
       "3   5809          58      2      50   52.731512              9      8   \n",
       "4  10783          99      1      40   23.776169              7     11   \n",
       "\n",
       "   HouseFloor  HouseYear  Ecology_1  ... Social_1 Social_2  Social_3  \\\n",
       "0           9       1969   0.089040  ...       33     7976         5   \n",
       "1           9       1978   0.000070  ...       46    10309         1   \n",
       "2          12       1968   0.049637  ...       34     7759         0   \n",
       "3          17       1977   0.437885  ...       23     5735         3   \n",
       "4          12       1976   0.012339  ...       35     5776         1   \n",
       "\n",
       "   Healthcare_1  Helthcare_2  Shops_1  Shops_2          Price Square_copy  \\\n",
       "0           NaN            0       11        B  184966.930730          47   \n",
       "1         240.0            1       16        B  300009.450063          65   \n",
       "2         229.0            1        3        B  220925.908524          44   \n",
       "3        1084.0            0        5        B  175616.227217          53   \n",
       "4        2078.0            2        4        B  150226.531644          39   \n",
       "\n",
       "   MedianLifeSquare  \n",
       "0              32.0  \n",
       "1              43.0  \n",
       "2              28.0  \n",
       "3              32.0  \n",
       "4              22.0  \n",
       "\n",
       "[5 rows x 22 columns]"
      ]
     },
     "execution_count": 29,
     "metadata": {},
     "output_type": "execute_result"
    }
   ],
   "source": [
    "merged_df = pd.merge(train_df, agg_data, how='left', on=['Square', 'Rooms'])\n",
    "merged_df.head()"
   ]
  },
  {
   "cell_type": "code",
   "execution_count": 30,
   "id": "401bb061",
   "metadata": {},
   "outputs": [
    {
     "data": {
      "text/plain": [
       "2085"
      ]
     },
     "execution_count": 30,
     "metadata": {},
     "output_type": "execute_result"
    }
   ],
   "source": [
    "merged_df['LifeSquare'].isna().sum()"
   ]
  },
  {
   "cell_type": "markdown",
   "id": "d1794228",
   "metadata": {},
   "source": [
    "Заполняем Nan значениями 'MedianLifeSquare'"
   ]
  },
  {
   "cell_type": "code",
   "execution_count": 31,
   "id": "7538692e",
   "metadata": {},
   "outputs": [],
   "source": [
    "mask = (merged_df['LifeSquare'].isna())\n",
    "merged_df.loc[mask, ['LifeSquare']] = merged_df['MedianLifeSquare']"
   ]
  },
  {
   "cell_type": "markdown",
   "id": "de1a34ce",
   "metadata": {},
   "source": [
    "Удаляем колонку 'MedianLifeSquare'"
   ]
  },
  {
   "cell_type": "code",
   "execution_count": 32,
   "id": "5731f58e",
   "metadata": {},
   "outputs": [],
   "source": [
    "merged_df.drop('MedianLifeSquare', axis=1, inplace=True)"
   ]
  },
  {
   "cell_type": "code",
   "execution_count": 33,
   "id": "626cd7d5",
   "metadata": {},
   "outputs": [
    {
     "data": {
      "text/html": [
       "<div>\n",
       "<style scoped>\n",
       "    .dataframe tbody tr th:only-of-type {\n",
       "        vertical-align: middle;\n",
       "    }\n",
       "\n",
       "    .dataframe tbody tr th {\n",
       "        vertical-align: top;\n",
       "    }\n",
       "\n",
       "    .dataframe thead th {\n",
       "        text-align: right;\n",
       "    }\n",
       "</style>\n",
       "<table border=\"1\" class=\"dataframe\">\n",
       "  <thead>\n",
       "    <tr style=\"text-align: right;\">\n",
       "      <th></th>\n",
       "      <th>Id</th>\n",
       "      <th>DistrictId</th>\n",
       "      <th>Rooms</th>\n",
       "      <th>Square</th>\n",
       "      <th>LifeSquare</th>\n",
       "      <th>KitchenSquare</th>\n",
       "      <th>Floor</th>\n",
       "      <th>HouseFloor</th>\n",
       "      <th>HouseYear</th>\n",
       "      <th>Ecology_1</th>\n",
       "      <th>...</th>\n",
       "      <th>Ecology_3</th>\n",
       "      <th>Social_1</th>\n",
       "      <th>Social_2</th>\n",
       "      <th>Social_3</th>\n",
       "      <th>Healthcare_1</th>\n",
       "      <th>Helthcare_2</th>\n",
       "      <th>Shops_1</th>\n",
       "      <th>Shops_2</th>\n",
       "      <th>Price</th>\n",
       "      <th>Square_copy</th>\n",
       "    </tr>\n",
       "  </thead>\n",
       "  <tbody>\n",
       "    <tr>\n",
       "      <th>3868</th>\n",
       "      <td>770</td>\n",
       "      <td>28</td>\n",
       "      <td>0</td>\n",
       "      <td>50</td>\n",
       "      <td>NaN</td>\n",
       "      <td>0</td>\n",
       "      <td>16</td>\n",
       "      <td>0</td>\n",
       "      <td>2015</td>\n",
       "      <td>0.118537</td>\n",
       "      <td>...</td>\n",
       "      <td>B</td>\n",
       "      <td>30</td>\n",
       "      <td>6207</td>\n",
       "      <td>1</td>\n",
       "      <td>1183.0</td>\n",
       "      <td>1</td>\n",
       "      <td>0</td>\n",
       "      <td>B</td>\n",
       "      <td>217009.338463</td>\n",
       "      <td>49</td>\n",
       "    </tr>\n",
       "    <tr>\n",
       "      <th>4316</th>\n",
       "      <td>456</td>\n",
       "      <td>6</td>\n",
       "      <td>0</td>\n",
       "      <td>80</td>\n",
       "      <td>NaN</td>\n",
       "      <td>0</td>\n",
       "      <td>4</td>\n",
       "      <td>0</td>\n",
       "      <td>1977</td>\n",
       "      <td>0.243205</td>\n",
       "      <td>...</td>\n",
       "      <td>B</td>\n",
       "      <td>5</td>\n",
       "      <td>1564</td>\n",
       "      <td>0</td>\n",
       "      <td>540.0</td>\n",
       "      <td>0</td>\n",
       "      <td>0</td>\n",
       "      <td>B</td>\n",
       "      <td>212864.799112</td>\n",
       "      <td>81</td>\n",
       "    </tr>\n",
       "  </tbody>\n",
       "</table>\n",
       "<p>2 rows × 21 columns</p>\n",
       "</div>"
      ],
      "text/plain": [
       "       Id  DistrictId  Rooms  Square  LifeSquare  KitchenSquare  Floor  \\\n",
       "3868  770          28      0      50         NaN              0     16   \n",
       "4316  456           6      0      80         NaN              0      4   \n",
       "\n",
       "      HouseFloor  HouseYear  Ecology_1  ... Ecology_3 Social_1  Social_2  \\\n",
       "3868           0       2015   0.118537  ...         B       30      6207   \n",
       "4316           0       1977   0.243205  ...         B        5      1564   \n",
       "\n",
       "      Social_3  Healthcare_1  Helthcare_2  Shops_1  Shops_2          Price  \\\n",
       "3868         1        1183.0            1        0        B  217009.338463   \n",
       "4316         0         540.0            0        0        B  212864.799112   \n",
       "\n",
       "      Square_copy  \n",
       "3868           49  \n",
       "4316           81  \n",
       "\n",
       "[2 rows x 21 columns]"
      ]
     },
     "execution_count": 33,
     "metadata": {},
     "output_type": "execute_result"
    }
   ],
   "source": [
    "mask = (merged_df['LifeSquare'].isna())\n",
    "merged_df.loc[mask]"
   ]
  },
  {
   "cell_type": "code",
   "execution_count": 34,
   "id": "804e7362",
   "metadata": {},
   "outputs": [],
   "source": [
    "train_df = merged_df"
   ]
  },
  {
   "cell_type": "markdown",
   "id": "dd5396fd",
   "metadata": {},
   "source": [
    "Находим медианные значения 'Square' и 'LifeSquare'"
   ]
  },
  {
   "cell_type": "code",
   "execution_count": 35,
   "id": "40049613",
   "metadata": {},
   "outputs": [
    {
     "name": "stdout",
     "output_type": "stream",
     "text": [
      "Square median value: 50.0\n",
      "LifeSquare median value: 33.090669262923456\n"
     ]
    }
   ],
   "source": [
    "median_square = train_df['Square'].median()\n",
    "median_life_square = train_df['LifeSquare'].median()\n",
    "\n",
    "print('Square median value:', median_square)\n",
    "print('LifeSquare median value:', median_life_square)"
   ]
  },
  {
   "cell_type": "markdown",
   "id": "ca989904",
   "metadata": {},
   "source": [
    "Рассчитываем соотношение жилой площади к общей"
   ]
  },
  {
   "cell_type": "code",
   "execution_count": 36,
   "id": "808b3fac",
   "metadata": {},
   "outputs": [
    {
     "name": "stdout",
     "output_type": "stream",
     "text": [
      "0.6618133852584691\n"
     ]
    }
   ],
   "source": [
    "square_rel = median_life_square / median_square\n",
    "print(square_rel)"
   ]
  },
  {
   "cell_type": "markdown",
   "id": "afab8ec3",
   "metadata": {},
   "source": [
    "Заполняем оставшиеся пропуски в поле 'LifeSquare' как 'Square' * square_rel"
   ]
  },
  {
   "cell_type": "code",
   "execution_count": 37,
   "id": "56a3b952",
   "metadata": {},
   "outputs": [
    {
     "data": {
      "text/html": [
       "<div>\n",
       "<style scoped>\n",
       "    .dataframe tbody tr th:only-of-type {\n",
       "        vertical-align: middle;\n",
       "    }\n",
       "\n",
       "    .dataframe tbody tr th {\n",
       "        vertical-align: top;\n",
       "    }\n",
       "\n",
       "    .dataframe thead th {\n",
       "        text-align: right;\n",
       "    }\n",
       "</style>\n",
       "<table border=\"1\" class=\"dataframe\">\n",
       "  <thead>\n",
       "    <tr style=\"text-align: right;\">\n",
       "      <th></th>\n",
       "      <th>Id</th>\n",
       "      <th>DistrictId</th>\n",
       "      <th>Rooms</th>\n",
       "      <th>Square</th>\n",
       "      <th>LifeSquare</th>\n",
       "      <th>KitchenSquare</th>\n",
       "      <th>Floor</th>\n",
       "      <th>HouseFloor</th>\n",
       "      <th>HouseYear</th>\n",
       "      <th>Ecology_1</th>\n",
       "      <th>...</th>\n",
       "      <th>Ecology_3</th>\n",
       "      <th>Social_1</th>\n",
       "      <th>Social_2</th>\n",
       "      <th>Social_3</th>\n",
       "      <th>Healthcare_1</th>\n",
       "      <th>Helthcare_2</th>\n",
       "      <th>Shops_1</th>\n",
       "      <th>Shops_2</th>\n",
       "      <th>Price</th>\n",
       "      <th>Square_copy</th>\n",
       "    </tr>\n",
       "  </thead>\n",
       "  <tbody>\n",
       "    <tr>\n",
       "      <th>3868</th>\n",
       "      <td>770</td>\n",
       "      <td>28</td>\n",
       "      <td>0</td>\n",
       "      <td>50</td>\n",
       "      <td>33.090669</td>\n",
       "      <td>0</td>\n",
       "      <td>16</td>\n",
       "      <td>0</td>\n",
       "      <td>2015</td>\n",
       "      <td>0.118537</td>\n",
       "      <td>...</td>\n",
       "      <td>B</td>\n",
       "      <td>30</td>\n",
       "      <td>6207</td>\n",
       "      <td>1</td>\n",
       "      <td>1183.0</td>\n",
       "      <td>1</td>\n",
       "      <td>0</td>\n",
       "      <td>B</td>\n",
       "      <td>217009.338463</td>\n",
       "      <td>49</td>\n",
       "    </tr>\n",
       "    <tr>\n",
       "      <th>4316</th>\n",
       "      <td>456</td>\n",
       "      <td>6</td>\n",
       "      <td>0</td>\n",
       "      <td>80</td>\n",
       "      <td>52.945071</td>\n",
       "      <td>0</td>\n",
       "      <td>4</td>\n",
       "      <td>0</td>\n",
       "      <td>1977</td>\n",
       "      <td>0.243205</td>\n",
       "      <td>...</td>\n",
       "      <td>B</td>\n",
       "      <td>5</td>\n",
       "      <td>1564</td>\n",
       "      <td>0</td>\n",
       "      <td>540.0</td>\n",
       "      <td>0</td>\n",
       "      <td>0</td>\n",
       "      <td>B</td>\n",
       "      <td>212864.799112</td>\n",
       "      <td>81</td>\n",
       "    </tr>\n",
       "  </tbody>\n",
       "</table>\n",
       "<p>2 rows × 21 columns</p>\n",
       "</div>"
      ],
      "text/plain": [
       "       Id  DistrictId  Rooms  Square  LifeSquare  KitchenSquare  Floor  \\\n",
       "3868  770          28      0      50   33.090669              0     16   \n",
       "4316  456           6      0      80   52.945071              0      4   \n",
       "\n",
       "      HouseFloor  HouseYear  Ecology_1  ... Ecology_3 Social_1  Social_2  \\\n",
       "3868           0       2015   0.118537  ...         B       30      6207   \n",
       "4316           0       1977   0.243205  ...         B        5      1564   \n",
       "\n",
       "      Social_3  Healthcare_1  Helthcare_2  Shops_1  Shops_2          Price  \\\n",
       "3868         1        1183.0            1        0        B  217009.338463   \n",
       "4316         0         540.0            0        0        B  212864.799112   \n",
       "\n",
       "      Square_copy  \n",
       "3868           49  \n",
       "4316           81  \n",
       "\n",
       "[2 rows x 21 columns]"
      ]
     },
     "execution_count": 37,
     "metadata": {},
     "output_type": "execute_result"
    }
   ],
   "source": [
    "mask = (train_df['LifeSquare'].isna())\n",
    "train_df.loc[mask, 'LifeSquare'] = train_df['Square'] * square_rel\n",
    "train_df.loc[mask]"
   ]
  },
  {
   "cell_type": "code",
   "execution_count": 38,
   "id": "033910db",
   "metadata": {},
   "outputs": [],
   "source": [
    "train_df['LifeSquare'] = train_df['LifeSquare'].astype(int) "
   ]
  },
  {
   "cell_type": "code",
   "execution_count": 39,
   "id": "27372ced",
   "metadata": {},
   "outputs": [
    {
     "name": "stdout",
     "output_type": "stream",
     "text": [
      "<class 'pandas.core.frame.DataFrame'>\n",
      "Int64Index: 9886 entries, 0 to 9885\n",
      "Data columns (total 21 columns):\n",
      " #   Column         Non-Null Count  Dtype  \n",
      "---  ------         --------------  -----  \n",
      " 0   Id             9886 non-null   int64  \n",
      " 1   DistrictId     9886 non-null   int64  \n",
      " 2   Rooms          9886 non-null   int16  \n",
      " 3   Square         9886 non-null   int16  \n",
      " 4   LifeSquare     9886 non-null   int64  \n",
      " 5   KitchenSquare  9886 non-null   int16  \n",
      " 6   Floor          9886 non-null   int64  \n",
      " 7   HouseFloor     9886 non-null   int16  \n",
      " 8   HouseYear      9886 non-null   int64  \n",
      " 9   Ecology_1      9886 non-null   float64\n",
      " 10  Ecology_2      9886 non-null   object \n",
      " 11  Ecology_3      9886 non-null   object \n",
      " 12  Social_1       9886 non-null   int64  \n",
      " 13  Social_2       9886 non-null   int64  \n",
      " 14  Social_3       9886 non-null   int64  \n",
      " 15  Healthcare_1   5149 non-null   float64\n",
      " 16  Helthcare_2    9886 non-null   int64  \n",
      " 17  Shops_1        9886 non-null   int64  \n",
      " 18  Shops_2        9886 non-null   object \n",
      " 19  Price          9886 non-null   float64\n",
      " 20  Square_copy    9886 non-null   int16  \n",
      "dtypes: float64(3), int16(5), int64(10), object(3)\n",
      "memory usage: 1.6+ MB\n"
     ]
    }
   ],
   "source": [
    "train_df.info()"
   ]
  },
  {
   "cell_type": "markdown",
   "id": "0c069a29",
   "metadata": {},
   "source": [
    "Находим записи где ('LifeSquare' > 'Square') & ('KitchenSquare < 1) и заполняем их по формуле \n",
    "'LifeSquare' = 'Square'\n",
    "\n",
    "'LifeSquare' как 'Square' * square_rel"
   ]
  },
  {
   "cell_type": "code",
   "execution_count": 40,
   "id": "8da4e07f",
   "metadata": {},
   "outputs": [],
   "source": [
    "mask = (train_df['LifeSquare'] > train_df['Square']) & \\\n",
    "        (train_df['KitchenSquare'] <= 1)\n",
    "train_df.loc[mask, 'LifeSquare'] = train_df['Square']\n",
    "# train_df[mask]"
   ]
  },
  {
   "cell_type": "markdown",
   "id": "e4bf7b68",
   "metadata": {},
   "source": [
    "Находим все записи где 'LifeSquare' > 'Square' и присваеваем 'LifeSquare' = 'Square' "
   ]
  },
  {
   "cell_type": "code",
   "execution_count": 41,
   "id": "b2109041",
   "metadata": {},
   "outputs": [],
   "source": [
    "mask = (train_df['Square'] < train_df['LifeSquare'])\n",
    "train_df.loc[mask, 'LifeSquare'] = train_df['Square']"
   ]
  },
  {
   "cell_type": "code",
   "execution_count": 42,
   "id": "0305f77a",
   "metadata": {},
   "outputs": [
    {
     "data": {
      "text/plain": [
       "Text(0.5, 1.0, 'Распределение на 64 бинов')"
      ]
     },
     "execution_count": 42,
     "metadata": {},
     "output_type": "execute_result"
    },
    {
     "data": {
      "image/png": "[encoded data removed]",
      "text/plain": [
       "<Figure size 1152x360 with 3 Axes>"
      ]
     },
     "metadata": {
      "needs_background": "light"
     },
     "output_type": "display_data"
    }
   ],
   "source": [
    "plt.figure(figsize=(16,5))\n",
    "plt.subplot(131)\n",
    "plt.hist(train_df['LifeSquare'], bins=16)\n",
    "plt.xlabel('Площадь')\n",
    "plt.ylabel('Количество')\n",
    "plt.title('Распределение на 16 бинов')\n",
    "\n",
    "plt.subplot(132)\n",
    "plt.hist(train_df['LifeSquare'], bins=36)\n",
    "plt.xlabel('Площадь')\n",
    "plt.ylabel('Количество')\n",
    "plt.title('Распределение на 36 бинов')\n",
    "\n",
    "plt.subplot(133)\n",
    "plt.hist(train_df['LifeSquare'], bins=64)\n",
    "plt.xlabel('Площадь')\n",
    "plt.ylabel('Количество')\n",
    "plt.title('Распределение на 64 бинов')"
   ]
  },
  {
   "cell_type": "markdown",
   "id": "2b433fe3",
   "metadata": {},
   "source": [
    "#### Rooms"
   ]
  },
  {
   "cell_type": "code",
   "execution_count": 43,
   "id": "c1ff6fd1",
   "metadata": {},
   "outputs": [
    {
     "data": {
      "text/plain": [
       "count    9886.000000\n",
       "mean        1.889945\n",
       "std         0.833435\n",
       "min         0.000000\n",
       "25%         1.000000\n",
       "50%         2.000000\n",
       "75%         2.000000\n",
       "max        19.000000\n",
       "Name: Rooms, dtype: float64"
      ]
     },
     "execution_count": 43,
     "metadata": {},
     "output_type": "execute_result"
    }
   ],
   "source": [
    "train_df['Rooms'].describe()"
   ]
  },
  {
   "cell_type": "code",
   "execution_count": 44,
   "id": "89bdcfb3",
   "metadata": {},
   "outputs": [
    {
     "data": {
      "text/plain": [
       "2     3873\n",
       "1     3643\n",
       "3     2208\n",
       "4      139\n",
       "5       14\n",
       "0        5\n",
       "10       2\n",
       "19       1\n",
       "6        1\n",
       "Name: Rooms, dtype: int64"
      ]
     },
     "execution_count": 44,
     "metadata": {},
     "output_type": "execute_result"
    }
   ],
   "source": [
    "train_df['Rooms'].value_counts()"
   ]
  },
  {
   "cell_type": "markdown",
   "id": "c792bddc",
   "metadata": {},
   "source": [
    "Смотрим на данные где значения 'Rooms' >= 10 | 'Rooms' < 1 "
   ]
  },
  {
   "cell_type": "code",
   "execution_count": 45,
   "id": "ffed0ef0",
   "metadata": {},
   "outputs": [
    {
     "data": {
      "text/html": [
       "<div>\n",
       "<style scoped>\n",
       "    .dataframe tbody tr th:only-of-type {\n",
       "        vertical-align: middle;\n",
       "    }\n",
       "\n",
       "    .dataframe tbody tr th {\n",
       "        vertical-align: top;\n",
       "    }\n",
       "\n",
       "    .dataframe thead th {\n",
       "        text-align: right;\n",
       "    }\n",
       "</style>\n",
       "<table border=\"1\" class=\"dataframe\">\n",
       "  <thead>\n",
       "    <tr style=\"text-align: right;\">\n",
       "      <th></th>\n",
       "      <th>Id</th>\n",
       "      <th>DistrictId</th>\n",
       "      <th>Rooms</th>\n",
       "      <th>Square</th>\n",
       "      <th>LifeSquare</th>\n",
       "      <th>KitchenSquare</th>\n",
       "      <th>Floor</th>\n",
       "      <th>HouseFloor</th>\n",
       "      <th>HouseYear</th>\n",
       "      <th>Ecology_1</th>\n",
       "      <th>...</th>\n",
       "      <th>Ecology_3</th>\n",
       "      <th>Social_1</th>\n",
       "      <th>Social_2</th>\n",
       "      <th>Social_3</th>\n",
       "      <th>Healthcare_1</th>\n",
       "      <th>Helthcare_2</th>\n",
       "      <th>Shops_1</th>\n",
       "      <th>Shops_2</th>\n",
       "      <th>Price</th>\n",
       "      <th>Square_copy</th>\n",
       "    </tr>\n",
       "  </thead>\n",
       "  <tbody>\n",
       "    <tr>\n",
       "      <th>376</th>\n",
       "      <td>5927</td>\n",
       "      <td>57</td>\n",
       "      <td>10</td>\n",
       "      <td>60</td>\n",
       "      <td>36</td>\n",
       "      <td>10</td>\n",
       "      <td>22</td>\n",
       "      <td>22</td>\n",
       "      <td>2002</td>\n",
       "      <td>0.090799</td>\n",
       "      <td>...</td>\n",
       "      <td>B</td>\n",
       "      <td>74</td>\n",
       "      <td>19083</td>\n",
       "      <td>2</td>\n",
       "      <td>NaN</td>\n",
       "      <td>5</td>\n",
       "      <td>15</td>\n",
       "      <td>B</td>\n",
       "      <td>317265.323792</td>\n",
       "      <td>59</td>\n",
       "    </tr>\n",
       "    <tr>\n",
       "      <th>1442</th>\n",
       "      <td>8491</td>\n",
       "      <td>1</td>\n",
       "      <td>19</td>\n",
       "      <td>40</td>\n",
       "      <td>21</td>\n",
       "      <td>7</td>\n",
       "      <td>17</td>\n",
       "      <td>17</td>\n",
       "      <td>2014</td>\n",
       "      <td>0.007122</td>\n",
       "      <td>...</td>\n",
       "      <td>B</td>\n",
       "      <td>1</td>\n",
       "      <td>264</td>\n",
       "      <td>0</td>\n",
       "      <td>NaN</td>\n",
       "      <td>0</td>\n",
       "      <td>1</td>\n",
       "      <td>B</td>\n",
       "      <td>78364.616704</td>\n",
       "      <td>42</td>\n",
       "    </tr>\n",
       "    <tr>\n",
       "      <th>2244</th>\n",
       "      <td>7317</td>\n",
       "      <td>27</td>\n",
       "      <td>0</td>\n",
       "      <td>40</td>\n",
       "      <td>19</td>\n",
       "      <td>0</td>\n",
       "      <td>13</td>\n",
       "      <td>0</td>\n",
       "      <td>1977</td>\n",
       "      <td>0.211401</td>\n",
       "      <td>...</td>\n",
       "      <td>B</td>\n",
       "      <td>9</td>\n",
       "      <td>1892</td>\n",
       "      <td>0</td>\n",
       "      <td>NaN</td>\n",
       "      <td>0</td>\n",
       "      <td>1</td>\n",
       "      <td>B</td>\n",
       "      <td>98129.976788</td>\n",
       "      <td>41</td>\n",
       "    </tr>\n",
       "    <tr>\n",
       "      <th>3868</th>\n",
       "      <td>770</td>\n",
       "      <td>28</td>\n",
       "      <td>0</td>\n",
       "      <td>50</td>\n",
       "      <td>33</td>\n",
       "      <td>0</td>\n",
       "      <td>16</td>\n",
       "      <td>0</td>\n",
       "      <td>2015</td>\n",
       "      <td>0.118537</td>\n",
       "      <td>...</td>\n",
       "      <td>B</td>\n",
       "      <td>30</td>\n",
       "      <td>6207</td>\n",
       "      <td>1</td>\n",
       "      <td>1183.0</td>\n",
       "      <td>1</td>\n",
       "      <td>0</td>\n",
       "      <td>B</td>\n",
       "      <td>217009.338463</td>\n",
       "      <td>49</td>\n",
       "    </tr>\n",
       "    <tr>\n",
       "      <th>4316</th>\n",
       "      <td>456</td>\n",
       "      <td>6</td>\n",
       "      <td>0</td>\n",
       "      <td>80</td>\n",
       "      <td>52</td>\n",
       "      <td>0</td>\n",
       "      <td>4</td>\n",
       "      <td>0</td>\n",
       "      <td>1977</td>\n",
       "      <td>0.243205</td>\n",
       "      <td>...</td>\n",
       "      <td>B</td>\n",
       "      <td>5</td>\n",
       "      <td>1564</td>\n",
       "      <td>0</td>\n",
       "      <td>540.0</td>\n",
       "      <td>0</td>\n",
       "      <td>0</td>\n",
       "      <td>B</td>\n",
       "      <td>212864.799112</td>\n",
       "      <td>81</td>\n",
       "    </tr>\n",
       "    <tr>\n",
       "      <th>6085</th>\n",
       "      <td>3159</td>\n",
       "      <td>88</td>\n",
       "      <td>0</td>\n",
       "      <td>40</td>\n",
       "      <td>19</td>\n",
       "      <td>9</td>\n",
       "      <td>9</td>\n",
       "      <td>16</td>\n",
       "      <td>1982</td>\n",
       "      <td>0.127376</td>\n",
       "      <td>...</td>\n",
       "      <td>B</td>\n",
       "      <td>43</td>\n",
       "      <td>8429</td>\n",
       "      <td>3</td>\n",
       "      <td>NaN</td>\n",
       "      <td>3</td>\n",
       "      <td>9</td>\n",
       "      <td>B</td>\n",
       "      <td>158998.110646</td>\n",
       "      <td>38</td>\n",
       "    </tr>\n",
       "    <tr>\n",
       "      <th>8735</th>\n",
       "      <td>9443</td>\n",
       "      <td>27</td>\n",
       "      <td>0</td>\n",
       "      <td>90</td>\n",
       "      <td>85</td>\n",
       "      <td>0</td>\n",
       "      <td>5</td>\n",
       "      <td>15</td>\n",
       "      <td>1977</td>\n",
       "      <td>0.211401</td>\n",
       "      <td>...</td>\n",
       "      <td>B</td>\n",
       "      <td>9</td>\n",
       "      <td>1892</td>\n",
       "      <td>0</td>\n",
       "      <td>NaN</td>\n",
       "      <td>0</td>\n",
       "      <td>1</td>\n",
       "      <td>B</td>\n",
       "      <td>219281.918007</td>\n",
       "      <td>87</td>\n",
       "    </tr>\n",
       "    <tr>\n",
       "      <th>8749</th>\n",
       "      <td>14865</td>\n",
       "      <td>9</td>\n",
       "      <td>10</td>\n",
       "      <td>60</td>\n",
       "      <td>38</td>\n",
       "      <td>10</td>\n",
       "      <td>3</td>\n",
       "      <td>2</td>\n",
       "      <td>1994</td>\n",
       "      <td>0.161532</td>\n",
       "      <td>...</td>\n",
       "      <td>B</td>\n",
       "      <td>25</td>\n",
       "      <td>5648</td>\n",
       "      <td>1</td>\n",
       "      <td>30.0</td>\n",
       "      <td>2</td>\n",
       "      <td>4</td>\n",
       "      <td>B</td>\n",
       "      <td>172329.270863</td>\n",
       "      <td>60</td>\n",
       "    </tr>\n",
       "  </tbody>\n",
       "</table>\n",
       "<p>8 rows × 21 columns</p>\n",
       "</div>"
      ],
      "text/plain": [
       "         Id  DistrictId  Rooms  Square  LifeSquare  KitchenSquare  Floor  \\\n",
       "376    5927          57     10      60          36             10     22   \n",
       "1442   8491           1     19      40          21              7     17   \n",
       "2244   7317          27      0      40          19              0     13   \n",
       "3868    770          28      0      50          33              0     16   \n",
       "4316    456           6      0      80          52              0      4   \n",
       "6085   3159          88      0      40          19              9      9   \n",
       "8735   9443          27      0      90          85              0      5   \n",
       "8749  14865           9     10      60          38             10      3   \n",
       "\n",
       "      HouseFloor  HouseYear  Ecology_1  ... Ecology_3 Social_1  Social_2  \\\n",
       "376           22       2002   0.090799  ...         B       74     19083   \n",
       "1442          17       2014   0.007122  ...         B        1       264   \n",
       "2244           0       1977   0.211401  ...         B        9      1892   \n",
       "3868           0       2015   0.118537  ...         B       30      6207   \n",
       "4316           0       1977   0.243205  ...         B        5      1564   \n",
       "6085          16       1982   0.127376  ...         B       43      8429   \n",
       "8735          15       1977   0.211401  ...         B        9      1892   \n",
       "8749           2       1994   0.161532  ...         B       25      5648   \n",
       "\n",
       "      Social_3  Healthcare_1  Helthcare_2  Shops_1  Shops_2          Price  \\\n",
       "376          2           NaN            5       15        B  317265.323792   \n",
       "1442         0           NaN            0        1        B   78364.616704   \n",
       "2244         0           NaN            0        1        B   98129.976788   \n",
       "3868         1        1183.0            1        0        B  217009.338463   \n",
       "4316         0         540.0            0        0        B  212864.799112   \n",
       "6085         3           NaN            3        9        B  158998.110646   \n",
       "8735         0           NaN            0        1        B  219281.918007   \n",
       "8749         1          30.0            2        4        B  172329.270863   \n",
       "\n",
       "      Square_copy  \n",
       "376            59  \n",
       "1442           42  \n",
       "2244           41  \n",
       "3868           49  \n",
       "4316           81  \n",
       "6085           38  \n",
       "8735           87  \n",
       "8749           60  \n",
       "\n",
       "[8 rows x 21 columns]"
      ]
     },
     "execution_count": 45,
     "metadata": {},
     "output_type": "execute_result"
    }
   ],
   "source": [
    "mask = (train_df['Square'] < 100) & ((train_df['Rooms'] >= 10) | (train_df['Rooms'] < 1)) \n",
    "train_df[mask]"
   ]
  },
  {
   "cell_type": "code",
   "execution_count": 46,
   "id": "f17460d3",
   "metadata": {},
   "outputs": [
    {
     "data": {
      "text/plain": [
       "count    9886.000000\n",
       "mean        1.889945\n",
       "std         0.833435\n",
       "min         0.000000\n",
       "25%         1.000000\n",
       "50%         2.000000\n",
       "75%         2.000000\n",
       "max        19.000000\n",
       "Name: Rooms, dtype: float64"
      ]
     },
     "execution_count": 46,
     "metadata": {},
     "output_type": "execute_result"
    }
   ],
   "source": [
    "train_df['Rooms'].describe()"
   ]
  },
  {
   "cell_type": "markdown",
   "id": "784d591f",
   "metadata": {},
   "source": [
    "Предполагаю, что данные записи должны иметь значение 'Rooms' == 1,\n",
    "что и сделаю"
   ]
  },
  {
   "cell_type": "code",
   "execution_count": 47,
   "id": "101176f4",
   "metadata": {
    "scrolled": true
   },
   "outputs": [],
   "source": [
    "# train_df.loc[mask, 'Rooms'] = 1\n",
    "# train_df[mask]\n",
    "train_df = train_df[train_df['Rooms'].isnull() |\n",
    "    (train_df['Rooms'] < train_df['Rooms'].quantile(.99)) &\n",
    "    (train_df['Rooms'] > train_df['Rooms'].quantile(.01))]\n"
   ]
  },
  {
   "cell_type": "markdown",
   "id": "07b196d7",
   "metadata": {},
   "source": [
    "#### KitchenSquare"
   ]
  },
  {
   "cell_type": "code",
   "execution_count": 48,
   "id": "c2e5f6b3",
   "metadata": {},
   "outputs": [
    {
     "data": {
      "text/plain": [
       "count    6081.000000\n",
       "mean        6.059036\n",
       "std         5.387940\n",
       "min         0.000000\n",
       "25%         1.000000\n",
       "50%         6.000000\n",
       "75%         9.000000\n",
       "max       123.000000\n",
       "Name: KitchenSquare, dtype: float64"
      ]
     },
     "execution_count": 48,
     "metadata": {},
     "output_type": "execute_result"
    }
   ],
   "source": [
    "train_df['KitchenSquare'].describe()"
   ]
  },
  {
   "cell_type": "markdown",
   "id": "0f40c8cd",
   "metadata": {},
   "source": [
    "Принимаю следующее:\n",
    "* Примем за минимальную площадь кухни, значение 4м2\n",
    "* Все значения 'KitchenSquare' <= 1, при 'Square' == 'LifeSquare' сбрасываю в 0\n",
    "* Все значения 'KitchenSquare' <= 4, при ('Square' - 'LifeSquare') > 4 рассчитываю как 'Square' - 'LifeSquare'\n",
    "* Все значения 'KitchenSquare' в пределах 0 < KitchenSquare < 4, проставляю в 4м2\n",
    "* Все значения, где 'KitchenSquare' > 'Square' проинициализируем значениями по формуле\n",
    "    'Square' - 'LifeSquare'\n",
    "* Вычислим среднее отношение 'KitchenSquare' к 'Square'\n",
    "\n",
    "\n",
    "     "
   ]
  },
  {
   "cell_type": "code",
   "execution_count": 49,
   "id": "0c9741df",
   "metadata": {},
   "outputs": [],
   "source": [
    "KitchenSquareMin = 4"
   ]
  },
  {
   "cell_type": "code",
   "execution_count": 50,
   "id": "04b3bdb5",
   "metadata": {},
   "outputs": [],
   "source": [
    "# mask = ((train_df['KitchenSquare'] + train_df['LifeSquare']) > train_df['Square'])\n",
    "mask = (train_df['LifeSquare'] == train_df['Square']) & \\\n",
    "        (train_df['KitchenSquare'] <= 1)\n",
    "train_df.loc[mask, 'KitchenSquare'] = 0\n",
    "# train_df.loc[mask]"
   ]
  },
  {
   "cell_type": "code",
   "execution_count": 51,
   "id": "54bafbce",
   "metadata": {},
   "outputs": [],
   "source": [
    "mask = (train_df['KitchenSquare'] < 4) & \\\n",
    "        ((train_df['Square'] - train_df['LifeSquare']) > 4)\n",
    "train_df.loc[mask, 'KitchenSquare'] = (train_df['Square'] - train_df['LifeSquare'])\n",
    "# train_df.loc[mask]"
   ]
  },
  {
   "cell_type": "code",
   "execution_count": 52,
   "id": "6935c4f0",
   "metadata": {},
   "outputs": [],
   "source": [
    "mask = (train_df['KitchenSquare'] < 4) & (train_df['KitchenSquare'] > 0)\n",
    "train_df.loc[mask, 'KitchenSquare'] = 4\n",
    "# train_df.loc[mask]"
   ]
  },
  {
   "cell_type": "code",
   "execution_count": 53,
   "id": "a9230e1f",
   "metadata": {},
   "outputs": [
    {
     "data": {
      "text/html": [
       "<div>\n",
       "<style scoped>\n",
       "    .dataframe tbody tr th:only-of-type {\n",
       "        vertical-align: middle;\n",
       "    }\n",
       "\n",
       "    .dataframe tbody tr th {\n",
       "        vertical-align: top;\n",
       "    }\n",
       "\n",
       "    .dataframe thead th {\n",
       "        text-align: right;\n",
       "    }\n",
       "</style>\n",
       "<table border=\"1\" class=\"dataframe\">\n",
       "  <thead>\n",
       "    <tr style=\"text-align: right;\">\n",
       "      <th></th>\n",
       "      <th>Id</th>\n",
       "      <th>DistrictId</th>\n",
       "      <th>Rooms</th>\n",
       "      <th>Square</th>\n",
       "      <th>LifeSquare</th>\n",
       "      <th>KitchenSquare</th>\n",
       "      <th>Floor</th>\n",
       "      <th>HouseFloor</th>\n",
       "      <th>HouseYear</th>\n",
       "      <th>Ecology_1</th>\n",
       "      <th>...</th>\n",
       "      <th>Ecology_3</th>\n",
       "      <th>Social_1</th>\n",
       "      <th>Social_2</th>\n",
       "      <th>Social_3</th>\n",
       "      <th>Healthcare_1</th>\n",
       "      <th>Helthcare_2</th>\n",
       "      <th>Shops_1</th>\n",
       "      <th>Shops_2</th>\n",
       "      <th>Price</th>\n",
       "      <th>Square_copy</th>\n",
       "    </tr>\n",
       "  </thead>\n",
       "  <tbody>\n",
       "    <tr>\n",
       "      <th>1842</th>\n",
       "      <td>4265</td>\n",
       "      <td>161</td>\n",
       "      <td>2</td>\n",
       "      <td>50</td>\n",
       "      <td>32</td>\n",
       "      <td>18</td>\n",
       "      <td>7</td>\n",
       "      <td>17</td>\n",
       "      <td>1994</td>\n",
       "      <td>0.000699</td>\n",
       "      <td>...</td>\n",
       "      <td>B</td>\n",
       "      <td>14</td>\n",
       "      <td>3369</td>\n",
       "      <td>24</td>\n",
       "      <td>4129.0</td>\n",
       "      <td>0</td>\n",
       "      <td>3</td>\n",
       "      <td>B</td>\n",
       "      <td>261125.669724</td>\n",
       "      <td>53</td>\n",
       "    </tr>\n",
       "    <tr>\n",
       "      <th>2936</th>\n",
       "      <td>7441</td>\n",
       "      <td>62</td>\n",
       "      <td>3</td>\n",
       "      <td>110</td>\n",
       "      <td>110</td>\n",
       "      <td>0</td>\n",
       "      <td>3</td>\n",
       "      <td>3</td>\n",
       "      <td>2015</td>\n",
       "      <td>0.072158</td>\n",
       "      <td>...</td>\n",
       "      <td>B</td>\n",
       "      <td>2</td>\n",
       "      <td>629</td>\n",
       "      <td>1</td>\n",
       "      <td>NaN</td>\n",
       "      <td>0</td>\n",
       "      <td>0</td>\n",
       "      <td>A</td>\n",
       "      <td>315245.521059</td>\n",
       "      <td>114</td>\n",
       "    </tr>\n",
       "    <tr>\n",
       "      <th>5826</th>\n",
       "      <td>16593</td>\n",
       "      <td>52</td>\n",
       "      <td>2</td>\n",
       "      <td>60</td>\n",
       "      <td>35</td>\n",
       "      <td>25</td>\n",
       "      <td>15</td>\n",
       "      <td>17</td>\n",
       "      <td>1977</td>\n",
       "      <td>0.371149</td>\n",
       "      <td>...</td>\n",
       "      <td>B</td>\n",
       "      <td>34</td>\n",
       "      <td>7065</td>\n",
       "      <td>1</td>\n",
       "      <td>750.0</td>\n",
       "      <td>2</td>\n",
       "      <td>5</td>\n",
       "      <td>B</td>\n",
       "      <td>185993.474671</td>\n",
       "      <td>64</td>\n",
       "    </tr>\n",
       "    <tr>\n",
       "      <th>9777</th>\n",
       "      <td>12918</td>\n",
       "      <td>23</td>\n",
       "      <td>2</td>\n",
       "      <td>50</td>\n",
       "      <td>50</td>\n",
       "      <td>0</td>\n",
       "      <td>3</td>\n",
       "      <td>17</td>\n",
       "      <td>2017</td>\n",
       "      <td>0.005767</td>\n",
       "      <td>...</td>\n",
       "      <td>B</td>\n",
       "      <td>1</td>\n",
       "      <td>388</td>\n",
       "      <td>0</td>\n",
       "      <td>NaN</td>\n",
       "      <td>0</td>\n",
       "      <td>0</td>\n",
       "      <td>B</td>\n",
       "      <td>88150.012510</td>\n",
       "      <td>51</td>\n",
       "    </tr>\n",
       "    <tr>\n",
       "      <th>9783</th>\n",
       "      <td>2737</td>\n",
       "      <td>27</td>\n",
       "      <td>3</td>\n",
       "      <td>120</td>\n",
       "      <td>120</td>\n",
       "      <td>0</td>\n",
       "      <td>5</td>\n",
       "      <td>10</td>\n",
       "      <td>2015</td>\n",
       "      <td>0.017647</td>\n",
       "      <td>...</td>\n",
       "      <td>B</td>\n",
       "      <td>2</td>\n",
       "      <td>469</td>\n",
       "      <td>0</td>\n",
       "      <td>NaN</td>\n",
       "      <td>0</td>\n",
       "      <td>0</td>\n",
       "      <td>B</td>\n",
       "      <td>234194.837047</td>\n",
       "      <td>123</td>\n",
       "    </tr>\n",
       "  </tbody>\n",
       "</table>\n",
       "<p>5 rows × 21 columns</p>\n",
       "</div>"
      ],
      "text/plain": [
       "         Id  DistrictId  Rooms  Square  LifeSquare  KitchenSquare  Floor  \\\n",
       "1842   4265         161      2      50          32             18      7   \n",
       "2936   7441          62      3     110         110              0      3   \n",
       "5826  16593          52      2      60          35             25     15   \n",
       "9777  12918          23      2      50          50              0      3   \n",
       "9783   2737          27      3     120         120              0      5   \n",
       "\n",
       "      HouseFloor  HouseYear  Ecology_1  ... Ecology_3 Social_1  Social_2  \\\n",
       "1842          17       1994   0.000699  ...         B       14      3369   \n",
       "2936           3       2015   0.072158  ...         B        2       629   \n",
       "5826          17       1977   0.371149  ...         B       34      7065   \n",
       "9777          17       2017   0.005767  ...         B        1       388   \n",
       "9783          10       2015   0.017647  ...         B        2       469   \n",
       "\n",
       "      Social_3  Healthcare_1  Helthcare_2  Shops_1  Shops_2          Price  \\\n",
       "1842        24        4129.0            0        3        B  261125.669724   \n",
       "2936         1           NaN            0        0        A  315245.521059   \n",
       "5826         1         750.0            2        5        B  185993.474671   \n",
       "9777         0           NaN            0        0        B   88150.012510   \n",
       "9783         0           NaN            0        0        B  234194.837047   \n",
       "\n",
       "      Square_copy  \n",
       "1842           53  \n",
       "2936          114  \n",
       "5826           64  \n",
       "9777           51  \n",
       "9783          123  \n",
       "\n",
       "[5 rows x 21 columns]"
      ]
     },
     "execution_count": 53,
     "metadata": {},
     "output_type": "execute_result"
    }
   ],
   "source": [
    "mask = (train_df['KitchenSquare'] > train_df['Square'])\n",
    "train_df.loc[mask, 'KitchenSquare'] = (train_df['Square'] - train_df['LifeSquare'])\n",
    "train_df.loc[mask]"
   ]
  },
  {
   "cell_type": "code",
   "execution_count": 54,
   "id": "be9693e8",
   "metadata": {},
   "outputs": [
    {
     "data": {
      "text/plain": [
       "count    6081.000000\n",
       "mean       12.665516\n",
       "std        12.188835\n",
       "min         0.000000\n",
       "25%         6.000000\n",
       "50%         9.000000\n",
       "75%        12.000000\n",
       "max       130.000000\n",
       "Name: KitchenSquare, dtype: float64"
      ]
     },
     "execution_count": 54,
     "metadata": {},
     "output_type": "execute_result"
    }
   ],
   "source": [
    "train_df['KitchenSquare'].describe()"
   ]
  },
  {
   "cell_type": "markdown",
   "id": "b0c695f0",
   "metadata": {},
   "source": [
    "Возвращаем значения ''Square'"
   ]
  },
  {
   "cell_type": "code",
   "execution_count": 55,
   "id": "a88a1f6c",
   "metadata": {},
   "outputs": [],
   "source": [
    "# train_df['Square_copy'] = train_df['Square_copy'].astype(int)\n",
    "train_df['Square'] = train_df['Square_copy']\n",
    "train_df.drop(columns=['Square_copy'], inplace=True)"
   ]
  },
  {
   "cell_type": "markdown",
   "id": "0da728da",
   "metadata": {},
   "source": [
    "#### HouseFloor, Floor"
   ]
  },
  {
   "cell_type": "code",
   "execution_count": 56,
   "id": "3df7e673",
   "metadata": {},
   "outputs": [
    {
     "data": {
      "text/plain": [
       "array([  0,   1,   2,   3,   4,   5,   6,   7,   8,   9,  10,  11,  12,\n",
       "        13,  14,  15,  16,  17,  18,  19,  20,  21,  22,  23,  24,  25,\n",
       "        26,  27,  28,  30,  31,  32,  37,  39,  40,  45,  48,  99, 117],\n",
       "      dtype=int16)"
      ]
     },
     "execution_count": 56,
     "metadata": {},
     "output_type": "execute_result"
    }
   ],
   "source": [
    "train_df['HouseFloor'].sort_values().unique()"
   ]
  },
  {
   "cell_type": "code",
   "execution_count": 57,
   "id": "edfb2046",
   "metadata": {},
   "outputs": [
    {
     "data": {
      "text/plain": [
       "array([ 1,  2,  3,  4,  5,  6,  7,  8,  9, 10, 11, 12, 13, 14, 15, 16, 17,\n",
       "       18, 19, 20, 21, 22, 23, 24, 25, 26, 27, 28, 42])"
      ]
     },
     "execution_count": 57,
     "metadata": {},
     "output_type": "execute_result"
    }
   ],
   "source": [
    "train_df['Floor'].sort_values().unique()"
   ]
  },
  {
   "cell_type": "markdown",
   "id": "45946022",
   "metadata": {},
   "source": [
    "Делаю следующее:\n",
    "* Вычисляем медиану этажности\n",
    "* Находим записи с полем 'HouseFloor' == 0 и инициализируем их медианой\n",
    "* Находим записи, этаж которых превышает этажность дома и инициализируем их по формуле 'Floor' = 'HouseFloor'"
   ]
  },
  {
   "cell_type": "code",
   "execution_count": 58,
   "id": "1828b9c6",
   "metadata": {},
   "outputs": [
    {
     "data": {
      "text/html": [
       "<div>\n",
       "<style scoped>\n",
       "    .dataframe tbody tr th:only-of-type {\n",
       "        vertical-align: middle;\n",
       "    }\n",
       "\n",
       "    .dataframe tbody tr th {\n",
       "        vertical-align: top;\n",
       "    }\n",
       "\n",
       "    .dataframe thead th {\n",
       "        text-align: right;\n",
       "    }\n",
       "</style>\n",
       "<table border=\"1\" class=\"dataframe\">\n",
       "  <thead>\n",
       "    <tr style=\"text-align: right;\">\n",
       "      <th></th>\n",
       "      <th>Id</th>\n",
       "      <th>DistrictId</th>\n",
       "      <th>Rooms</th>\n",
       "      <th>Square</th>\n",
       "      <th>LifeSquare</th>\n",
       "      <th>KitchenSquare</th>\n",
       "      <th>Floor</th>\n",
       "      <th>HouseFloor</th>\n",
       "      <th>HouseYear</th>\n",
       "      <th>Ecology_1</th>\n",
       "      <th>Ecology_2</th>\n",
       "      <th>Ecology_3</th>\n",
       "      <th>Social_1</th>\n",
       "      <th>Social_2</th>\n",
       "      <th>Social_3</th>\n",
       "      <th>Healthcare_1</th>\n",
       "      <th>Helthcare_2</th>\n",
       "      <th>Shops_1</th>\n",
       "      <th>Shops_2</th>\n",
       "      <th>Price</th>\n",
       "    </tr>\n",
       "  </thead>\n",
       "  <tbody>\n",
       "    <tr>\n",
       "      <th>7</th>\n",
       "      <td>11993</td>\n",
       "      <td>74</td>\n",
       "      <td>2</td>\n",
       "      <td>80</td>\n",
       "      <td>47</td>\n",
       "      <td>33</td>\n",
       "      <td>14</td>\n",
       "      <td>0</td>\n",
       "      <td>1977</td>\n",
       "      <td>0.075779</td>\n",
       "      <td>B</td>\n",
       "      <td>B</td>\n",
       "      <td>6</td>\n",
       "      <td>1437</td>\n",
       "      <td>3</td>\n",
       "      <td>NaN</td>\n",
       "      <td>0</td>\n",
       "      <td>2</td>\n",
       "      <td>B</td>\n",
       "      <td>221244.156664</td>\n",
       "    </tr>\n",
       "    <tr>\n",
       "      <th>23</th>\n",
       "      <td>6641</td>\n",
       "      <td>54</td>\n",
       "      <td>3</td>\n",
       "      <td>118</td>\n",
       "      <td>68</td>\n",
       "      <td>52</td>\n",
       "      <td>2</td>\n",
       "      <td>0</td>\n",
       "      <td>1977</td>\n",
       "      <td>0.006076</td>\n",
       "      <td>B</td>\n",
       "      <td>B</td>\n",
       "      <td>30</td>\n",
       "      <td>5285</td>\n",
       "      <td>0</td>\n",
       "      <td>645.0</td>\n",
       "      <td>6</td>\n",
       "      <td>6</td>\n",
       "      <td>B</td>\n",
       "      <td>571069.052600</td>\n",
       "    </tr>\n",
       "    <tr>\n",
       "      <th>26</th>\n",
       "      <td>4378</td>\n",
       "      <td>27</td>\n",
       "      <td>3</td>\n",
       "      <td>106</td>\n",
       "      <td>0</td>\n",
       "      <td>110</td>\n",
       "      <td>17</td>\n",
       "      <td>0</td>\n",
       "      <td>2018</td>\n",
       "      <td>0.072158</td>\n",
       "      <td>B</td>\n",
       "      <td>B</td>\n",
       "      <td>2</td>\n",
       "      <td>629</td>\n",
       "      <td>1</td>\n",
       "      <td>NaN</td>\n",
       "      <td>0</td>\n",
       "      <td>0</td>\n",
       "      <td>A</td>\n",
       "      <td>337299.867936</td>\n",
       "    </tr>\n",
       "    <tr>\n",
       "      <th>39</th>\n",
       "      <td>9371</td>\n",
       "      <td>23</td>\n",
       "      <td>2</td>\n",
       "      <td>60</td>\n",
       "      <td>35</td>\n",
       "      <td>25</td>\n",
       "      <td>16</td>\n",
       "      <td>0</td>\n",
       "      <td>1977</td>\n",
       "      <td>0.034656</td>\n",
       "      <td>B</td>\n",
       "      <td>B</td>\n",
       "      <td>0</td>\n",
       "      <td>168</td>\n",
       "      <td>0</td>\n",
       "      <td>NaN</td>\n",
       "      <td>0</td>\n",
       "      <td>0</td>\n",
       "      <td>B</td>\n",
       "      <td>229778.057902</td>\n",
       "    </tr>\n",
       "    <tr>\n",
       "      <th>44</th>\n",
       "      <td>10521</td>\n",
       "      <td>38</td>\n",
       "      <td>3</td>\n",
       "      <td>104</td>\n",
       "      <td>100</td>\n",
       "      <td>0</td>\n",
       "      <td>20</td>\n",
       "      <td>0</td>\n",
       "      <td>2017</td>\n",
       "      <td>0.060753</td>\n",
       "      <td>B</td>\n",
       "      <td>B</td>\n",
       "      <td>15</td>\n",
       "      <td>2787</td>\n",
       "      <td>2</td>\n",
       "      <td>520.0</td>\n",
       "      <td>0</td>\n",
       "      <td>7</td>\n",
       "      <td>B</td>\n",
       "      <td>435462.048070</td>\n",
       "    </tr>\n",
       "    <tr>\n",
       "      <th>...</th>\n",
       "      <td>...</td>\n",
       "      <td>...</td>\n",
       "      <td>...</td>\n",
       "      <td>...</td>\n",
       "      <td>...</td>\n",
       "      <td>...</td>\n",
       "      <td>...</td>\n",
       "      <td>...</td>\n",
       "      <td>...</td>\n",
       "      <td>...</td>\n",
       "      <td>...</td>\n",
       "      <td>...</td>\n",
       "      <td>...</td>\n",
       "      <td>...</td>\n",
       "      <td>...</td>\n",
       "      <td>...</td>\n",
       "      <td>...</td>\n",
       "      <td>...</td>\n",
       "      <td>...</td>\n",
       "      <td>...</td>\n",
       "    </tr>\n",
       "    <tr>\n",
       "      <th>9484</th>\n",
       "      <td>2553</td>\n",
       "      <td>62</td>\n",
       "      <td>2</td>\n",
       "      <td>56</td>\n",
       "      <td>35</td>\n",
       "      <td>25</td>\n",
       "      <td>9</td>\n",
       "      <td>0</td>\n",
       "      <td>1977</td>\n",
       "      <td>0.072158</td>\n",
       "      <td>B</td>\n",
       "      <td>B</td>\n",
       "      <td>2</td>\n",
       "      <td>629</td>\n",
       "      <td>1</td>\n",
       "      <td>NaN</td>\n",
       "      <td>0</td>\n",
       "      <td>0</td>\n",
       "      <td>A</td>\n",
       "      <td>153997.912192</td>\n",
       "    </tr>\n",
       "    <tr>\n",
       "      <th>9518</th>\n",
       "      <td>14936</td>\n",
       "      <td>27</td>\n",
       "      <td>3</td>\n",
       "      <td>103</td>\n",
       "      <td>60</td>\n",
       "      <td>40</td>\n",
       "      <td>8</td>\n",
       "      <td>0</td>\n",
       "      <td>1977</td>\n",
       "      <td>0.072158</td>\n",
       "      <td>B</td>\n",
       "      <td>B</td>\n",
       "      <td>2</td>\n",
       "      <td>629</td>\n",
       "      <td>1</td>\n",
       "      <td>NaN</td>\n",
       "      <td>0</td>\n",
       "      <td>0</td>\n",
       "      <td>A</td>\n",
       "      <td>225901.938089</td>\n",
       "    </tr>\n",
       "    <tr>\n",
       "      <th>9658</th>\n",
       "      <td>9384</td>\n",
       "      <td>59</td>\n",
       "      <td>3</td>\n",
       "      <td>98</td>\n",
       "      <td>60</td>\n",
       "      <td>40</td>\n",
       "      <td>14</td>\n",
       "      <td>0</td>\n",
       "      <td>1977</td>\n",
       "      <td>0.019509</td>\n",
       "      <td>B</td>\n",
       "      <td>B</td>\n",
       "      <td>37</td>\n",
       "      <td>7687</td>\n",
       "      <td>11</td>\n",
       "      <td>176.0</td>\n",
       "      <td>5</td>\n",
       "      <td>5</td>\n",
       "      <td>B</td>\n",
       "      <td>492700.257473</td>\n",
       "    </tr>\n",
       "    <tr>\n",
       "      <th>9766</th>\n",
       "      <td>11441</td>\n",
       "      <td>62</td>\n",
       "      <td>2</td>\n",
       "      <td>71</td>\n",
       "      <td>70</td>\n",
       "      <td>0</td>\n",
       "      <td>5</td>\n",
       "      <td>0</td>\n",
       "      <td>1977</td>\n",
       "      <td>0.072158</td>\n",
       "      <td>B</td>\n",
       "      <td>B</td>\n",
       "      <td>2</td>\n",
       "      <td>629</td>\n",
       "      <td>1</td>\n",
       "      <td>NaN</td>\n",
       "      <td>0</td>\n",
       "      <td>0</td>\n",
       "      <td>A</td>\n",
       "      <td>158841.624543</td>\n",
       "    </tr>\n",
       "    <tr>\n",
       "      <th>9831</th>\n",
       "      <td>16160</td>\n",
       "      <td>27</td>\n",
       "      <td>2</td>\n",
       "      <td>60</td>\n",
       "      <td>35</td>\n",
       "      <td>25</td>\n",
       "      <td>10</td>\n",
       "      <td>0</td>\n",
       "      <td>1977</td>\n",
       "      <td>0.072158</td>\n",
       "      <td>B</td>\n",
       "      <td>B</td>\n",
       "      <td>2</td>\n",
       "      <td>629</td>\n",
       "      <td>1</td>\n",
       "      <td>NaN</td>\n",
       "      <td>0</td>\n",
       "      <td>0</td>\n",
       "      <td>A</td>\n",
       "      <td>211810.600728</td>\n",
       "    </tr>\n",
       "  </tbody>\n",
       "</table>\n",
       "<p>152 rows × 20 columns</p>\n",
       "</div>"
      ],
      "text/plain": [
       "         Id  DistrictId  Rooms  Square  LifeSquare  KitchenSquare  Floor  \\\n",
       "7     11993          74      2      80          47             33     14   \n",
       "23     6641          54      3     118          68             52      2   \n",
       "26     4378          27      3     106           0            110     17   \n",
       "39     9371          23      2      60          35             25     16   \n",
       "44    10521          38      3     104         100              0     20   \n",
       "...     ...         ...    ...     ...         ...            ...    ...   \n",
       "9484   2553          62      2      56          35             25      9   \n",
       "9518  14936          27      3     103          60             40      8   \n",
       "9658   9384          59      3      98          60             40     14   \n",
       "9766  11441          62      2      71          70              0      5   \n",
       "9831  16160          27      2      60          35             25     10   \n",
       "\n",
       "      HouseFloor  HouseYear  Ecology_1 Ecology_2 Ecology_3  Social_1  \\\n",
       "7              0       1977   0.075779         B         B         6   \n",
       "23             0       1977   0.006076         B         B        30   \n",
       "26             0       2018   0.072158         B         B         2   \n",
       "39             0       1977   0.034656         B         B         0   \n",
       "44             0       2017   0.060753         B         B        15   \n",
       "...          ...        ...        ...       ...       ...       ...   \n",
       "9484           0       1977   0.072158         B         B         2   \n",
       "9518           0       1977   0.072158         B         B         2   \n",
       "9658           0       1977   0.019509         B         B        37   \n",
       "9766           0       1977   0.072158         B         B         2   \n",
       "9831           0       1977   0.072158         B         B         2   \n",
       "\n",
       "      Social_2  Social_3  Healthcare_1  Helthcare_2  Shops_1 Shops_2  \\\n",
       "7         1437         3           NaN            0        2       B   \n",
       "23        5285         0         645.0            6        6       B   \n",
       "26         629         1           NaN            0        0       A   \n",
       "39         168         0           NaN            0        0       B   \n",
       "44        2787         2         520.0            0        7       B   \n",
       "...        ...       ...           ...          ...      ...     ...   \n",
       "9484       629         1           NaN            0        0       A   \n",
       "9518       629         1           NaN            0        0       A   \n",
       "9658      7687        11         176.0            5        5       B   \n",
       "9766       629         1           NaN            0        0       A   \n",
       "9831       629         1           NaN            0        0       A   \n",
       "\n",
       "              Price  \n",
       "7     221244.156664  \n",
       "23    571069.052600  \n",
       "26    337299.867936  \n",
       "39    229778.057902  \n",
       "44    435462.048070  \n",
       "...             ...  \n",
       "9484  153997.912192  \n",
       "9518  225901.938089  \n",
       "9658  492700.257473  \n",
       "9766  158841.624543  \n",
       "9831  211810.600728  \n",
       "\n",
       "[152 rows x 20 columns]"
      ]
     },
     "execution_count": 58,
     "metadata": {},
     "output_type": "execute_result"
    }
   ],
   "source": [
    "mask = (train_df['HouseFloor'] == 0)\n",
    "train_df[mask]"
   ]
  },
  {
   "cell_type": "code",
   "execution_count": 59,
   "id": "be4fdec9",
   "metadata": {},
   "outputs": [],
   "source": [
    "house_floor_median = train_df['HouseFloor'].median()\n",
    "# print(house_floor_median)"
   ]
  },
  {
   "cell_type": "code",
   "execution_count": 60,
   "id": "b4eebf93",
   "metadata": {},
   "outputs": [],
   "source": [
    "train_df.loc[train_df['HouseFloor'] == 0, 'HouseFloor'] = train_df['HouseFloor'].median()"
   ]
  },
  {
   "cell_type": "code",
   "execution_count": 61,
   "id": "b4e956db",
   "metadata": {},
   "outputs": [],
   "source": [
    "mask = (train_df['Floor'] > train_df['HouseFloor'])\n",
    "train_df.loc[mask, 'Floor'] = train_df['HouseFloor']\n",
    "# train_df.loc[mask]"
   ]
  },
  {
   "cell_type": "markdown",
   "id": "a2678bb5",
   "metadata": {},
   "source": [
    "Проверяем"
   ]
  },
  {
   "cell_type": "code",
   "execution_count": 62,
   "id": "fd72f5ed",
   "metadata": {},
   "outputs": [
    {
     "data": {
      "text/plain": [
       "array([ 1,  2,  3,  4,  5,  6,  7,  8,  9, 10, 11, 12, 13, 14, 15, 16, 17,\n",
       "       18, 19, 20, 21, 22, 23, 24, 25, 28, 42])"
      ]
     },
     "execution_count": 62,
     "metadata": {},
     "output_type": "execute_result"
    }
   ],
   "source": [
    "train_df['Floor'].sort_values().unique()"
   ]
  },
  {
   "cell_type": "code",
   "execution_count": 63,
   "id": "c2a9562c",
   "metadata": {},
   "outputs": [
    {
     "data": {
      "text/plain": [
       "array([  1,   2,   3,   4,   5,   6,   7,   8,   9,  10,  11,  12,  13,\n",
       "        14,  15,  16,  17,  18,  19,  20,  21,  22,  23,  24,  25,  26,\n",
       "        27,  28,  30,  31,  32,  37,  39,  40,  45,  48,  99, 117],\n",
       "      dtype=int16)"
      ]
     },
     "execution_count": 63,
     "metadata": {},
     "output_type": "execute_result"
    }
   ],
   "source": [
    "train_df['HouseFloor'].sort_values().unique()"
   ]
  },
  {
   "cell_type": "code",
   "execution_count": 64,
   "id": "01a82276",
   "metadata": {},
   "outputs": [
    {
     "data": {
      "text/html": [
       "<div>\n",
       "<style scoped>\n",
       "    .dataframe tbody tr th:only-of-type {\n",
       "        vertical-align: middle;\n",
       "    }\n",
       "\n",
       "    .dataframe tbody tr th {\n",
       "        vertical-align: top;\n",
       "    }\n",
       "\n",
       "    .dataframe thead th {\n",
       "        text-align: right;\n",
       "    }\n",
       "</style>\n",
       "<table border=\"1\" class=\"dataframe\">\n",
       "  <thead>\n",
       "    <tr style=\"text-align: right;\">\n",
       "      <th></th>\n",
       "      <th>Id</th>\n",
       "      <th>DistrictId</th>\n",
       "      <th>Rooms</th>\n",
       "      <th>Square</th>\n",
       "      <th>LifeSquare</th>\n",
       "      <th>KitchenSquare</th>\n",
       "      <th>Floor</th>\n",
       "      <th>HouseFloor</th>\n",
       "      <th>HouseYear</th>\n",
       "      <th>Ecology_1</th>\n",
       "      <th>Ecology_2</th>\n",
       "      <th>Ecology_3</th>\n",
       "      <th>Social_1</th>\n",
       "      <th>Social_2</th>\n",
       "      <th>Social_3</th>\n",
       "      <th>Healthcare_1</th>\n",
       "      <th>Helthcare_2</th>\n",
       "      <th>Shops_1</th>\n",
       "      <th>Shops_2</th>\n",
       "      <th>Price</th>\n",
       "    </tr>\n",
       "  </thead>\n",
       "  <tbody>\n",
       "  </tbody>\n",
       "</table>\n",
       "</div>"
      ],
      "text/plain": [
       "Empty DataFrame\n",
       "Columns: [Id, DistrictId, Rooms, Square, LifeSquare, KitchenSquare, Floor, HouseFloor, HouseYear, Ecology_1, Ecology_2, Ecology_3, Social_1, Social_2, Social_3, Healthcare_1, Helthcare_2, Shops_1, Shops_2, Price]\n",
       "Index: []"
      ]
     },
     "execution_count": 64,
     "metadata": {},
     "output_type": "execute_result"
    }
   ],
   "source": [
    "mask = (train_df['Floor'] > train_df['HouseFloor'])\n",
    "train_df[mask]"
   ]
  },
  {
   "cell_type": "markdown",
   "id": "1e9f44eb",
   "metadata": {},
   "source": [
    "#### HouseYear"
   ]
  },
  {
   "cell_type": "code",
   "execution_count": 65,
   "id": "e18f0a25",
   "metadata": {},
   "outputs": [
    {
     "data": {
      "text/plain": [
       "1914      1\n",
       "1916      1\n",
       "1917      2\n",
       "1918      4\n",
       "1919      2\n",
       "       ... \n",
       "2017    168\n",
       "2018    103\n",
       "2019     37\n",
       "2020     11\n",
       "4968      1\n",
       "Name: HouseYear, Length: 94, dtype: int64"
      ]
     },
     "execution_count": 65,
     "metadata": {},
     "output_type": "execute_result"
    }
   ],
   "source": [
    "train_df['HouseYear'].value_counts().sort_index()"
   ]
  },
  {
   "cell_type": "code",
   "execution_count": 66,
   "id": "9b16a310",
   "metadata": {},
   "outputs": [],
   "source": [
    "train_df.loc[train_df['HouseYear'] > 2020, 'HouseYear'] = 2020"
   ]
  },
  {
   "cell_type": "markdown",
   "id": "2b19a19c",
   "metadata": {},
   "source": [
    "#### Healthcare_1"
   ]
  },
  {
   "cell_type": "code",
   "execution_count": 67,
   "id": "1d76ca76",
   "metadata": {},
   "outputs": [
    {
     "data": {
      "text/plain": [
       "0       NaN\n",
       "1     240.0\n",
       "2     229.0\n",
       "3    1084.0\n",
       "5     990.0\n",
       "Name: Healthcare_1, dtype: float64"
      ]
     },
     "execution_count": 67,
     "metadata": {},
     "output_type": "execute_result"
    }
   ],
   "source": [
    "train_df['Healthcare_1'].head()"
   ]
  },
  {
   "cell_type": "code",
   "execution_count": 68,
   "id": "5df5a086",
   "metadata": {},
   "outputs": [],
   "source": [
    "train_df.loc[train_df['Healthcare_1'].isnull(), 'Healthcare_1'] = train_df['Healthcare_1'].median()"
   ]
  },
  {
   "cell_type": "markdown",
   "id": "ce931ace",
   "metadata": {},
   "source": [
    "****"
   ]
  },
  {
   "cell_type": "markdown",
   "id": "8afd3e00",
   "metadata": {},
   "source": [
    "### Добавление новых признаков  <a class='anchor' id='new_features'>"
   ]
  },
  {
   "cell_type": "markdown",
   "id": "5bc7cd50",
   "metadata": {},
   "source": [
    "#### MedianHouseFloorPrice"
   ]
  },
  {
   "cell_type": "markdown",
   "id": "d409725c",
   "metadata": {},
   "source": [
    "Попробуем найти медиану стоимости по 'DistrictId', 'HouseFloor', то есть зависимость стоимости от округа и этажности дома"
   ]
  },
  {
   "cell_type": "code",
   "execution_count": 69,
   "id": "f6bc29d3",
   "metadata": {},
   "outputs": [
    {
     "data": {
      "text/html": [
       "<div>\n",
       "<style scoped>\n",
       "    .dataframe tbody tr th:only-of-type {\n",
       "        vertical-align: middle;\n",
       "    }\n",
       "\n",
       "    .dataframe tbody tr th {\n",
       "        vertical-align: top;\n",
       "    }\n",
       "\n",
       "    .dataframe thead th {\n",
       "        text-align: right;\n",
       "    }\n",
       "</style>\n",
       "<table border=\"1\" class=\"dataframe\">\n",
       "  <thead>\n",
       "    <tr style=\"text-align: right;\">\n",
       "      <th></th>\n",
       "      <th>DistrictId</th>\n",
       "      <th>HouseFloor</th>\n",
       "      <th>MedianHouseFloorPrice</th>\n",
       "    </tr>\n",
       "  </thead>\n",
       "  <tbody>\n",
       "    <tr>\n",
       "      <th>0</th>\n",
       "      <td>0</td>\n",
       "      <td>5</td>\n",
       "      <td>174679.0</td>\n",
       "    </tr>\n",
       "    <tr>\n",
       "      <th>1</th>\n",
       "      <td>0</td>\n",
       "      <td>8</td>\n",
       "      <td>339229.0</td>\n",
       "    </tr>\n",
       "    <tr>\n",
       "      <th>2</th>\n",
       "      <td>0</td>\n",
       "      <td>9</td>\n",
       "      <td>182373.0</td>\n",
       "    </tr>\n",
       "    <tr>\n",
       "      <th>3</th>\n",
       "      <td>0</td>\n",
       "      <td>10</td>\n",
       "      <td>384840.0</td>\n",
       "    </tr>\n",
       "    <tr>\n",
       "      <th>4</th>\n",
       "      <td>0</td>\n",
       "      <td>12</td>\n",
       "      <td>242250.0</td>\n",
       "    </tr>\n",
       "  </tbody>\n",
       "</table>\n",
       "</div>"
      ],
      "text/plain": [
       "   DistrictId  HouseFloor  MedianHouseFloorPrice\n",
       "0           0           5               174679.0\n",
       "1           0           8               339229.0\n",
       "2           0           9               182373.0\n",
       "3           0          10               384840.0\n",
       "4           0          12               242250.0"
      ]
     },
     "execution_count": 69,
     "metadata": {},
     "output_type": "execute_result"
    }
   ],
   "source": [
    "agg_data = train_df.groupby(['DistrictId', 'HouseFloor'])['Price'].median().round()\n",
    "agg_df = pd.DataFrame(agg_data) \n",
    "agg_df.reset_index(inplace=True)\n",
    "agg_df.rename(columns={'Price':'MedianHouseFloorPrice'}, inplace=True)\n",
    "agg_df.head()"
   ]
  },
  {
   "cell_type": "code",
   "execution_count": 70,
   "id": "1edbd2b2",
   "metadata": {},
   "outputs": [
    {
     "data": {
      "text/html": [
       "<div>\n",
       "<style scoped>\n",
       "    .dataframe tbody tr th:only-of-type {\n",
       "        vertical-align: middle;\n",
       "    }\n",
       "\n",
       "    .dataframe tbody tr th {\n",
       "        vertical-align: top;\n",
       "    }\n",
       "\n",
       "    .dataframe thead th {\n",
       "        text-align: right;\n",
       "    }\n",
       "</style>\n",
       "<table border=\"1\" class=\"dataframe\">\n",
       "  <thead>\n",
       "    <tr style=\"text-align: right;\">\n",
       "      <th></th>\n",
       "      <th>Id</th>\n",
       "      <th>DistrictId</th>\n",
       "      <th>Rooms</th>\n",
       "      <th>Square</th>\n",
       "      <th>LifeSquare</th>\n",
       "      <th>KitchenSquare</th>\n",
       "      <th>Floor</th>\n",
       "      <th>HouseFloor</th>\n",
       "      <th>HouseYear</th>\n",
       "      <th>Ecology_1</th>\n",
       "      <th>...</th>\n",
       "      <th>Ecology_3</th>\n",
       "      <th>Social_1</th>\n",
       "      <th>Social_2</th>\n",
       "      <th>Social_3</th>\n",
       "      <th>Healthcare_1</th>\n",
       "      <th>Helthcare_2</th>\n",
       "      <th>Shops_1</th>\n",
       "      <th>Shops_2</th>\n",
       "      <th>Price</th>\n",
       "      <th>MedianHouseFloorPrice</th>\n",
       "    </tr>\n",
       "  </thead>\n",
       "  <tbody>\n",
       "    <tr>\n",
       "      <th>0</th>\n",
       "      <td>14038</td>\n",
       "      <td>35</td>\n",
       "      <td>2</td>\n",
       "      <td>47</td>\n",
       "      <td>29</td>\n",
       "      <td>6</td>\n",
       "      <td>7</td>\n",
       "      <td>9</td>\n",
       "      <td>1969</td>\n",
       "      <td>0.089040</td>\n",
       "      <td>...</td>\n",
       "      <td>B</td>\n",
       "      <td>33</td>\n",
       "      <td>7976</td>\n",
       "      <td>5</td>\n",
       "      <td>900.0</td>\n",
       "      <td>0</td>\n",
       "      <td>11</td>\n",
       "      <td>B</td>\n",
       "      <td>184966.930730</td>\n",
       "      <td>198914.0</td>\n",
       "    </tr>\n",
       "    <tr>\n",
       "      <th>1</th>\n",
       "      <td>15053</td>\n",
       "      <td>41</td>\n",
       "      <td>3</td>\n",
       "      <td>65</td>\n",
       "      <td>40</td>\n",
       "      <td>8</td>\n",
       "      <td>7</td>\n",
       "      <td>9</td>\n",
       "      <td>1978</td>\n",
       "      <td>0.000070</td>\n",
       "      <td>...</td>\n",
       "      <td>B</td>\n",
       "      <td>46</td>\n",
       "      <td>10309</td>\n",
       "      <td>1</td>\n",
       "      <td>240.0</td>\n",
       "      <td>1</td>\n",
       "      <td>16</td>\n",
       "      <td>B</td>\n",
       "      <td>300009.450063</td>\n",
       "      <td>207746.0</td>\n",
       "    </tr>\n",
       "    <tr>\n",
       "      <th>2</th>\n",
       "      <td>4765</td>\n",
       "      <td>53</td>\n",
       "      <td>2</td>\n",
       "      <td>44</td>\n",
       "      <td>29</td>\n",
       "      <td>11</td>\n",
       "      <td>8</td>\n",
       "      <td>12</td>\n",
       "      <td>1968</td>\n",
       "      <td>0.049637</td>\n",
       "      <td>...</td>\n",
       "      <td>B</td>\n",
       "      <td>34</td>\n",
       "      <td>7759</td>\n",
       "      <td>0</td>\n",
       "      <td>229.0</td>\n",
       "      <td>1</td>\n",
       "      <td>3</td>\n",
       "      <td>B</td>\n",
       "      <td>220925.908524</td>\n",
       "      <td>264603.0</td>\n",
       "    </tr>\n",
       "    <tr>\n",
       "      <th>3</th>\n",
       "      <td>5809</td>\n",
       "      <td>58</td>\n",
       "      <td>2</td>\n",
       "      <td>53</td>\n",
       "      <td>50</td>\n",
       "      <td>9</td>\n",
       "      <td>8</td>\n",
       "      <td>17</td>\n",
       "      <td>1977</td>\n",
       "      <td>0.437885</td>\n",
       "      <td>...</td>\n",
       "      <td>B</td>\n",
       "      <td>23</td>\n",
       "      <td>5735</td>\n",
       "      <td>3</td>\n",
       "      <td>1084.0</td>\n",
       "      <td>0</td>\n",
       "      <td>5</td>\n",
       "      <td>B</td>\n",
       "      <td>175616.227217</td>\n",
       "      <td>180055.0</td>\n",
       "    </tr>\n",
       "    <tr>\n",
       "      <th>4</th>\n",
       "      <td>12915</td>\n",
       "      <td>59</td>\n",
       "      <td>3</td>\n",
       "      <td>80</td>\n",
       "      <td>46</td>\n",
       "      <td>12</td>\n",
       "      <td>5</td>\n",
       "      <td>17</td>\n",
       "      <td>2011</td>\n",
       "      <td>0.309479</td>\n",
       "      <td>...</td>\n",
       "      <td>B</td>\n",
       "      <td>35</td>\n",
       "      <td>7715</td>\n",
       "      <td>4</td>\n",
       "      <td>990.0</td>\n",
       "      <td>0</td>\n",
       "      <td>6</td>\n",
       "      <td>B</td>\n",
       "      <td>215898.447742</td>\n",
       "      <td>345059.0</td>\n",
       "    </tr>\n",
       "  </tbody>\n",
       "</table>\n",
       "<p>5 rows × 21 columns</p>\n",
       "</div>"
      ],
      "text/plain": [
       "      Id  DistrictId  Rooms  Square  LifeSquare  KitchenSquare  Floor  \\\n",
       "0  14038          35      2      47          29              6      7   \n",
       "1  15053          41      3      65          40              8      7   \n",
       "2   4765          53      2      44          29             11      8   \n",
       "3   5809          58      2      53          50              9      8   \n",
       "4  12915          59      3      80          46             12      5   \n",
       "\n",
       "   HouseFloor  HouseYear  Ecology_1  ... Ecology_3 Social_1  Social_2  \\\n",
       "0           9       1969   0.089040  ...         B       33      7976   \n",
       "1           9       1978   0.000070  ...         B       46     10309   \n",
       "2          12       1968   0.049637  ...         B       34      7759   \n",
       "3          17       1977   0.437885  ...         B       23      5735   \n",
       "4          17       2011   0.309479  ...         B       35      7715   \n",
       "\n",
       "   Social_3  Healthcare_1  Helthcare_2  Shops_1  Shops_2          Price  \\\n",
       "0         5         900.0            0       11        B  184966.930730   \n",
       "1         1         240.0            1       16        B  300009.450063   \n",
       "2         0         229.0            1        3        B  220925.908524   \n",
       "3         3        1084.0            0        5        B  175616.227217   \n",
       "4         4         990.0            0        6        B  215898.447742   \n",
       "\n",
       "   MedianHouseFloorPrice  \n",
       "0               198914.0  \n",
       "1               207746.0  \n",
       "2               264603.0  \n",
       "3               180055.0  \n",
       "4               345059.0  \n",
       "\n",
       "[5 rows x 21 columns]"
      ]
     },
     "execution_count": 70,
     "metadata": {},
     "output_type": "execute_result"
    }
   ],
   "source": [
    "merged_df = train_df.merge(agg_df, how='left', on=['DistrictId', 'HouseFloor'])\n",
    "train_df = merged_df\n",
    "merged_df.head()"
   ]
  },
  {
   "cell_type": "markdown",
   "id": "44421b8e",
   "metadata": {},
   "source": [
    "#### MedianHouseFloorFloorPrice"
   ]
  },
  {
   "cell_type": "markdown",
   "id": "06ff822b",
   "metadata": {},
   "source": [
    "Попробуем найти медиану стоимости по 'DistrictId', 'HouseFloor', 'Floor', то есть зависимость стоимости от округа, этажности дома и самого этажа"
   ]
  },
  {
   "cell_type": "code",
   "execution_count": 71,
   "id": "dd26aac9",
   "metadata": {},
   "outputs": [
    {
     "data": {
      "text/html": [
       "<div>\n",
       "<style scoped>\n",
       "    .dataframe tbody tr th:only-of-type {\n",
       "        vertical-align: middle;\n",
       "    }\n",
       "\n",
       "    .dataframe tbody tr th {\n",
       "        vertical-align: top;\n",
       "    }\n",
       "\n",
       "    .dataframe thead th {\n",
       "        text-align: right;\n",
       "    }\n",
       "</style>\n",
       "<table border=\"1\" class=\"dataframe\">\n",
       "  <thead>\n",
       "    <tr style=\"text-align: right;\">\n",
       "      <th></th>\n",
       "      <th>DistrictId</th>\n",
       "      <th>HouseFloor</th>\n",
       "      <th>Floor</th>\n",
       "      <th>MedianHouseFloorFloorPrice</th>\n",
       "    </tr>\n",
       "  </thead>\n",
       "  <tbody>\n",
       "    <tr>\n",
       "      <th>0</th>\n",
       "      <td>0</td>\n",
       "      <td>5</td>\n",
       "      <td>3</td>\n",
       "      <td>167238.0</td>\n",
       "    </tr>\n",
       "    <tr>\n",
       "      <th>1</th>\n",
       "      <td>0</td>\n",
       "      <td>5</td>\n",
       "      <td>4</td>\n",
       "      <td>177321.0</td>\n",
       "    </tr>\n",
       "    <tr>\n",
       "      <th>2</th>\n",
       "      <td>0</td>\n",
       "      <td>5</td>\n",
       "      <td>5</td>\n",
       "      <td>168890.0</td>\n",
       "    </tr>\n",
       "    <tr>\n",
       "      <th>3</th>\n",
       "      <td>0</td>\n",
       "      <td>8</td>\n",
       "      <td>4</td>\n",
       "      <td>339229.0</td>\n",
       "    </tr>\n",
       "    <tr>\n",
       "      <th>4</th>\n",
       "      <td>0</td>\n",
       "      <td>9</td>\n",
       "      <td>1</td>\n",
       "      <td>149787.0</td>\n",
       "    </tr>\n",
       "  </tbody>\n",
       "</table>\n",
       "</div>"
      ],
      "text/plain": [
       "   DistrictId  HouseFloor  Floor  MedianHouseFloorFloorPrice\n",
       "0           0           5      3                    167238.0\n",
       "1           0           5      4                    177321.0\n",
       "2           0           5      5                    168890.0\n",
       "3           0           8      4                    339229.0\n",
       "4           0           9      1                    149787.0"
      ]
     },
     "execution_count": 71,
     "metadata": {},
     "output_type": "execute_result"
    }
   ],
   "source": [
    "agg_data = train_df.groupby(['DistrictId', 'HouseFloor', 'Floor'])['Price'].median().round()\n",
    "agg_df = pd.DataFrame(agg_data) \n",
    "agg_df.reset_index(inplace=True)\n",
    "agg_df.rename(columns={'Price':'MedianHouseFloorFloorPrice'}, inplace=True)\n",
    "agg_df.head()"
   ]
  },
  {
   "cell_type": "code",
   "execution_count": 72,
   "id": "5b8bfd44",
   "metadata": {},
   "outputs": [
    {
     "data": {
      "text/html": [
       "<div>\n",
       "<style scoped>\n",
       "    .dataframe tbody tr th:only-of-type {\n",
       "        vertical-align: middle;\n",
       "    }\n",
       "\n",
       "    .dataframe tbody tr th {\n",
       "        vertical-align: top;\n",
       "    }\n",
       "\n",
       "    .dataframe thead th {\n",
       "        text-align: right;\n",
       "    }\n",
       "</style>\n",
       "<table border=\"1\" class=\"dataframe\">\n",
       "  <thead>\n",
       "    <tr style=\"text-align: right;\">\n",
       "      <th></th>\n",
       "      <th>Id</th>\n",
       "      <th>DistrictId</th>\n",
       "      <th>Rooms</th>\n",
       "      <th>Square</th>\n",
       "      <th>LifeSquare</th>\n",
       "      <th>KitchenSquare</th>\n",
       "      <th>Floor</th>\n",
       "      <th>HouseFloor</th>\n",
       "      <th>HouseYear</th>\n",
       "      <th>Ecology_1</th>\n",
       "      <th>...</th>\n",
       "      <th>Social_1</th>\n",
       "      <th>Social_2</th>\n",
       "      <th>Social_3</th>\n",
       "      <th>Healthcare_1</th>\n",
       "      <th>Helthcare_2</th>\n",
       "      <th>Shops_1</th>\n",
       "      <th>Shops_2</th>\n",
       "      <th>Price</th>\n",
       "      <th>MedianHouseFloorPrice</th>\n",
       "      <th>MedianHouseFloorFloorPrice</th>\n",
       "    </tr>\n",
       "  </thead>\n",
       "  <tbody>\n",
       "    <tr>\n",
       "      <th>0</th>\n",
       "      <td>14038</td>\n",
       "      <td>35</td>\n",
       "      <td>2</td>\n",
       "      <td>47</td>\n",
       "      <td>29</td>\n",
       "      <td>6</td>\n",
       "      <td>7</td>\n",
       "      <td>9</td>\n",
       "      <td>1969</td>\n",
       "      <td>0.089040</td>\n",
       "      <td>...</td>\n",
       "      <td>33</td>\n",
       "      <td>7976</td>\n",
       "      <td>5</td>\n",
       "      <td>900.0</td>\n",
       "      <td>0</td>\n",
       "      <td>11</td>\n",
       "      <td>B</td>\n",
       "      <td>184966.930730</td>\n",
       "      <td>198914.0</td>\n",
       "      <td>213685.0</td>\n",
       "    </tr>\n",
       "    <tr>\n",
       "      <th>1</th>\n",
       "      <td>15053</td>\n",
       "      <td>41</td>\n",
       "      <td>3</td>\n",
       "      <td>65</td>\n",
       "      <td>40</td>\n",
       "      <td>8</td>\n",
       "      <td>7</td>\n",
       "      <td>9</td>\n",
       "      <td>1978</td>\n",
       "      <td>0.000070</td>\n",
       "      <td>...</td>\n",
       "      <td>46</td>\n",
       "      <td>10309</td>\n",
       "      <td>1</td>\n",
       "      <td>240.0</td>\n",
       "      <td>1</td>\n",
       "      <td>16</td>\n",
       "      <td>B</td>\n",
       "      <td>300009.450063</td>\n",
       "      <td>207746.0</td>\n",
       "      <td>246774.0</td>\n",
       "    </tr>\n",
       "    <tr>\n",
       "      <th>2</th>\n",
       "      <td>4765</td>\n",
       "      <td>53</td>\n",
       "      <td>2</td>\n",
       "      <td>44</td>\n",
       "      <td>29</td>\n",
       "      <td>11</td>\n",
       "      <td>8</td>\n",
       "      <td>12</td>\n",
       "      <td>1968</td>\n",
       "      <td>0.049637</td>\n",
       "      <td>...</td>\n",
       "      <td>34</td>\n",
       "      <td>7759</td>\n",
       "      <td>0</td>\n",
       "      <td>229.0</td>\n",
       "      <td>1</td>\n",
       "      <td>3</td>\n",
       "      <td>B</td>\n",
       "      <td>220925.908524</td>\n",
       "      <td>264603.0</td>\n",
       "      <td>286621.0</td>\n",
       "    </tr>\n",
       "    <tr>\n",
       "      <th>3</th>\n",
       "      <td>5809</td>\n",
       "      <td>58</td>\n",
       "      <td>2</td>\n",
       "      <td>53</td>\n",
       "      <td>50</td>\n",
       "      <td>9</td>\n",
       "      <td>8</td>\n",
       "      <td>17</td>\n",
       "      <td>1977</td>\n",
       "      <td>0.437885</td>\n",
       "      <td>...</td>\n",
       "      <td>23</td>\n",
       "      <td>5735</td>\n",
       "      <td>3</td>\n",
       "      <td>1084.0</td>\n",
       "      <td>0</td>\n",
       "      <td>5</td>\n",
       "      <td>B</td>\n",
       "      <td>175616.227217</td>\n",
       "      <td>180055.0</td>\n",
       "      <td>178831.0</td>\n",
       "    </tr>\n",
       "    <tr>\n",
       "      <th>4</th>\n",
       "      <td>12915</td>\n",
       "      <td>59</td>\n",
       "      <td>3</td>\n",
       "      <td>80</td>\n",
       "      <td>46</td>\n",
       "      <td>12</td>\n",
       "      <td>5</td>\n",
       "      <td>17</td>\n",
       "      <td>2011</td>\n",
       "      <td>0.309479</td>\n",
       "      <td>...</td>\n",
       "      <td>35</td>\n",
       "      <td>7715</td>\n",
       "      <td>4</td>\n",
       "      <td>990.0</td>\n",
       "      <td>0</td>\n",
       "      <td>6</td>\n",
       "      <td>B</td>\n",
       "      <td>215898.447742</td>\n",
       "      <td>345059.0</td>\n",
       "      <td>215898.0</td>\n",
       "    </tr>\n",
       "  </tbody>\n",
       "</table>\n",
       "<p>5 rows × 22 columns</p>\n",
       "</div>"
      ],
      "text/plain": [
       "      Id  DistrictId  Rooms  Square  LifeSquare  KitchenSquare  Floor  \\\n",
       "0  14038          35      2      47          29              6      7   \n",
       "1  15053          41      3      65          40              8      7   \n",
       "2   4765          53      2      44          29             11      8   \n",
       "3   5809          58      2      53          50              9      8   \n",
       "4  12915          59      3      80          46             12      5   \n",
       "\n",
       "   HouseFloor  HouseYear  Ecology_1  ... Social_1 Social_2  Social_3  \\\n",
       "0           9       1969   0.089040  ...       33     7976         5   \n",
       "1           9       1978   0.000070  ...       46    10309         1   \n",
       "2          12       1968   0.049637  ...       34     7759         0   \n",
       "3          17       1977   0.437885  ...       23     5735         3   \n",
       "4          17       2011   0.309479  ...       35     7715         4   \n",
       "\n",
       "   Healthcare_1  Helthcare_2  Shops_1  Shops_2          Price  \\\n",
       "0         900.0            0       11        B  184966.930730   \n",
       "1         240.0            1       16        B  300009.450063   \n",
       "2         229.0            1        3        B  220925.908524   \n",
       "3        1084.0            0        5        B  175616.227217   \n",
       "4         990.0            0        6        B  215898.447742   \n",
       "\n",
       "  MedianHouseFloorPrice  MedianHouseFloorFloorPrice  \n",
       "0              198914.0                    213685.0  \n",
       "1              207746.0                    246774.0  \n",
       "2              264603.0                    286621.0  \n",
       "3              180055.0                    178831.0  \n",
       "4              345059.0                    215898.0  \n",
       "\n",
       "[5 rows x 22 columns]"
      ]
     },
     "execution_count": 72,
     "metadata": {},
     "output_type": "execute_result"
    }
   ],
   "source": [
    "merged_df = train_df.merge(agg_df, how='left', on=['DistrictId', 'HouseFloor', 'Floor'])\n",
    "train_df = merged_df\n",
    "merged_df.head()"
   ]
  },
  {
   "cell_type": "markdown",
   "id": "dfdff0f6",
   "metadata": {},
   "source": [
    "#### MedianSocial_1, MedianSocial_2"
   ]
  },
  {
   "cell_type": "markdown",
   "id": "0e704840",
   "metadata": {},
   "source": [
    "Находим медиану для Social_1 по округам"
   ]
  },
  {
   "cell_type": "code",
   "execution_count": 73,
   "id": "8c879878",
   "metadata": {},
   "outputs": [
    {
     "data": {
      "text/html": [
       "<div>\n",
       "<style scoped>\n",
       "    .dataframe tbody tr th:only-of-type {\n",
       "        vertical-align: middle;\n",
       "    }\n",
       "\n",
       "    .dataframe tbody tr th {\n",
       "        vertical-align: top;\n",
       "    }\n",
       "\n",
       "    .dataframe thead th {\n",
       "        text-align: right;\n",
       "    }\n",
       "</style>\n",
       "<table border=\"1\" class=\"dataframe\">\n",
       "  <thead>\n",
       "    <tr style=\"text-align: right;\">\n",
       "      <th></th>\n",
       "      <th>DistrictId</th>\n",
       "      <th>MedianSocial_1</th>\n",
       "    </tr>\n",
       "  </thead>\n",
       "  <tbody>\n",
       "    <tr>\n",
       "      <th>0</th>\n",
       "      <td>0</td>\n",
       "      <td>25.0</td>\n",
       "    </tr>\n",
       "    <tr>\n",
       "      <th>1</th>\n",
       "      <td>1</td>\n",
       "      <td>1.0</td>\n",
       "    </tr>\n",
       "    <tr>\n",
       "      <th>2</th>\n",
       "      <td>2</td>\n",
       "      <td>35.0</td>\n",
       "    </tr>\n",
       "    <tr>\n",
       "      <th>3</th>\n",
       "      <td>3</td>\n",
       "      <td>43.0</td>\n",
       "    </tr>\n",
       "    <tr>\n",
       "      <th>4</th>\n",
       "      <td>4</td>\n",
       "      <td>17.0</td>\n",
       "    </tr>\n",
       "  </tbody>\n",
       "</table>\n",
       "</div>"
      ],
      "text/plain": [
       "   DistrictId  MedianSocial_1\n",
       "0           0            25.0\n",
       "1           1             1.0\n",
       "2           2            35.0\n",
       "3           3            43.0\n",
       "4           4            17.0"
      ]
     },
     "execution_count": 73,
     "metadata": {},
     "output_type": "execute_result"
    }
   ],
   "source": [
    "agg_data = train_df.groupby(['DistrictId'])['Social_1'].median().round()\n",
    "agg_df = pd.DataFrame(agg_data) \n",
    "agg_df.reset_index(inplace=True)\n",
    "agg_df.rename(columns={'Social_1':'MedianSocial_1'}, inplace=True)\n",
    "agg_df.head()"
   ]
  },
  {
   "cell_type": "code",
   "execution_count": 74,
   "id": "47874c44",
   "metadata": {},
   "outputs": [],
   "source": [
    "merged_df = train_df.merge(agg_df, how='left', on=['DistrictId'])\n",
    "train_df = merged_df"
   ]
  },
  {
   "cell_type": "markdown",
   "id": "de63635c",
   "metadata": {},
   "source": [
    "Находим медиану для Social_2 по округам"
   ]
  },
  {
   "cell_type": "code",
   "execution_count": 75,
   "id": "416f163a",
   "metadata": {},
   "outputs": [
    {
     "data": {
      "text/html": [
       "<div>\n",
       "<style scoped>\n",
       "    .dataframe tbody tr th:only-of-type {\n",
       "        vertical-align: middle;\n",
       "    }\n",
       "\n",
       "    .dataframe tbody tr th {\n",
       "        vertical-align: top;\n",
       "    }\n",
       "\n",
       "    .dataframe thead th {\n",
       "        text-align: right;\n",
       "    }\n",
       "</style>\n",
       "<table border=\"1\" class=\"dataframe\">\n",
       "  <thead>\n",
       "    <tr style=\"text-align: right;\">\n",
       "      <th></th>\n",
       "      <th>DistrictId</th>\n",
       "      <th>MedianSocial_2</th>\n",
       "    </tr>\n",
       "  </thead>\n",
       "  <tbody>\n",
       "    <tr>\n",
       "      <th>0</th>\n",
       "      <td>0</td>\n",
       "      <td>4756.0</td>\n",
       "    </tr>\n",
       "    <tr>\n",
       "      <th>1</th>\n",
       "      <td>1</td>\n",
       "      <td>264.0</td>\n",
       "    </tr>\n",
       "    <tr>\n",
       "      <th>2</th>\n",
       "      <td>2</td>\n",
       "      <td>7715.0</td>\n",
       "    </tr>\n",
       "    <tr>\n",
       "      <th>3</th>\n",
       "      <td>3</td>\n",
       "      <td>10621.0</td>\n",
       "    </tr>\n",
       "    <tr>\n",
       "      <th>4</th>\n",
       "      <td>4</td>\n",
       "      <td>4334.0</td>\n",
       "    </tr>\n",
       "  </tbody>\n",
       "</table>\n",
       "</div>"
      ],
      "text/plain": [
       "   DistrictId  MedianSocial_2\n",
       "0           0          4756.0\n",
       "1           1           264.0\n",
       "2           2          7715.0\n",
       "3           3         10621.0\n",
       "4           4          4334.0"
      ]
     },
     "execution_count": 75,
     "metadata": {},
     "output_type": "execute_result"
    }
   ],
   "source": [
    "agg_data = train_df.groupby(['DistrictId'])['Social_2'].median().round()\n",
    "agg_df = pd.DataFrame(agg_data) \n",
    "agg_df.reset_index(inplace=True)\n",
    "agg_df.rename(columns={'Social_2':'MedianSocial_2'}, inplace=True)\n",
    "agg_df.head()"
   ]
  },
  {
   "cell_type": "code",
   "execution_count": 76,
   "id": "5bb260aa",
   "metadata": {},
   "outputs": [],
   "source": [
    "merged_df = train_df.merge(agg_df, how='left', on=['DistrictId'])\n",
    "train_df = merged_df"
   ]
  },
  {
   "cell_type": "markdown",
   "id": "4199439b",
   "metadata": {},
   "source": [
    "#### MedianHealthcare_1"
   ]
  },
  {
   "cell_type": "markdown",
   "id": "4250876c",
   "metadata": {},
   "source": [
    "Находим медиану для Healthcare_1 по округам"
   ]
  },
  {
   "cell_type": "code",
   "execution_count": 77,
   "id": "3fa950b3",
   "metadata": {},
   "outputs": [
    {
     "data": {
      "text/html": [
       "<div>\n",
       "<style scoped>\n",
       "    .dataframe tbody tr th:only-of-type {\n",
       "        vertical-align: middle;\n",
       "    }\n",
       "\n",
       "    .dataframe tbody tr th {\n",
       "        vertical-align: top;\n",
       "    }\n",
       "\n",
       "    .dataframe thead th {\n",
       "        text-align: right;\n",
       "    }\n",
       "</style>\n",
       "<table border=\"1\" class=\"dataframe\">\n",
       "  <thead>\n",
       "    <tr style=\"text-align: right;\">\n",
       "      <th></th>\n",
       "      <th>DistrictId</th>\n",
       "      <th>MedianHealthcare_1</th>\n",
       "    </tr>\n",
       "  </thead>\n",
       "  <tbody>\n",
       "    <tr>\n",
       "      <th>0</th>\n",
       "      <td>0</td>\n",
       "      <td>2857.0</td>\n",
       "    </tr>\n",
       "    <tr>\n",
       "      <th>1</th>\n",
       "      <td>1</td>\n",
       "      <td>900.0</td>\n",
       "    </tr>\n",
       "    <tr>\n",
       "      <th>2</th>\n",
       "      <td>2</td>\n",
       "      <td>990.0</td>\n",
       "    </tr>\n",
       "    <tr>\n",
       "      <th>3</th>\n",
       "      <td>3</td>\n",
       "      <td>30.0</td>\n",
       "    </tr>\n",
       "    <tr>\n",
       "      <th>4</th>\n",
       "      <td>4</td>\n",
       "      <td>2220.0</td>\n",
       "    </tr>\n",
       "  </tbody>\n",
       "</table>\n",
       "</div>"
      ],
      "text/plain": [
       "   DistrictId  MedianHealthcare_1\n",
       "0           0              2857.0\n",
       "1           1               900.0\n",
       "2           2               990.0\n",
       "3           3                30.0\n",
       "4           4              2220.0"
      ]
     },
     "execution_count": 77,
     "metadata": {},
     "output_type": "execute_result"
    }
   ],
   "source": [
    "agg_data = train_df.groupby(['DistrictId'])['Healthcare_1'].median().round()\n",
    "agg_df = pd.DataFrame(agg_data) \n",
    "agg_df.reset_index(inplace=True)\n",
    "agg_df.rename(columns={'Healthcare_1':'MedianHealthcare_1'}, inplace=True)\n",
    "agg_df.head()"
   ]
  },
  {
   "cell_type": "code",
   "execution_count": 78,
   "id": "d1316940",
   "metadata": {},
   "outputs": [],
   "source": [
    "merged_df = train_df.merge(agg_df, how='left', on=['DistrictId'])\n",
    "train_df = merged_df"
   ]
  },
  {
   "cell_type": "markdown",
   "id": "fc40b25b",
   "metadata": {},
   "source": [
    "#### PopulationDensity"
   ]
  },
  {
   "cell_type": "markdown",
   "id": "2593ee12",
   "metadata": {},
   "source": [
    "Создадим поле 'PopulationDensity' на основе иформации о кол-ве домов разной этажности в каждом округе"
   ]
  },
  {
   "cell_type": "code",
   "execution_count": 79,
   "id": "65181cd5",
   "metadata": {},
   "outputs": [],
   "source": [
    "agg_data = train_df.groupby(['DistrictId', 'HouseFloor'],as_index=False).size()\n",
    "agg_df = pd.DataFrame(agg_data)\n",
    "agg_df.rename(columns={'size':'Count'}, inplace=True)\n",
    "agg_df['PopulationDensity'] = agg_df['HouseFloor'] * agg_df['Count']\n",
    "agg_df = agg_df.groupby(['DistrictId']).agg({'PopulationDensity':'sum'}, as_index=False)\n",
    "agg_df.reset_index(inplace=True)"
   ]
  },
  {
   "cell_type": "code",
   "execution_count": 80,
   "id": "76128ba6",
   "metadata": {},
   "outputs": [
    {
     "data": {
      "text/html": [
       "<div>\n",
       "<style scoped>\n",
       "    .dataframe tbody tr th:only-of-type {\n",
       "        vertical-align: middle;\n",
       "    }\n",
       "\n",
       "    .dataframe tbody tr th {\n",
       "        vertical-align: top;\n",
       "    }\n",
       "\n",
       "    .dataframe thead th {\n",
       "        text-align: right;\n",
       "    }\n",
       "</style>\n",
       "<table border=\"1\" class=\"dataframe\">\n",
       "  <thead>\n",
       "    <tr style=\"text-align: right;\">\n",
       "      <th></th>\n",
       "      <th>Id</th>\n",
       "      <th>DistrictId</th>\n",
       "      <th>Rooms</th>\n",
       "      <th>Square</th>\n",
       "      <th>LifeSquare</th>\n",
       "      <th>KitchenSquare</th>\n",
       "      <th>Floor</th>\n",
       "      <th>HouseFloor</th>\n",
       "      <th>HouseYear</th>\n",
       "      <th>Ecology_1</th>\n",
       "      <th>...</th>\n",
       "      <th>Helthcare_2</th>\n",
       "      <th>Shops_1</th>\n",
       "      <th>Shops_2</th>\n",
       "      <th>Price</th>\n",
       "      <th>MedianHouseFloorPrice</th>\n",
       "      <th>MedianHouseFloorFloorPrice</th>\n",
       "      <th>MedianSocial_1</th>\n",
       "      <th>MedianSocial_2</th>\n",
       "      <th>MedianHealthcare_1</th>\n",
       "      <th>PopulationDensity</th>\n",
       "    </tr>\n",
       "  </thead>\n",
       "  <tbody>\n",
       "    <tr>\n",
       "      <th>0</th>\n",
       "      <td>14038</td>\n",
       "      <td>35</td>\n",
       "      <td>2</td>\n",
       "      <td>47</td>\n",
       "      <td>29</td>\n",
       "      <td>6</td>\n",
       "      <td>7</td>\n",
       "      <td>9</td>\n",
       "      <td>1969</td>\n",
       "      <td>0.089040</td>\n",
       "      <td>...</td>\n",
       "      <td>0</td>\n",
       "      <td>11</td>\n",
       "      <td>B</td>\n",
       "      <td>184966.930730</td>\n",
       "      <td>198914.0</td>\n",
       "      <td>213685.0</td>\n",
       "      <td>33.0</td>\n",
       "      <td>7976.0</td>\n",
       "      <td>900.0</td>\n",
       "      <td>144</td>\n",
       "    </tr>\n",
       "    <tr>\n",
       "      <th>1</th>\n",
       "      <td>15053</td>\n",
       "      <td>41</td>\n",
       "      <td>3</td>\n",
       "      <td>65</td>\n",
       "      <td>40</td>\n",
       "      <td>8</td>\n",
       "      <td>7</td>\n",
       "      <td>9</td>\n",
       "      <td>1978</td>\n",
       "      <td>0.000070</td>\n",
       "      <td>...</td>\n",
       "      <td>1</td>\n",
       "      <td>16</td>\n",
       "      <td>B</td>\n",
       "      <td>300009.450063</td>\n",
       "      <td>207746.0</td>\n",
       "      <td>246774.0</td>\n",
       "      <td>36.0</td>\n",
       "      <td>10055.0</td>\n",
       "      <td>900.0</td>\n",
       "      <td>679</td>\n",
       "    </tr>\n",
       "    <tr>\n",
       "      <th>2</th>\n",
       "      <td>4765</td>\n",
       "      <td>53</td>\n",
       "      <td>2</td>\n",
       "      <td>44</td>\n",
       "      <td>29</td>\n",
       "      <td>11</td>\n",
       "      <td>8</td>\n",
       "      <td>12</td>\n",
       "      <td>1968</td>\n",
       "      <td>0.049637</td>\n",
       "      <td>...</td>\n",
       "      <td>1</td>\n",
       "      <td>3</td>\n",
       "      <td>B</td>\n",
       "      <td>220925.908524</td>\n",
       "      <td>264603.0</td>\n",
       "      <td>286621.0</td>\n",
       "      <td>34.0</td>\n",
       "      <td>7759.0</td>\n",
       "      <td>229.0</td>\n",
       "      <td>1768</td>\n",
       "    </tr>\n",
       "    <tr>\n",
       "      <th>3</th>\n",
       "      <td>5809</td>\n",
       "      <td>58</td>\n",
       "      <td>2</td>\n",
       "      <td>53</td>\n",
       "      <td>50</td>\n",
       "      <td>9</td>\n",
       "      <td>8</td>\n",
       "      <td>17</td>\n",
       "      <td>1977</td>\n",
       "      <td>0.437885</td>\n",
       "      <td>...</td>\n",
       "      <td>0</td>\n",
       "      <td>5</td>\n",
       "      <td>B</td>\n",
       "      <td>175616.227217</td>\n",
       "      <td>180055.0</td>\n",
       "      <td>178831.0</td>\n",
       "      <td>23.0</td>\n",
       "      <td>5469.0</td>\n",
       "      <td>1084.0</td>\n",
       "      <td>1045</td>\n",
       "    </tr>\n",
       "    <tr>\n",
       "      <th>4</th>\n",
       "      <td>12915</td>\n",
       "      <td>59</td>\n",
       "      <td>3</td>\n",
       "      <td>80</td>\n",
       "      <td>46</td>\n",
       "      <td>12</td>\n",
       "      <td>5</td>\n",
       "      <td>17</td>\n",
       "      <td>2011</td>\n",
       "      <td>0.309479</td>\n",
       "      <td>...</td>\n",
       "      <td>0</td>\n",
       "      <td>6</td>\n",
       "      <td>B</td>\n",
       "      <td>215898.447742</td>\n",
       "      <td>345059.0</td>\n",
       "      <td>215898.0</td>\n",
       "      <td>37.0</td>\n",
       "      <td>7687.0</td>\n",
       "      <td>176.0</td>\n",
       "      <td>843</td>\n",
       "    </tr>\n",
       "  </tbody>\n",
       "</table>\n",
       "<p>5 rows × 26 columns</p>\n",
       "</div>"
      ],
      "text/plain": [
       "      Id  DistrictId  Rooms  Square  LifeSquare  KitchenSquare  Floor  \\\n",
       "0  14038          35      2      47          29              6      7   \n",
       "1  15053          41      3      65          40              8      7   \n",
       "2   4765          53      2      44          29             11      8   \n",
       "3   5809          58      2      53          50              9      8   \n",
       "4  12915          59      3      80          46             12      5   \n",
       "\n",
       "   HouseFloor  HouseYear  Ecology_1  ... Helthcare_2 Shops_1  Shops_2  \\\n",
       "0           9       1969   0.089040  ...           0      11        B   \n",
       "1           9       1978   0.000070  ...           1      16        B   \n",
       "2          12       1968   0.049637  ...           1       3        B   \n",
       "3          17       1977   0.437885  ...           0       5        B   \n",
       "4          17       2011   0.309479  ...           0       6        B   \n",
       "\n",
       "           Price  MedianHouseFloorPrice  MedianHouseFloorFloorPrice  \\\n",
       "0  184966.930730               198914.0                    213685.0   \n",
       "1  300009.450063               207746.0                    246774.0   \n",
       "2  220925.908524               264603.0                    286621.0   \n",
       "3  175616.227217               180055.0                    178831.0   \n",
       "4  215898.447742               345059.0                    215898.0   \n",
       "\n",
       "   MedianSocial_1  MedianSocial_2 MedianHealthcare_1  PopulationDensity  \n",
       "0            33.0          7976.0              900.0                144  \n",
       "1            36.0         10055.0              900.0                679  \n",
       "2            34.0          7759.0              229.0               1768  \n",
       "3            23.0          5469.0             1084.0               1045  \n",
       "4            37.0          7687.0              176.0                843  \n",
       "\n",
       "[5 rows x 26 columns]"
      ]
     },
     "execution_count": 80,
     "metadata": {},
     "output_type": "execute_result"
    }
   ],
   "source": [
    "train_df = train_df.merge(agg_df, on='DistrictId', how='left')\n",
    "train_df.head()"
   ]
  },
  {
   "cell_type": "markdown",
   "id": "4745fc2a",
   "metadata": {},
   "source": [
    "Оптимизируем набор данных"
   ]
  },
  {
   "cell_type": "code",
   "execution_count": 81,
   "id": "129e5bc8",
   "metadata": {},
   "outputs": [
    {
     "name": "stdout",
     "output_type": "stream",
     "text": [
      "<class 'pandas.core.frame.DataFrame'>\n",
      "Int64Index: 6081 entries, 0 to 6080\n",
      "Data columns (total 26 columns):\n",
      " #   Column                      Non-Null Count  Dtype  \n",
      "---  ------                      --------------  -----  \n",
      " 0   Id                          6081 non-null   int64  \n",
      " 1   DistrictId                  6081 non-null   int64  \n",
      " 2   Rooms                       6081 non-null   int16  \n",
      " 3   Square                      6081 non-null   int16  \n",
      " 4   LifeSquare                  6081 non-null   int64  \n",
      " 5   KitchenSquare               6081 non-null   int64  \n",
      " 6   Floor                       6081 non-null   int64  \n",
      " 7   HouseFloor                  6081 non-null   int16  \n",
      " 8   HouseYear                   6081 non-null   int64  \n",
      " 9   Ecology_1                   6081 non-null   float64\n",
      " 10  Ecology_2                   6081 non-null   object \n",
      " 11  Ecology_3                   6081 non-null   object \n",
      " 12  Social_1                    6081 non-null   int64  \n",
      " 13  Social_2                    6081 non-null   int64  \n",
      " 14  Social_3                    6081 non-null   int64  \n",
      " 15  Healthcare_1                6081 non-null   float64\n",
      " 16  Helthcare_2                 6081 non-null   int64  \n",
      " 17  Shops_1                     6081 non-null   int64  \n",
      " 18  Shops_2                     6081 non-null   object \n",
      " 19  Price                       6081 non-null   float64\n",
      " 20  MedianHouseFloorPrice       6081 non-null   float64\n",
      " 21  MedianHouseFloorFloorPrice  6081 non-null   float64\n",
      " 22  MedianSocial_1              6081 non-null   float64\n",
      " 23  MedianSocial_2              6081 non-null   float64\n",
      " 24  MedianHealthcare_1          6081 non-null   float64\n",
      " 25  PopulationDensity           6081 non-null   int64  \n",
      "dtypes: float64(8), int16(3), int64(12), object(3)\n",
      "memory usage: 1.1+ MB\n"
     ]
    }
   ],
   "source": [
    "train_df.info()"
   ]
  },
  {
   "cell_type": "code",
   "execution_count": 82,
   "id": "0827d153",
   "metadata": {},
   "outputs": [
    {
     "data": {
      "text/plain": [
       "['Ecology_2', 'Ecology_3', 'Shops_2']"
      ]
     },
     "execution_count": 82,
     "metadata": {},
     "output_type": "execute_result"
    }
   ],
   "source": [
    "cat_columns = train_df.select_dtypes(include='object').columns.tolist()\n",
    "cat_columns"
   ]
  },
  {
   "cell_type": "code",
   "execution_count": 83,
   "id": "801afcfe",
   "metadata": {},
   "outputs": [
    {
     "name": "stdout",
     "output_type": "stream",
     "text": [
      "Memory usage of dataframe is 1.01 MB\n",
      "Memory usage after optimization is: 0.37 MB\n",
      "Decreased by 63.8%\n"
     ]
    }
   ],
   "source": [
    "train_df.drop(columns=cat_columns, inplace=True)\n",
    "train_df = reduce_mem_usage(train_df)"
   ]
  },
  {
   "cell_type": "code",
   "execution_count": 84,
   "id": "9822b3cb",
   "metadata": {},
   "outputs": [
    {
     "name": "stdout",
     "output_type": "stream",
     "text": [
      "<class 'pandas.core.frame.DataFrame'>\n",
      "Int64Index: 6081 entries, 0 to 6080\n",
      "Data columns (total 23 columns):\n",
      " #   Column                      Non-Null Count  Dtype  \n",
      "---  ------                      --------------  -----  \n",
      " 0   Id                          6081 non-null   int16  \n",
      " 1   DistrictId                  6081 non-null   int16  \n",
      " 2   Rooms                       6081 non-null   int8   \n",
      " 3   Square                      6081 non-null   int16  \n",
      " 4   LifeSquare                  6081 non-null   int8   \n",
      " 5   KitchenSquare               6081 non-null   int16  \n",
      " 6   Floor                       6081 non-null   int8   \n",
      " 7   HouseFloor                  6081 non-null   int8   \n",
      " 8   HouseYear                   6081 non-null   int16  \n",
      " 9   Ecology_1                   6081 non-null   float32\n",
      " 10  Social_1                    6081 non-null   int8   \n",
      " 11  Social_2                    6081 non-null   int16  \n",
      " 12  Social_3                    6081 non-null   int16  \n",
      " 13  Healthcare_1                6081 non-null   float32\n",
      " 14  Helthcare_2                 6081 non-null   int8   \n",
      " 15  Shops_1                     6081 non-null   int8   \n",
      " 16  Price                       6081 non-null   float32\n",
      " 17  MedianHouseFloorPrice       6081 non-null   float32\n",
      " 18  MedianHouseFloorFloorPrice  6081 non-null   float32\n",
      " 19  MedianSocial_1              6081 non-null   float32\n",
      " 20  MedianSocial_2              6081 non-null   float32\n",
      " 21  MedianHealthcare_1          6081 non-null   float32\n",
      " 22  PopulationDensity           6081 non-null   int16  \n",
      "dtypes: float32(8), int16(8), int8(7)\n",
      "memory usage: 374.1 KB\n"
     ]
    }
   ],
   "source": [
    "train_df.info()"
   ]
  },
  {
   "cell_type": "markdown",
   "id": "ba69e6fa",
   "metadata": {},
   "source": [
    "****"
   ]
  },
  {
   "cell_type": "markdown",
   "id": "72f5fea1",
   "metadata": {},
   "source": [
    "### Отбор признаков <a class='anchor' id='feature_selecting'>"
   ]
  },
  {
   "cell_type": "markdown",
   "id": "6593ffac",
   "metadata": {},
   "source": [
    "Строим карту корреляций полученного набора"
   ]
  },
  {
   "cell_type": "code",
   "execution_count": 85,
   "id": "802fd85f",
   "metadata": {},
   "outputs": [
    {
     "data": {
      "text/plain": [
       "<AxesSubplot:title={'center':'Полученный набор'}>"
      ]
     },
     "execution_count": 85,
     "metadata": {},
     "output_type": "execute_result"
    },
    {
     "data": {
      "image/png": "[encoded data removed]",
      "text/plain": [
       "<Figure size 1008x1008 with 1 Axes>"
      ]
     },
     "metadata": {
      "needs_background": "light"
     },
     "output_type": "display_data"
    }
   ],
   "source": [
    "corr = train_df.corr(min_periods=5)\n",
    "plt.figure(figsize=(14,14))\n",
    "ax1 = plt.axes()\n",
    "ax1.set_title(\"Полученный набор\")\n",
    "sns.heatmap(corr, ax=ax1, cbar=False, square= True, annot=True, cmap='Greens')"
   ]
  },
  {
   "cell_type": "markdown",
   "id": "20b24a43",
   "metadata": {},
   "source": [
    "Странным образом снизилась корреляция между площадью и ценой?!"
   ]
  },
  {
   "cell_type": "code",
   "execution_count": 86,
   "id": "27cc93b2",
   "metadata": {},
   "outputs": [
    {
     "data": {
      "text/plain": [
       "['Id',\n",
       " 'DistrictId',\n",
       " 'Rooms',\n",
       " 'Square',\n",
       " 'LifeSquare',\n",
       " 'KitchenSquare',\n",
       " 'Floor',\n",
       " 'HouseFloor',\n",
       " 'HouseYear',\n",
       " 'Ecology_1',\n",
       " 'Social_1',\n",
       " 'Social_2',\n",
       " 'Social_3',\n",
       " 'Healthcare_1',\n",
       " 'Helthcare_2',\n",
       " 'Shops_1',\n",
       " 'Price',\n",
       " 'MedianHouseFloorPrice',\n",
       " 'MedianHouseFloorFloorPrice',\n",
       " 'MedianSocial_1',\n",
       " 'MedianSocial_2',\n",
       " 'MedianHealthcare_1',\n",
       " 'PopulationDensity']"
      ]
     },
     "execution_count": 86,
     "metadata": {},
     "output_type": "execute_result"
    }
   ],
   "source": [
    "train_df.columns.tolist()"
   ]
  },
  {
   "cell_type": "code",
   "execution_count": 87,
   "id": "3b5cfa93",
   "metadata": {},
   "outputs": [],
   "source": [
    "feature_names = ['DistrictId', 'Rooms', 'Square', 'LifeSquare', \\\n",
    "                 'KitchenSquare', 'Floor', 'HouseFloor', 'HouseYear', \\\n",
    "                 'Ecology_1', 'Social_1', 'Social_2', 'Social_3', 'Healthcare_1', \\\n",
    "                 'Helthcare_2', 'Shops_1', 'MedianSocial_1', 'MedianSocial_2', \\\n",
    "                 'MedianHealthcare_1', \\\n",
    "                 'PopulationDensity', 'MedianHouseFloorPrice', 'MedianHouseFloorFloorPrice']\n",
    "\n",
    "target_name = 'Price'"
   ]
  },
  {
   "cell_type": "code",
   "execution_count": 88,
   "id": "dc001cfe",
   "metadata": {},
   "outputs": [
    {
     "data": {
      "text/plain": [
       "((6081, 23), (5000, 19))"
      ]
     },
     "execution_count": 88,
     "metadata": {},
     "output_type": "execute_result"
    }
   ],
   "source": [
    "train_df.shape, test_df.shape"
   ]
  },
  {
   "cell_type": "markdown",
   "id": "cc00d84a",
   "metadata": {},
   "source": [
    "****"
   ]
  },
  {
   "cell_type": "markdown",
   "id": "c8923e25",
   "metadata": {},
   "source": [
    "### Разбиение на train и test <a class='anchor' id='split'>"
   ]
  },
  {
   "cell_type": "code",
   "execution_count": 89,
   "id": "462f517f",
   "metadata": {},
   "outputs": [],
   "source": [
    "X = train_df[feature_names]\n",
    "y = train_df[target_name]"
   ]
  },
  {
   "cell_type": "code",
   "execution_count": 90,
   "id": "8c9e2748",
   "metadata": {},
   "outputs": [],
   "source": [
    "X_train, X_test, y_train, y_test = train_test_split(\n",
    "    X, y, test_size=0.33, shuffle=True, random_state=21\n",
    ")"
   ]
  },
  {
   "cell_type": "code",
   "execution_count": 91,
   "id": "ebcf15fe",
   "metadata": {},
   "outputs": [
    {
     "name": "stdout",
     "output_type": "stream",
     "text": [
      "<class 'pandas.core.frame.DataFrame'>\n",
      "Int64Index: 6081 entries, 0 to 6080\n",
      "Data columns (total 21 columns):\n",
      " #   Column                      Non-Null Count  Dtype  \n",
      "---  ------                      --------------  -----  \n",
      " 0   DistrictId                  6081 non-null   int16  \n",
      " 1   Rooms                       6081 non-null   int8   \n",
      " 2   Square                      6081 non-null   int16  \n",
      " 3   LifeSquare                  6081 non-null   int8   \n",
      " 4   KitchenSquare               6081 non-null   int16  \n",
      " 5   Floor                       6081 non-null   int8   \n",
      " 6   HouseFloor                  6081 non-null   int8   \n",
      " 7   HouseYear                   6081 non-null   int16  \n",
      " 8   Ecology_1                   6081 non-null   float32\n",
      " 9   Social_1                    6081 non-null   int8   \n",
      " 10  Social_2                    6081 non-null   int16  \n",
      " 11  Social_3                    6081 non-null   int16  \n",
      " 12  Healthcare_1                6081 non-null   float32\n",
      " 13  Helthcare_2                 6081 non-null   int8   \n",
      " 14  Shops_1                     6081 non-null   int8   \n",
      " 15  MedianSocial_1              6081 non-null   float32\n",
      " 16  MedianSocial_2              6081 non-null   float32\n",
      " 17  MedianHealthcare_1          6081 non-null   float32\n",
      " 18  PopulationDensity           6081 non-null   int16  \n",
      " 19  MedianHouseFloorPrice       6081 non-null   float32\n",
      " 20  MedianHouseFloorFloorPrice  6081 non-null   float32\n",
      "dtypes: float32(7), int16(7), int8(7)\n",
      "memory usage: 338.5 KB\n"
     ]
    }
   ],
   "source": [
    "X.info()"
   ]
  },
  {
   "cell_type": "markdown",
   "id": "82caae4a",
   "metadata": {},
   "source": [
    "****"
   ]
  },
  {
   "cell_type": "markdown",
   "id": "d237da3c",
   "metadata": {},
   "source": [
    "### Построение модели <a class='anchor' id='new_model'>"
   ]
  },
  {
   "cell_type": "markdown",
   "id": "c4b975bb",
   "metadata": {},
   "source": [
    "#### GradientBoostingRegressor"
   ]
  },
  {
   "cell_type": "code",
   "execution_count": 92,
   "id": "34f83ac6",
   "metadata": {},
   "outputs": [],
   "source": [
    "gb_model = GradientBoostingRegressor(criterion='mse',\n",
    "                                     max_depth=8,\n",
    "                                     min_samples_leaf=10,\n",
    "                                     random_state=42,  \n",
    "                                     n_estimators=100)\n"
   ]
  },
  {
   "cell_type": "code",
   "execution_count": 93,
   "id": "baee3084",
   "metadata": {},
   "outputs": [
    {
     "name": "stdout",
     "output_type": "stream",
     "text": [
      "Train R2:\t0.967\n",
      "Test R2:\t0.882\n"
     ]
    },
    {
     "data": {
      "image/png": "[encoded data removed]",
      "text/plain": [
       "<Figure size 1296x720 with 2 Axes>"
      ]
     },
     "metadata": {
      "needs_background": "light"
     },
     "output_type": "display_data"
    }
   ],
   "source": [
    "y_train_preds, y_test_preds = create_model(X_train, y_train, X_test, y_test, gb_model)\n",
    "evaluate_preds(y_train, y_train_preds, y_test, y_test_preds)"
   ]
  },
  {
   "cell_type": "markdown",
   "id": "b9c26150",
   "metadata": {},
   "source": [
    "Я получил:\n",
    "* Train R2:\t0.967\n",
    "* Test R2:\t0.882 - неплохо"
   ]
  },
  {
   "cell_type": "markdown",
   "id": "c88c54ed",
   "metadata": {},
   "source": [
    "#### Кросс-валидация <a class='anchor' id='validation'>"
   ]
  },
  {
   "cell_type": "code",
   "execution_count": 94,
   "id": "7caa969e",
   "metadata": {},
   "outputs": [
    {
     "data": {
      "text/plain": [
       "array([0.88949356, 0.87358903, 0.88209029, 0.88621239, 0.87396638])"
      ]
     },
     "execution_count": 94,
     "metadata": {},
     "output_type": "execute_result"
    }
   ],
   "source": [
    "cv_score = cross_val_score(gb_model,\n",
    "                X.fillna(-9999),\n",
    "                y, scoring='r2',\n",
    "                cv=KFold(n_splits=5, shuffle=True, random_state=21)\n",
    "            )\n",
    "cv_score"
   ]
  },
  {
   "cell_type": "code",
   "execution_count": 95,
   "id": "688af989",
   "metadata": {},
   "outputs": [
    {
     "data": {
      "text/plain": [
       "(0.881070332518264, 0.006401060309845192)"
      ]
     },
     "execution_count": 95,
     "metadata": {},
     "output_type": "execute_result"
    }
   ],
   "source": [
    "cv_score.mean(), cv_score.std()"
   ]
  },
  {
   "cell_type": "code",
   "execution_count": 96,
   "id": "727829e2",
   "metadata": {},
   "outputs": [
    {
     "data": {
      "text/plain": [
       "(0.8746692722084188, 0.8874713928281093)"
      ]
     },
     "execution_count": 96,
     "metadata": {},
     "output_type": "execute_result"
    }
   ],
   "source": [
    "cv_score.mean() - cv_score.std(), cv_score.mean() + cv_score.std()"
   ]
  },
  {
   "cell_type": "markdown",
   "id": "2e2611a8",
   "metadata": {},
   "source": [
    "Вроде норм, в 0.6 укладываемся."
   ]
  },
  {
   "cell_type": "markdown",
   "id": "f148860c",
   "metadata": {},
   "source": [
    "#### Важность признаков <a class='anchor' id='gravity'>"
   ]
  },
  {
   "cell_type": "code",
   "execution_count": 97,
   "id": "7401e0cc",
   "metadata": {},
   "outputs": [
    {
     "data": {
      "text/html": [
       "<div>\n",
       "<style scoped>\n",
       "    .dataframe tbody tr th:only-of-type {\n",
       "        vertical-align: middle;\n",
       "    }\n",
       "\n",
       "    .dataframe tbody tr th {\n",
       "        vertical-align: top;\n",
       "    }\n",
       "\n",
       "    .dataframe thead th {\n",
       "        text-align: right;\n",
       "    }\n",
       "</style>\n",
       "<table border=\"1\" class=\"dataframe\">\n",
       "  <thead>\n",
       "    <tr style=\"text-align: right;\">\n",
       "      <th></th>\n",
       "      <th>Feature_name</th>\n",
       "      <th>Gravity</th>\n",
       "    </tr>\n",
       "  </thead>\n",
       "  <tbody>\n",
       "    <tr>\n",
       "      <th>20</th>\n",
       "      <td>MedianHouseFloorFloorPrice</td>\n",
       "      <td>0.890101</td>\n",
       "    </tr>\n",
       "    <tr>\n",
       "      <th>2</th>\n",
       "      <td>Square</td>\n",
       "      <td>0.031945</td>\n",
       "    </tr>\n",
       "    <tr>\n",
       "      <th>7</th>\n",
       "      <td>HouseYear</td>\n",
       "      <td>0.010572</td>\n",
       "    </tr>\n",
       "    <tr>\n",
       "      <th>1</th>\n",
       "      <td>Rooms</td>\n",
       "      <td>0.009607</td>\n",
       "    </tr>\n",
       "    <tr>\n",
       "      <th>19</th>\n",
       "      <td>MedianHouseFloorPrice</td>\n",
       "      <td>0.007236</td>\n",
       "    </tr>\n",
       "    <tr>\n",
       "      <th>3</th>\n",
       "      <td>LifeSquare</td>\n",
       "      <td>0.007091</td>\n",
       "    </tr>\n",
       "    <tr>\n",
       "      <th>12</th>\n",
       "      <td>Healthcare_1</td>\n",
       "      <td>0.005212</td>\n",
       "    </tr>\n",
       "    <tr>\n",
       "      <th>18</th>\n",
       "      <td>PopulationDensity</td>\n",
       "      <td>0.004890</td>\n",
       "    </tr>\n",
       "    <tr>\n",
       "      <th>8</th>\n",
       "      <td>Ecology_1</td>\n",
       "      <td>0.004382</td>\n",
       "    </tr>\n",
       "    <tr>\n",
       "      <th>4</th>\n",
       "      <td>KitchenSquare</td>\n",
       "      <td>0.003696</td>\n",
       "    </tr>\n",
       "    <tr>\n",
       "      <th>10</th>\n",
       "      <td>Social_2</td>\n",
       "      <td>0.003485</td>\n",
       "    </tr>\n",
       "    <tr>\n",
       "      <th>11</th>\n",
       "      <td>Social_3</td>\n",
       "      <td>0.002962</td>\n",
       "    </tr>\n",
       "    <tr>\n",
       "      <th>9</th>\n",
       "      <td>Social_1</td>\n",
       "      <td>0.002919</td>\n",
       "    </tr>\n",
       "    <tr>\n",
       "      <th>0</th>\n",
       "      <td>DistrictId</td>\n",
       "      <td>0.002856</td>\n",
       "    </tr>\n",
       "    <tr>\n",
       "      <th>5</th>\n",
       "      <td>Floor</td>\n",
       "      <td>0.002622</td>\n",
       "    </tr>\n",
       "    <tr>\n",
       "      <th>6</th>\n",
       "      <td>HouseFloor</td>\n",
       "      <td>0.002523</td>\n",
       "    </tr>\n",
       "    <tr>\n",
       "      <th>14</th>\n",
       "      <td>Shops_1</td>\n",
       "      <td>0.002187</td>\n",
       "    </tr>\n",
       "    <tr>\n",
       "      <th>13</th>\n",
       "      <td>Helthcare_2</td>\n",
       "      <td>0.001694</td>\n",
       "    </tr>\n",
       "    <tr>\n",
       "      <th>17</th>\n",
       "      <td>MedianHealthcare_1</td>\n",
       "      <td>0.001666</td>\n",
       "    </tr>\n",
       "    <tr>\n",
       "      <th>16</th>\n",
       "      <td>MedianSocial_2</td>\n",
       "      <td>0.001446</td>\n",
       "    </tr>\n",
       "    <tr>\n",
       "      <th>15</th>\n",
       "      <td>MedianSocial_1</td>\n",
       "      <td>0.000906</td>\n",
       "    </tr>\n",
       "  </tbody>\n",
       "</table>\n",
       "</div>"
      ],
      "text/plain": [
       "                  Feature_name   Gravity\n",
       "20  MedianHouseFloorFloorPrice  0.890101\n",
       "2                       Square  0.031945\n",
       "7                    HouseYear  0.010572\n",
       "1                        Rooms  0.009607\n",
       "19       MedianHouseFloorPrice  0.007236\n",
       "3                   LifeSquare  0.007091\n",
       "12                Healthcare_1  0.005212\n",
       "18           PopulationDensity  0.004890\n",
       "8                    Ecology_1  0.004382\n",
       "4                KitchenSquare  0.003696\n",
       "10                    Social_2  0.003485\n",
       "11                    Social_3  0.002962\n",
       "9                     Social_1  0.002919\n",
       "0                   DistrictId  0.002856\n",
       "5                        Floor  0.002622\n",
       "6                   HouseFloor  0.002523\n",
       "14                     Shops_1  0.002187\n",
       "13                 Helthcare_2  0.001694\n",
       "17          MedianHealthcare_1  0.001666\n",
       "16              MedianSocial_2  0.001446\n",
       "15              MedianSocial_1  0.000906"
      ]
     },
     "execution_count": 97,
     "metadata": {},
     "output_type": "execute_result"
    }
   ],
   "source": [
    "feature_importances = pd.DataFrame(zip(X_train.columns, gb_model.feature_importances_), \n",
    "                                   columns=['Feature_name', 'Gravity'])\n",
    "\n",
    "feature_importances.sort_values(by='Gravity', ascending=False)"
   ]
  },
  {
   "cell_type": "markdown",
   "id": "3f922ddc",
   "metadata": {},
   "source": [
    "Как видно, зависимость стоимости от округа, этажа и этажности дома даёт максимальный вклад "
   ]
  },
  {
   "cell_type": "markdown",
   "id": "cac6f04c",
   "metadata": {},
   "source": [
    "****"
   ]
  },
  {
   "cell_type": "markdown",
   "id": "aef5e161",
   "metadata": {},
   "source": [
    "### Формирование файла с прогнозами <a class='anchor' id='output_file'>"
   ]
  },
  {
   "cell_type": "code",
   "execution_count": 98,
   "id": "0fb3ef6a",
   "metadata": {},
   "outputs": [],
   "source": [
    "test_id = test_df[\"Id\"]\n",
    "pred_df = pd.DataFrame()\n",
    "pred_df[\"Id\"] = test_id\n",
    "pred_df[\"Price\"] = np.random.randint(0, 1e6, size=test_id.shape[0])\n",
    "assert pred_df.shape[0] == 5000, f\"Real pred-shape = {pred_df.shape[0]}, Expected pred-shape = 5000\"\n",
    "\n",
    "pred_df.to_csv(\"./DGromov_predictions.csv\", index=False)"
   ]
  },
  {
   "cell_type": "code",
   "execution_count": 99,
   "id": "fdd9c8d6",
   "metadata": {},
   "outputs": [
    {
     "data": {
      "text/html": [
       "<div>\n",
       "<style scoped>\n",
       "    .dataframe tbody tr th:only-of-type {\n",
       "        vertical-align: middle;\n",
       "    }\n",
       "\n",
       "    .dataframe tbody tr th {\n",
       "        vertical-align: top;\n",
       "    }\n",
       "\n",
       "    .dataframe thead th {\n",
       "        text-align: right;\n",
       "    }\n",
       "</style>\n",
       "<table border=\"1\" class=\"dataframe\">\n",
       "  <thead>\n",
       "    <tr style=\"text-align: right;\">\n",
       "      <th></th>\n",
       "      <th>Id</th>\n",
       "      <th>Price</th>\n",
       "    </tr>\n",
       "  </thead>\n",
       "  <tbody>\n",
       "    <tr>\n",
       "      <th>0</th>\n",
       "      <td>725</td>\n",
       "      <td>540789</td>\n",
       "    </tr>\n",
       "    <tr>\n",
       "      <th>1</th>\n",
       "      <td>15856</td>\n",
       "      <td>981946</td>\n",
       "    </tr>\n",
       "  </tbody>\n",
       "</table>\n",
       "</div>"
      ],
      "text/plain": [
       "      Id   Price\n",
       "0    725  540789\n",
       "1  15856  981946"
      ]
     },
     "execution_count": 99,
     "metadata": {},
     "output_type": "execute_result"
    }
   ],
   "source": [
    "pred_df = pd.read_csv(\"./DGromov_predictions.csv\")\n",
    "pred_df.head(n=2)"
   ]
  },
  {
   "cell_type": "code",
   "execution_count": 100,
   "id": "4c28478f",
   "metadata": {},
   "outputs": [
    {
     "data": {
      "text/plain": [
       "5000"
      ]
     },
     "execution_count": 100,
     "metadata": {},
     "output_type": "execute_result"
    }
   ],
   "source": [
    "test_df.shape[0]"
   ]
  }
 ],
 "metadata": {
  "kernelspec": {
   "display_name": "Python 3",
   "language": "python",
   "name": "python3"
  },
  "language_info": {
   "codemirror_mode": {
    "name": "ipython",
    "version": 3
   },
   "file_extension": ".py",
   "mimetype": "text/x-python",
   "name": "python",
   "nbconvert_exporter": "python",
   "pygments_lexer": "ipython3",
   "version": "3.8.10"
  }
 },
 "nbformat": 4,
 "nbformat_minor": 5
}
